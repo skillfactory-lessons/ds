{
 "cells": [
  {
   "cell_type": "markdown",
   "execution_count": null,
   "metadata": {},
   "source": [
    "![](https://www.pata.org/wp-content/uploads/2014/09/TripAdvisor_Logo-300x119.png)\n",
    "# Predict TripAdvisor Rating\n",
    "## В этом соревновании нам предстоит предсказать рейтинг ресторана в TripAdvisor"
   ]
  },
  {
   "cell_type": "markdown",
   "execution_count": null,
   "metadata": {},
   "source": [
    "# import"
   ]
  },
  {
   "cell_type": "code",
   "execution_count": 1,
   "metadata": {
    "_cell_guid": "b1076dfc-b9ad-4769-8c92-a6c4dae69d19",
    "_uuid": "8f2839f25d086af736a60e9eeb907d3b93b6e0e5"
   },
   "outputs": [
    {
     "name": "stdout",
     "output_type": "stream",
     "text": [
      "/kaggle/input/sf-dst-restaurant-rating/kaggle_task.csv\n",
      "/kaggle/input/sf-dst-restaurant-rating/main_task.csv\n",
      "/kaggle/input/sf-dst-restaurant-rating/sample_submission.csv\n"
     ]
    }
   ],
   "source": [
    "# This Python 3 environment comes with many helpful analytics libraries installed\n",
    "# It is defined by the kaggle/python docker image: https://github.com/kaggle/docker-python\n",
    "# For example, here's several helpful packages to load in \n",
    "\n",
    "import re\n",
    "import numpy as np # linear algebra\n",
    "import pandas as pd # data processing, CSV file I/O (e.g. pd.read_csv)\n",
    "\n",
    "import matplotlib.pyplot as plt\n",
    "import seaborn as sns \n",
    "from collections import Counter\n",
    "from datetime import datetime\n",
    "from sklearn.preprocessing import StandardScaler, LabelEncoder\n",
    "%matplotlib inline\n",
    "\n",
    "# Загружаем специальный удобный инструмент для разделения датасета:\n",
    "from sklearn.model_selection import train_test_split\n",
    "\n",
    "# Input data files are available in the \"../input/\" directory.\n",
    "# For example, running this (by clicking run or pressing Shift+Enter) will list all files under the input directory\n",
    "\n",
    "import os\n",
    "for dirname, _, filenames in os.walk('/kaggle/input'):\n",
    "    for filename in filenames:\n",
    "        print(os.path.join(dirname, filename))\n",
    "\n",
    "# Any results you write to the current directory are saved as output."
   ]
  },
  {
   "cell_type": "code",
   "execution_count": 2,
   "metadata": {},
   "outputs": [],
   "source": [
    "# всегда фиксируйте RANDOM_SEED, чтобы ваши эксперименты были воспроизводимы!\n",
    "RANDOM_SEED = 42"
   ]
  },
  {
   "cell_type": "code",
   "execution_count": 3,
   "metadata": {},
   "outputs": [],
   "source": [
    "# зафиксируем версию пакетов, чтобы эксперименты были воспроизводимы:\n",
    "!pip freeze > requirements.txt"
   ]
  },
  {
   "cell_type": "code",
   "execution_count": 4,
   "metadata": {},
   "outputs": [],
   "source": [
    "class BoxAnalysis():\n",
    "    '''Вох анализ с основными показателями'''\n",
    "\n",
    "    def __init__(self, df, column):\n",
    "        self.df = df\n",
    "        self.column = column\n",
    "\n",
    "    def perc25(self):\n",
    "        return self.df[self.column].quantile(0.25)\n",
    "\n",
    "    def perc75(self):\n",
    "        return self.df[self.column].quantile(0.75)\n",
    "\n",
    "    def iqr(self):\n",
    "        return self.perc75() - self.perc25()\n",
    "\n",
    "    def left(self):\n",
    "        return self.perc25() - 1.5 * self.iqr()\n",
    "\n",
    "    def right(self):\n",
    "        return self.perc75() + 1.5 * self.iqr()\n",
    "\n",
    "    def __str__(self):\n",
    "        return '25%: {}, 75%: {}, IQR: {}, Range: [{}, {}].'.format(\n",
    "            self.perc25(), self.perc75(), self.iqr(),\n",
    "            self.left(), self.right())\n",
    "\n",
    "    def __repr__(self):\n",
    "        return self.__str__()"
   ]
  },
  {
   "cell_type": "markdown",
   "execution_count": null,
   "metadata": {},
   "source": [
    "# DATA"
   ]
  },
  {
   "cell_type": "code",
   "execution_count": 5,
   "metadata": {
    "_cell_guid": "79c7e3d0-c299-4dcb-8224-4455121ee9b0",
    "_uuid": "d629ff2d2480ee46fbb7e2d37f6b5fab8052498a"
   },
   "outputs": [],
   "source": [
    "DATA_DIR = '/kaggle/input/sf-dst-restaurant-rating/'\n",
    "df_train = pd.read_csv(DATA_DIR+'/main_task.csv')\n",
    "df_test = pd.read_csv(DATA_DIR+'kaggle_task.csv')\n",
    "sample_submission = pd.read_csv(DATA_DIR+'/sample_submission.csv')"
   ]
  },
  {
   "cell_type": "code",
   "execution_count": 6,
   "metadata": {},
   "outputs": [
    {
     "name": "stdout",
     "output_type": "stream",
     "text": [
      "<class 'pandas.core.frame.DataFrame'>\n",
      "RangeIndex: 40000 entries, 0 to 39999\n",
      "Data columns (total 10 columns):\n",
      "Restaurant_id        40000 non-null object\n",
      "City                 40000 non-null object\n",
      "Cuisine Style        30717 non-null object\n",
      "Ranking              40000 non-null float64\n",
      "Rating               40000 non-null float64\n",
      "Price Range          26114 non-null object\n",
      "Number of Reviews    37457 non-null float64\n",
      "Reviews              40000 non-null object\n",
      "URL_TA               40000 non-null object\n",
      "ID_TA                40000 non-null object\n",
      "dtypes: float64(3), object(7)\n",
      "memory usage: 3.1+ MB\n"
     ]
    }
   ],
   "source": [
    "df_train.info()"
   ]
  },
  {
   "cell_type": "code",
   "execution_count": 7,
   "metadata": {},
   "outputs": [
    {
     "data": {
      "text/html": [
       "<div>\n",
       "<style scoped>\n",
       "    .dataframe tbody tr th:only-of-type {\n",
       "        vertical-align: middle;\n",
       "    }\n",
       "\n",
       "    .dataframe tbody tr th {\n",
       "        vertical-align: top;\n",
       "    }\n",
       "\n",
       "    .dataframe thead th {\n",
       "        text-align: right;\n",
       "    }\n",
       "</style>\n",
       "<table border=\"1\" class=\"dataframe\">\n",
       "  <thead>\n",
       "    <tr style=\"text-align: right;\">\n",
       "      <th></th>\n",
       "      <th>Restaurant_id</th>\n",
       "      <th>City</th>\n",
       "      <th>Cuisine Style</th>\n",
       "      <th>Ranking</th>\n",
       "      <th>Rating</th>\n",
       "      <th>Price Range</th>\n",
       "      <th>Number of Reviews</th>\n",
       "      <th>Reviews</th>\n",
       "      <th>URL_TA</th>\n",
       "      <th>ID_TA</th>\n",
       "    </tr>\n",
       "  </thead>\n",
       "  <tbody>\n",
       "    <tr>\n",
       "      <th>0</th>\n",
       "      <td>id_5569</td>\n",
       "      <td>Paris</td>\n",
       "      <td>['European', 'French', 'International']</td>\n",
       "      <td>5570.0</td>\n",
       "      <td>3.5</td>\n",
       "      <td>$$ - $$$</td>\n",
       "      <td>194.0</td>\n",
       "      <td>[['Good food at your doorstep', 'A good hotel ...</td>\n",
       "      <td>/Restaurant_Review-g187147-d1912643-Reviews-R_...</td>\n",
       "      <td>d1912643</td>\n",
       "    </tr>\n",
       "    <tr>\n",
       "      <th>1</th>\n",
       "      <td>id_1535</td>\n",
       "      <td>Stockholm</td>\n",
       "      <td>NaN</td>\n",
       "      <td>1537.0</td>\n",
       "      <td>4.0</td>\n",
       "      <td>NaN</td>\n",
       "      <td>10.0</td>\n",
       "      <td>[['Unique cuisine', 'Delicious Nepalese food']...</td>\n",
       "      <td>/Restaurant_Review-g189852-d7992032-Reviews-Bu...</td>\n",
       "      <td>d7992032</td>\n",
       "    </tr>\n",
       "    <tr>\n",
       "      <th>2</th>\n",
       "      <td>id_352</td>\n",
       "      <td>London</td>\n",
       "      <td>['Japanese', 'Sushi', 'Asian', 'Grill', 'Veget...</td>\n",
       "      <td>353.0</td>\n",
       "      <td>4.5</td>\n",
       "      <td>$$$$</td>\n",
       "      <td>688.0</td>\n",
       "      <td>[['Catch up with friends', 'Not exceptional'],...</td>\n",
       "      <td>/Restaurant_Review-g186338-d8632781-Reviews-RO...</td>\n",
       "      <td>d8632781</td>\n",
       "    </tr>\n",
       "    <tr>\n",
       "      <th>3</th>\n",
       "      <td>id_3456</td>\n",
       "      <td>Berlin</td>\n",
       "      <td>NaN</td>\n",
       "      <td>3458.0</td>\n",
       "      <td>5.0</td>\n",
       "      <td>NaN</td>\n",
       "      <td>3.0</td>\n",
       "      <td>[[], []]</td>\n",
       "      <td>/Restaurant_Review-g187323-d1358776-Reviews-Es...</td>\n",
       "      <td>d1358776</td>\n",
       "    </tr>\n",
       "    <tr>\n",
       "      <th>4</th>\n",
       "      <td>id_615</td>\n",
       "      <td>Munich</td>\n",
       "      <td>['German', 'Central European', 'Vegetarian Fri...</td>\n",
       "      <td>621.0</td>\n",
       "      <td>4.0</td>\n",
       "      <td>$$ - $$$</td>\n",
       "      <td>84.0</td>\n",
       "      <td>[['Best place to try a Bavarian food', 'Nice b...</td>\n",
       "      <td>/Restaurant_Review-g187309-d6864963-Reviews-Au...</td>\n",
       "      <td>d6864963</td>\n",
       "    </tr>\n",
       "  </tbody>\n",
       "</table>\n",
       "</div>"
      ],
      "text/plain": [
       "  Restaurant_id       City                                      Cuisine Style  \\\n",
       "0       id_5569      Paris            ['European', 'French', 'International']   \n",
       "1       id_1535  Stockholm                                                NaN   \n",
       "2        id_352     London  ['Japanese', 'Sushi', 'Asian', 'Grill', 'Veget...   \n",
       "3       id_3456     Berlin                                                NaN   \n",
       "4        id_615     Munich  ['German', 'Central European', 'Vegetarian Fri...   \n",
       "\n",
       "   Ranking  Rating Price Range  Number of Reviews  \\\n",
       "0   5570.0     3.5    $$ - $$$              194.0   \n",
       "1   1537.0     4.0         NaN               10.0   \n",
       "2    353.0     4.5        $$$$              688.0   \n",
       "3   3458.0     5.0         NaN                3.0   \n",
       "4    621.0     4.0    $$ - $$$               84.0   \n",
       "\n",
       "                                             Reviews  \\\n",
       "0  [['Good food at your doorstep', 'A good hotel ...   \n",
       "1  [['Unique cuisine', 'Delicious Nepalese food']...   \n",
       "2  [['Catch up with friends', 'Not exceptional'],...   \n",
       "3                                           [[], []]   \n",
       "4  [['Best place to try a Bavarian food', 'Nice b...   \n",
       "\n",
       "                                              URL_TA     ID_TA  \n",
       "0  /Restaurant_Review-g187147-d1912643-Reviews-R_...  d1912643  \n",
       "1  /Restaurant_Review-g189852-d7992032-Reviews-Bu...  d7992032  \n",
       "2  /Restaurant_Review-g186338-d8632781-Reviews-RO...  d8632781  \n",
       "3  /Restaurant_Review-g187323-d1358776-Reviews-Es...  d1358776  \n",
       "4  /Restaurant_Review-g187309-d6864963-Reviews-Au...  d6864963  "
      ]
     },
     "execution_count": 7,
     "metadata": {},
     "output_type": "execute_result"
    }
   ],
   "source": [
    "df_train.head(5)"
   ]
  },
  {
   "cell_type": "code",
   "execution_count": 8,
   "metadata": {},
   "outputs": [
    {
     "name": "stdout",
     "output_type": "stream",
     "text": [
      "<class 'pandas.core.frame.DataFrame'>\n",
      "RangeIndex: 10000 entries, 0 to 9999\n",
      "Data columns (total 9 columns):\n",
      "Restaurant_id        10000 non-null object\n",
      "City                 10000 non-null object\n",
      "Cuisine Style        7693 non-null object\n",
      "Ranking              10000 non-null float64\n",
      "Price Range          6525 non-null object\n",
      "Number of Reviews    9343 non-null float64\n",
      "Reviews              9998 non-null object\n",
      "URL_TA               10000 non-null object\n",
      "ID_TA                10000 non-null object\n",
      "dtypes: float64(2), object(7)\n",
      "memory usage: 703.2+ KB\n"
     ]
    }
   ],
   "source": [
    "df_test.info()"
   ]
  },
  {
   "cell_type": "code",
   "execution_count": 9,
   "metadata": {},
   "outputs": [
    {
     "data": {
      "text/html": [
       "<div>\n",
       "<style scoped>\n",
       "    .dataframe tbody tr th:only-of-type {\n",
       "        vertical-align: middle;\n",
       "    }\n",
       "\n",
       "    .dataframe tbody tr th {\n",
       "        vertical-align: top;\n",
       "    }\n",
       "\n",
       "    .dataframe thead th {\n",
       "        text-align: right;\n",
       "    }\n",
       "</style>\n",
       "<table border=\"1\" class=\"dataframe\">\n",
       "  <thead>\n",
       "    <tr style=\"text-align: right;\">\n",
       "      <th></th>\n",
       "      <th>Restaurant_id</th>\n",
       "      <th>City</th>\n",
       "      <th>Cuisine Style</th>\n",
       "      <th>Ranking</th>\n",
       "      <th>Price Range</th>\n",
       "      <th>Number of Reviews</th>\n",
       "      <th>Reviews</th>\n",
       "      <th>URL_TA</th>\n",
       "      <th>ID_TA</th>\n",
       "    </tr>\n",
       "  </thead>\n",
       "  <tbody>\n",
       "    <tr>\n",
       "      <th>0</th>\n",
       "      <td>id_0</td>\n",
       "      <td>Paris</td>\n",
       "      <td>['Bar', 'Pub']</td>\n",
       "      <td>12963.0</td>\n",
       "      <td>$$ - $$$</td>\n",
       "      <td>4.0</td>\n",
       "      <td>[[], []]</td>\n",
       "      <td>/Restaurant_Review-g187147-d10746918-Reviews-L...</td>\n",
       "      <td>d10746918</td>\n",
       "    </tr>\n",
       "    <tr>\n",
       "      <th>1</th>\n",
       "      <td>id_1</td>\n",
       "      <td>Helsinki</td>\n",
       "      <td>['European', 'Scandinavian', 'Gluten Free Opti...</td>\n",
       "      <td>106.0</td>\n",
       "      <td>$$ - $$$</td>\n",
       "      <td>97.0</td>\n",
       "      <td>[['Very good reviews!', 'Fine dining in Hakani...</td>\n",
       "      <td>/Restaurant_Review-g189934-d6674944-Reviews-Ra...</td>\n",
       "      <td>d6674944</td>\n",
       "    </tr>\n",
       "    <tr>\n",
       "      <th>2</th>\n",
       "      <td>id_2</td>\n",
       "      <td>Edinburgh</td>\n",
       "      <td>['Vegetarian Friendly']</td>\n",
       "      <td>810.0</td>\n",
       "      <td>$$ - $$$</td>\n",
       "      <td>28.0</td>\n",
       "      <td>[['Better than the Links', 'Ivy Black'], ['12/...</td>\n",
       "      <td>/Restaurant_Review-g186525-d13129638-Reviews-B...</td>\n",
       "      <td>d13129638</td>\n",
       "    </tr>\n",
       "    <tr>\n",
       "      <th>3</th>\n",
       "      <td>id_3</td>\n",
       "      <td>London</td>\n",
       "      <td>['Italian', 'Mediterranean', 'European', 'Vege...</td>\n",
       "      <td>1669.0</td>\n",
       "      <td>$$$$</td>\n",
       "      <td>202.0</td>\n",
       "      <td>[['Most exquisite', 'Delicious and authentic']...</td>\n",
       "      <td>/Restaurant_Review-g186338-d680417-Reviews-Qui...</td>\n",
       "      <td>d680417</td>\n",
       "    </tr>\n",
       "    <tr>\n",
       "      <th>4</th>\n",
       "      <td>id_4</td>\n",
       "      <td>Bratislava</td>\n",
       "      <td>['Italian', 'Mediterranean', 'European', 'Seaf...</td>\n",
       "      <td>37.0</td>\n",
       "      <td>$$$$</td>\n",
       "      <td>162.0</td>\n",
       "      <td>[['Always the best in bratislava', 'Very good ...</td>\n",
       "      <td>/Restaurant_Review-g274924-d1112354-Reviews-Ma...</td>\n",
       "      <td>d1112354</td>\n",
       "    </tr>\n",
       "  </tbody>\n",
       "</table>\n",
       "</div>"
      ],
      "text/plain": [
       "  Restaurant_id        City  \\\n",
       "0          id_0       Paris   \n",
       "1          id_1    Helsinki   \n",
       "2          id_2   Edinburgh   \n",
       "3          id_3      London   \n",
       "4          id_4  Bratislava   \n",
       "\n",
       "                                       Cuisine Style  Ranking Price Range  \\\n",
       "0                                     ['Bar', 'Pub']  12963.0    $$ - $$$   \n",
       "1  ['European', 'Scandinavian', 'Gluten Free Opti...    106.0    $$ - $$$   \n",
       "2                            ['Vegetarian Friendly']    810.0    $$ - $$$   \n",
       "3  ['Italian', 'Mediterranean', 'European', 'Vege...   1669.0        $$$$   \n",
       "4  ['Italian', 'Mediterranean', 'European', 'Seaf...     37.0        $$$$   \n",
       "\n",
       "   Number of Reviews                                            Reviews  \\\n",
       "0                4.0                                           [[], []]   \n",
       "1               97.0  [['Very good reviews!', 'Fine dining in Hakani...   \n",
       "2               28.0  [['Better than the Links', 'Ivy Black'], ['12/...   \n",
       "3              202.0  [['Most exquisite', 'Delicious and authentic']...   \n",
       "4              162.0  [['Always the best in bratislava', 'Very good ...   \n",
       "\n",
       "                                              URL_TA      ID_TA  \n",
       "0  /Restaurant_Review-g187147-d10746918-Reviews-L...  d10746918  \n",
       "1  /Restaurant_Review-g189934-d6674944-Reviews-Ra...   d6674944  \n",
       "2  /Restaurant_Review-g186525-d13129638-Reviews-B...  d13129638  \n",
       "3  /Restaurant_Review-g186338-d680417-Reviews-Qui...    d680417  \n",
       "4  /Restaurant_Review-g274924-d1112354-Reviews-Ma...   d1112354  "
      ]
     },
     "execution_count": 9,
     "metadata": {},
     "output_type": "execute_result"
    }
   ],
   "source": [
    "df_test.head(5)"
   ]
  },
  {
   "cell_type": "code",
   "execution_count": 10,
   "metadata": {},
   "outputs": [
    {
     "data": {
      "text/html": [
       "<div>\n",
       "<style scoped>\n",
       "    .dataframe tbody tr th:only-of-type {\n",
       "        vertical-align: middle;\n",
       "    }\n",
       "\n",
       "    .dataframe tbody tr th {\n",
       "        vertical-align: top;\n",
       "    }\n",
       "\n",
       "    .dataframe thead th {\n",
       "        text-align: right;\n",
       "    }\n",
       "</style>\n",
       "<table border=\"1\" class=\"dataframe\">\n",
       "  <thead>\n",
       "    <tr style=\"text-align: right;\">\n",
       "      <th></th>\n",
       "      <th>Restaurant_id</th>\n",
       "      <th>Rating</th>\n",
       "    </tr>\n",
       "  </thead>\n",
       "  <tbody>\n",
       "    <tr>\n",
       "      <th>0</th>\n",
       "      <td>id_0</td>\n",
       "      <td>2.0</td>\n",
       "    </tr>\n",
       "    <tr>\n",
       "      <th>1</th>\n",
       "      <td>id_1</td>\n",
       "      <td>2.5</td>\n",
       "    </tr>\n",
       "    <tr>\n",
       "      <th>2</th>\n",
       "      <td>id_2</td>\n",
       "      <td>4.0</td>\n",
       "    </tr>\n",
       "    <tr>\n",
       "      <th>3</th>\n",
       "      <td>id_3</td>\n",
       "      <td>1.0</td>\n",
       "    </tr>\n",
       "    <tr>\n",
       "      <th>4</th>\n",
       "      <td>id_4</td>\n",
       "      <td>4.0</td>\n",
       "    </tr>\n",
       "  </tbody>\n",
       "</table>\n",
       "</div>"
      ],
      "text/plain": [
       "  Restaurant_id  Rating\n",
       "0          id_0     2.0\n",
       "1          id_1     2.5\n",
       "2          id_2     4.0\n",
       "3          id_3     1.0\n",
       "4          id_4     4.0"
      ]
     },
     "execution_count": 10,
     "metadata": {},
     "output_type": "execute_result"
    }
   ],
   "source": [
    "sample_submission.head(5)"
   ]
  },
  {
   "cell_type": "code",
   "execution_count": 11,
   "metadata": {},
   "outputs": [
    {
     "name": "stdout",
     "output_type": "stream",
     "text": [
      "<class 'pandas.core.frame.DataFrame'>\n",
      "RangeIndex: 10000 entries, 0 to 9999\n",
      "Data columns (total 2 columns):\n",
      "Restaurant_id    10000 non-null object\n",
      "Rating           10000 non-null float64\n",
      "dtypes: float64(1), object(1)\n",
      "memory usage: 156.4+ KB\n"
     ]
    }
   ],
   "source": [
    "sample_submission.info()"
   ]
  },
  {
   "cell_type": "code",
   "execution_count": 12,
   "metadata": {},
   "outputs": [],
   "source": [
    "# ВАЖНО! дря корректной обработки признаков объединяем трейн и тест в один датасет\n",
    "df_train['sample'] = 1 # помечаем где у нас трейн\n",
    "df_test['sample'] = 0 # помечаем где у нас тест\n",
    "df_test['Rating'] = 0 # в тесте у нас нет значения Rating, мы его должны предсказать, по этому пока просто заполняем нулями\n",
    "\n",
    "data = df_test.append(df_train, sort=False).reset_index(drop=True) # объединяем"
   ]
  },
  {
   "cell_type": "code",
   "execution_count": 13,
   "metadata": {},
   "outputs": [
    {
     "name": "stdout",
     "output_type": "stream",
     "text": [
      "<class 'pandas.core.frame.DataFrame'>\n",
      "RangeIndex: 50000 entries, 0 to 49999\n",
      "Data columns (total 11 columns):\n",
      "Restaurant_id        50000 non-null object\n",
      "City                 50000 non-null object\n",
      "Cuisine Style        38410 non-null object\n",
      "Ranking              50000 non-null float64\n",
      "Price Range          32639 non-null object\n",
      "Number of Reviews    46800 non-null float64\n",
      "Reviews              49998 non-null object\n",
      "URL_TA               50000 non-null object\n",
      "ID_TA                50000 non-null object\n",
      "sample               50000 non-null int64\n",
      "Rating               50000 non-null float64\n",
      "dtypes: float64(3), int64(1), object(7)\n",
      "memory usage: 4.2+ MB\n"
     ]
    }
   ],
   "source": [
    "data.info()"
   ]
  },
  {
   "cell_type": "markdown",
   "execution_count": null,
   "metadata": {},
   "source": [
    "Всего в данных содержится 10 полей, три из них числовые. 7 полей не содержат пропуски, 4 содержит: Cuisine Style, Price Range, Number of Reviews, Reviews."
   ]
  },
  {
   "cell_type": "markdown",
   "execution_count": null,
   "metadata": {},
   "source": [
    "Подробнее по признакам:\n",
    "* City: Город \n",
    "* Cuisine Style: Кухня\n",
    "* Ranking: Ранг ресторана относительно других ресторанов в этом городе\n",
    "* Price Range: Цены в ресторане в 3 категориях\n",
    "* Number of Reviews: Количество отзывов\n",
    "* Reviews: 2 последних отзыва и даты этих отзывов\n",
    "* URL_TA: страница ресторана на 'www.tripadvisor.com' \n",
    "* ID_TA: ID ресторана в TripAdvisor\n",
    "* Rating: Рейтинг ресторана"
   ]
  },
  {
   "cell_type": "code",
   "execution_count": 14,
   "metadata": {},
   "outputs": [
    {
     "data": {
      "text/html": [
       "<div>\n",
       "<style scoped>\n",
       "    .dataframe tbody tr th:only-of-type {\n",
       "        vertical-align: middle;\n",
       "    }\n",
       "\n",
       "    .dataframe tbody tr th {\n",
       "        vertical-align: top;\n",
       "    }\n",
       "\n",
       "    .dataframe thead th {\n",
       "        text-align: right;\n",
       "    }\n",
       "</style>\n",
       "<table border=\"1\" class=\"dataframe\">\n",
       "  <thead>\n",
       "    <tr style=\"text-align: right;\">\n",
       "      <th></th>\n",
       "      <th>Restaurant_id</th>\n",
       "      <th>City</th>\n",
       "      <th>Cuisine Style</th>\n",
       "      <th>Ranking</th>\n",
       "      <th>Price Range</th>\n",
       "      <th>Number of Reviews</th>\n",
       "      <th>Reviews</th>\n",
       "      <th>URL_TA</th>\n",
       "      <th>ID_TA</th>\n",
       "      <th>sample</th>\n",
       "      <th>Rating</th>\n",
       "    </tr>\n",
       "  </thead>\n",
       "  <tbody>\n",
       "    <tr>\n",
       "      <th>294</th>\n",
       "      <td>id_294</td>\n",
       "      <td>Budapest</td>\n",
       "      <td>NaN</td>\n",
       "      <td>2231.0</td>\n",
       "      <td>NaN</td>\n",
       "      <td>2.0</td>\n",
       "      <td>[[], []]</td>\n",
       "      <td>/Restaurant_Review-g274887-d10748374-Reviews-F...</td>\n",
       "      <td>d10748374</td>\n",
       "      <td>0</td>\n",
       "      <td>0.0</td>\n",
       "    </tr>\n",
       "    <tr>\n",
       "      <th>24407</th>\n",
       "      <td>id_528</td>\n",
       "      <td>Lyon</td>\n",
       "      <td>['Barbecue', 'Asian', 'Korean', 'Vegetarian Fr...</td>\n",
       "      <td>529.0</td>\n",
       "      <td>$$ - $$$</td>\n",
       "      <td>91.0</td>\n",
       "      <td>[['Modest portions', 'AMAZING !'], ['10/12/201...</td>\n",
       "      <td>/Restaurant_Review-g187265-d4556074-Reviews-Le...</td>\n",
       "      <td>d4556074</td>\n",
       "      <td>1</td>\n",
       "      <td>4.0</td>\n",
       "    </tr>\n",
       "    <tr>\n",
       "      <th>14186</th>\n",
       "      <td>id_12501</td>\n",
       "      <td>London</td>\n",
       "      <td>['Italian', 'French', 'Cafe', 'European', 'Bri...</td>\n",
       "      <td>12511.0</td>\n",
       "      <td>$</td>\n",
       "      <td>NaN</td>\n",
       "      <td>[['Great simple place. Fine food'], ['06/17/20...</td>\n",
       "      <td>/Restaurant_Review-g186338-d10458829-Reviews-B...</td>\n",
       "      <td>d10458829</td>\n",
       "      <td>1</td>\n",
       "      <td>4.0</td>\n",
       "    </tr>\n",
       "    <tr>\n",
       "      <th>30706</th>\n",
       "      <td>id_4340</td>\n",
       "      <td>Barcelona</td>\n",
       "      <td>['Cafe', 'Mediterranean', 'Spanish']</td>\n",
       "      <td>4341.0</td>\n",
       "      <td>$</td>\n",
       "      <td>NaN</td>\n",
       "      <td>[[], []]</td>\n",
       "      <td>/Restaurant_Review-g187497-d6022580-Reviews-Ba...</td>\n",
       "      <td>d6022580</td>\n",
       "      <td>1</td>\n",
       "      <td>5.0</td>\n",
       "    </tr>\n",
       "    <tr>\n",
       "      <th>15480</th>\n",
       "      <td>id_3215</td>\n",
       "      <td>Paris</td>\n",
       "      <td>['French']</td>\n",
       "      <td>3216.0</td>\n",
       "      <td>$$ - $$$</td>\n",
       "      <td>39.0</td>\n",
       "      <td>[['great food, nice ambience, friendly servic....</td>\n",
       "      <td>/Restaurant_Review-g187147-d8755509-Reviews-Lo...</td>\n",
       "      <td>d8755509</td>\n",
       "      <td>1</td>\n",
       "      <td>4.5</td>\n",
       "    </tr>\n",
       "  </tbody>\n",
       "</table>\n",
       "</div>"
      ],
      "text/plain": [
       "      Restaurant_id       City  \\\n",
       "294          id_294   Budapest   \n",
       "24407        id_528       Lyon   \n",
       "14186      id_12501     London   \n",
       "30706       id_4340  Barcelona   \n",
       "15480       id_3215      Paris   \n",
       "\n",
       "                                           Cuisine Style  Ranking Price Range  \\\n",
       "294                                                  NaN   2231.0         NaN   \n",
       "24407  ['Barbecue', 'Asian', 'Korean', 'Vegetarian Fr...    529.0    $$ - $$$   \n",
       "14186  ['Italian', 'French', 'Cafe', 'European', 'Bri...  12511.0           $   \n",
       "30706               ['Cafe', 'Mediterranean', 'Spanish']   4341.0           $   \n",
       "15480                                         ['French']   3216.0    $$ - $$$   \n",
       "\n",
       "       Number of Reviews                                            Reviews  \\\n",
       "294                  2.0                                           [[], []]   \n",
       "24407               91.0  [['Modest portions', 'AMAZING !'], ['10/12/201...   \n",
       "14186                NaN  [['Great simple place. Fine food'], ['06/17/20...   \n",
       "30706                NaN                                           [[], []]   \n",
       "15480               39.0  [['great food, nice ambience, friendly servic....   \n",
       "\n",
       "                                                  URL_TA      ID_TA  sample  \\\n",
       "294    /Restaurant_Review-g274887-d10748374-Reviews-F...  d10748374       0   \n",
       "24407  /Restaurant_Review-g187265-d4556074-Reviews-Le...   d4556074       1   \n",
       "14186  /Restaurant_Review-g186338-d10458829-Reviews-B...  d10458829       1   \n",
       "30706  /Restaurant_Review-g187497-d6022580-Reviews-Ba...   d6022580       1   \n",
       "15480  /Restaurant_Review-g187147-d8755509-Reviews-Lo...   d8755509       1   \n",
       "\n",
       "       Rating  \n",
       "294       0.0  \n",
       "24407     4.0  \n",
       "14186     4.0  \n",
       "30706     5.0  \n",
       "15480     4.5  "
      ]
     },
     "execution_count": 14,
     "metadata": {},
     "output_type": "execute_result"
    }
   ],
   "source": [
    "data.sample(5)"
   ]
  },
  {
   "cell_type": "code",
   "execution_count": 15,
   "metadata": {},
   "outputs": [
    {
     "data": {
      "text/plain": [
       "Restaurant_id                                                     id_1\n",
       "City                                                          Helsinki\n",
       "Cuisine Style        ['European', 'Scandinavian', 'Gluten Free Opti...\n",
       "Ranking                                                            106\n",
       "Price Range                                                   $$ - $$$\n",
       "Number of Reviews                                                   97\n",
       "Reviews              [['Very good reviews!', 'Fine dining in Hakani...\n",
       "URL_TA               /Restaurant_Review-g189934-d6674944-Reviews-Ra...\n",
       "ID_TA                                                         d6674944\n",
       "sample                                                               0\n",
       "Rating                                                               0\n",
       "Name: 1, dtype: object"
      ]
     },
     "execution_count": 15,
     "metadata": {},
     "output_type": "execute_result"
    }
   ],
   "source": [
    "data.iloc[1]"
   ]
  },
  {
   "cell_type": "markdown",
   "execution_count": null,
   "metadata": {},
   "source": [
    "Как видим, большинство признаков у нас требует очистки и предварительной обработки."
   ]
  },
  {
   "cell_type": "code",
   "execution_count": 16,
   "metadata": {},
   "outputs": [
    {
     "data": {
      "text/plain": [
       "[1.0, 1.5, 2.0, 2.5, 3.0, 3.5, 4.0, 4.5, 5.0]"
      ]
     },
     "execution_count": 16,
     "metadata": {},
     "output_type": "execute_result"
    }
   ],
   "source": [
    "sorted(df_train['Rating'].unique())"
   ]
  },
  {
   "cell_type": "markdown",
   "execution_count": null,
   "metadata": {},
   "source": [
    "Посмотрим на нашу ключевую переменную. Всего 9 значений, интервал между значениями 0.5"
   ]
  },
  {
   "cell_type": "markdown",
   "execution_count": null,
   "metadata": {},
   "source": [
    "# Cleaning and Prepping Data"
   ]
  },
  {
   "cell_type": "markdown",
   "execution_count": null,
   "metadata": {},
   "source": [
    "Для быстрого рассчета и контороля MAE создадим список подготовленных столбцов, будем обновлять его по ходу дела, и сразу же проверять результат по выбранным полям"
   ]
  },
  {
   "cell_type": "code",
   "execution_count": 17,
   "metadata": {},
   "outputs": [],
   "source": [
    "prepared_columns = set(['Rating'])"
   ]
  },
  {
   "cell_type": "markdown",
   "execution_count": null,
   "metadata": {},
   "source": [
    "## 1. Обработка NAN \n",
    "У наличия пропусков могут быть разные причины, но пропуски нужно либо заполнить, либо исключить из набора полностью. Но с пропусками нужно быть внимательным, **даже отсутствие информации может быть важным признаком!**   \n",
    "По этому перед обработкой NAN лучше вынести информацию о наличии пропуска как отдельный признак "
   ]
  },
  {
   "cell_type": "code",
   "execution_count": 18,
   "metadata": {},
   "outputs": [],
   "source": [
    "data['Number_of_Reviews_isNAN'] = pd.isna(data['Number of Reviews']).astype('uint8')\n",
    "data['Price_Range_isNAN'] = pd.isna(data['Price Range']).astype('uint8')\n",
    "data['Cuisine_Style_isNAN'] = pd.isna(data['Cuisine Style']).astype('uint8')\n",
    "data['Reviews_isNAN'] = pd.isna(data['Reviews']).astype('uint8')\n",
    "# положительно влияет на итоговое значение\n",
    "prepared_columns.add('Number_of_Reviews_isNAN')\n",
    "# prepared_columns.add('Price_Range_isNAN')\n",
    "# prepared_columns.add('Cuisine_Style_isNAN')\n",
    "# prepared_columns.add('Reviews_isNAN')"
   ]
  },
  {
   "cell_type": "markdown",
   "execution_count": null,
   "metadata": {},
   "source": [
    "### 2. Обработка признаков"
   ]
  },
  {
   "cell_type": "markdown",
   "execution_count": null,
   "metadata": {},
   "source": [
    "#### Price Range\n",
    "\n",
    "Переименуем для удобства использования"
   ]
  },
  {
   "cell_type": "code",
   "execution_count": 19,
   "metadata": {},
   "outputs": [
    {
     "data": {
      "text/plain": [
       "array(['$$ - $$$', '$$$$', '$', nan], dtype=object)"
      ]
     },
     "execution_count": 19,
     "metadata": {},
     "output_type": "execute_result"
    }
   ],
   "source": [
    "data.rename(columns={'Price Range': 'Price_Range'}, inplace=True)\n",
    "data['Price_Range'].unique()"
   ]
  },
  {
   "cell_type": "code",
   "execution_count": 20,
   "metadata": {},
   "outputs": [
    {
     "data": {
      "text/plain": [
       "$$ - $$$    23041\n",
       "$            7816\n",
       "$$$$         1782\n",
       "Name: Price_Range, dtype: int64"
      ]
     },
     "execution_count": 20,
     "metadata": {},
     "output_type": "execute_result"
    }
   ],
   "source": [
    "data['Price_Range'].value_counts()"
   ]
  },
  {
   "cell_type": "markdown",
   "execution_count": null,
   "metadata": {},
   "source": [
    "Содержится всего 3 значения. Из символов легко понять, в каком порядке происходит возрастание. Обсолютное большинство ресторанов в среднем ценовом диапазоне, заменим пропуски средним ценовым диапазоном. Создадим новое поле, для того, что бы сохранить информацию о пропусках."
   ]
  },
  {
   "cell_type": "code",
   "execution_count": 21,
   "metadata": {},
   "outputs": [],
   "source": [
    "data['Price_Range'].fillna('$$ - $$$', inplace=True)"
   ]
  },
  {
   "cell_type": "markdown",
   "execution_count": null,
   "metadata": {},
   "source": [
    "Заменим значения на числовые значения от 1 до 3"
   ]
  },
  {
   "cell_type": "code",
   "execution_count": 22,
   "metadata": {},
   "outputs": [],
   "source": [
    "data['Price_Range'] = data['Price_Range'].map({'$': 1, '$$ - $$$': 2, '$$$$': 3})"
   ]
  },
  {
   "cell_type": "code",
   "execution_count": 23,
   "metadata": {},
   "outputs": [],
   "source": [
    "# добавляем итоговый набор колонок\n",
    "prepared_columns.add('Price_Range')"
   ]
  },
  {
   "cell_type": "markdown",
   "execution_count": null,
   "metadata": {},
   "source": [
    "#### City"
   ]
  },
  {
   "cell_type": "code",
   "execution_count": 24,
   "metadata": {},
   "outputs": [
    {
     "data": {
      "text/plain": [
       "London        7193\n",
       "Paris         6108\n",
       "Madrid        3813\n",
       "Barcelona     3395\n",
       "Berlin        2705\n",
       "Milan         2694\n",
       "Rome          2589\n",
       "Prague        1816\n",
       "Lisbon        1647\n",
       "Vienna        1443\n",
       "Amsterdam     1372\n",
       "Brussels      1314\n",
       "Hamburg       1186\n",
       "Munich        1145\n",
       "Lyon          1126\n",
       "Stockholm     1033\n",
       "Budapest      1021\n",
       "Warsaw         925\n",
       "Dublin         836\n",
       "Copenhagen     819\n",
       "Athens         776\n",
       "Edinburgh      745\n",
       "Zurich         685\n",
       "Oporto         642\n",
       "Geneva         590\n",
       "Krakow         554\n",
       "Oslo           488\n",
       "Helsinki       475\n",
       "Bratislava     380\n",
       "Luxembourg     263\n",
       "Ljubljana      222\n",
       "Name: City, dtype: int64"
      ]
     },
     "execution_count": 24,
     "metadata": {},
     "output_type": "execute_result"
    }
   ],
   "source": [
    "data['City'].value_counts()"
   ]
  },
  {
   "cell_type": "markdown",
   "execution_count": null,
   "metadata": {},
   "source": [
    "Пропусков нет. Городов не так много, заменим все значение на dummy столбцы"
   ]
  },
  {
   "cell_type": "code",
   "execution_count": 25,
   "metadata": {},
   "outputs": [],
   "source": [
    "dummies_city = pd.get_dummies(data['City'])\n",
    "data = pd.concat([data, pd.get_dummies(dummies_city)], axis=1)"
   ]
  },
  {
   "cell_type": "code",
   "execution_count": 26,
   "metadata": {},
   "outputs": [],
   "source": [
    "prepared_columns.update(dummies_city.columns.tolist())"
   ]
  },
  {
   "cell_type": "markdown",
   "execution_count": null,
   "metadata": {},
   "source": [
    "#### Cuisine Style\n",
    "\n",
    "Переименуем для удобства использования. Создадим regex паттерн для поиска типов кухонь в представленном наборе данных"
   ]
  },
  {
   "cell_type": "code",
   "execution_count": 27,
   "metadata": {},
   "outputs": [],
   "source": [
    "data.rename(columns={'Cuisine Style': 'Cuisine_Style'}, inplace=True)\n",
    "cuisine_pattern = re.compile(\"'([a-z]+.*?[a-z]*)'\")"
   ]
  },
  {
   "cell_type": "markdown",
   "execution_count": null,
   "metadata": {},
   "source": [
    "Заполним пропуски значением \"['other']\""
   ]
  },
  {
   "cell_type": "code",
   "execution_count": 28,
   "metadata": {},
   "outputs": [],
   "source": [
    "data['Cuisine_Style'].fillna(\"['other']\", inplace=True)"
   ]
  },
  {
   "cell_type": "markdown",
   "execution_count": null,
   "metadata": {},
   "source": [
    "Преобразуем поле Cuisine_Style из строки в список содержащий все типы кухонь в ресторане"
   ]
  },
  {
   "cell_type": "code",
   "execution_count": 29,
   "metadata": {},
   "outputs": [],
   "source": [
    "data['Cuisine_Style'] = data['Cuisine_Style'].apply(\n",
    "    lambda x: cuisine_pattern.findall(x.lower()))"
   ]
  },
  {
   "cell_type": "code",
   "execution_count": 30,
   "metadata": {},
   "outputs": [
    {
     "data": {
      "text/plain": [
       "[('vegetarian friendly', 14021), ('european', 12561)]"
      ]
     },
     "execution_count": 30,
     "metadata": {},
     "output_type": "execute_result"
    }
   ],
   "source": [
    "all_cusines = []\n",
    "\n",
    "for v in data['Cuisine_Style'].tolist():\n",
    "    all_cusines.extend(v)\n",
    "    \n",
    "cusine_counts = Counter(all_cusines)\n",
    "cusine_counts.most_common(2)"
   ]
  },
  {
   "cell_type": "markdown",
   "execution_count": null,
   "metadata": {},
   "source": [
    "Создали dummy поля для каждого ресторана и типа кухонь в нем"
   ]
  },
  {
   "cell_type": "code",
   "execution_count": 31,
   "metadata": {},
   "outputs": [],
   "source": [
    "for c in cusine_counts:\n",
    "    data[c] = data['Cuisine_Style'].apply(lambda x: 1 if c in x else 0)"
   ]
  },
  {
   "cell_type": "code",
   "execution_count": 32,
   "metadata": {},
   "outputs": [],
   "source": [
    "prepared_columns.update(cusine_counts.keys())"
   ]
  },
  {
   "cell_type": "markdown",
   "execution_count": null,
   "metadata": {},
   "source": [
    "#### Number of Reviews"
   ]
  },
  {
   "cell_type": "code",
   "execution_count": 33,
   "metadata": {},
   "outputs": [],
   "source": [
    "data.rename(columns={'Number of Reviews': 'Number_of_Reviews'}, inplace=True)"
   ]
  },
  {
   "cell_type": "markdown",
   "execution_count": null,
   "metadata": {},
   "source": [
    "Заменим пустые значения средним"
   ]
  },
  {
   "cell_type": "code",
   "execution_count": 34,
   "metadata": {},
   "outputs": [],
   "source": [
    "data['Number_of_Reviews'].fillna(data['Number_of_Reviews'].mean(), inplace=True)"
   ]
  },
  {
   "cell_type": "markdown",
   "execution_count": null,
   "metadata": {},
   "source": [
    "#### Reviews"
   ]
  },
  {
   "cell_type": "markdown",
   "execution_count": null,
   "metadata": {},
   "source": [
    "Заменим пустые значения пустыми строками"
   ]
  },
  {
   "cell_type": "code",
   "execution_count": 35,
   "metadata": {},
   "outputs": [],
   "source": [
    "data['Reviews'].fillna('', inplace=True)"
   ]
  },
  {
   "cell_type": "code",
   "execution_count": 36,
   "metadata": {},
   "outputs": [
    {
     "data": {
      "text/plain": [
       "\"[['Very good reviews!', 'Fine dining in Hakaniemi'], ['12/05/2017', '10/29/2017']]\""
      ]
     },
     "execution_count": 36,
     "metadata": {},
     "output_type": "execute_result"
    }
   ],
   "source": [
    "data['Reviews'][1]"
   ]
  },
  {
   "cell_type": "markdown",
   "execution_count": null,
   "metadata": {},
   "source": [
    "Столбец представляет из себя строку в которой два списка. В одном сами обзоры, во втором даты написания."
   ]
  },
  {
   "cell_type": "code",
   "execution_count": 37,
   "metadata": {},
   "outputs": [],
   "source": [
    "def date_from_string(date_str):\n",
    "    first = '%m'\n",
    "    second = '%d'\n",
    "    third = '%Y'\n",
    "    if int(date_str.split('/')[0]) > 12:\n",
    "        tmp = second\n",
    "        second = first\n",
    "        first = tmp\n",
    "    if len(date_str.split('/')[-1]) == 2:\n",
    "        third = '%y'\n",
    "    return datetime.strptime(date_str, '/'.join([first, second, third]))"
   ]
  },
  {
   "cell_type": "markdown",
   "execution_count": null,
   "metadata": {},
   "source": [
    "Создадим новое поле, которое будет содержать даты обзоров."
   ]
  },
  {
   "cell_type": "code",
   "execution_count": 38,
   "metadata": {},
   "outputs": [],
   "source": [
    "data['Reviews_Dates'] = data['Reviews'].str.findall('\\d+/\\d+/\\d+').apply(\n",
    "    lambda x: sorted([date_from_string(date_str) for date_str in x], reverse=True))"
   ]
  },
  {
   "cell_type": "markdown",
   "execution_count": null,
   "metadata": {},
   "source": [
    "# EDA "
   ]
  },
  {
   "cell_type": "markdown",
   "execution_count": null,
   "metadata": {},
   "source": [
    "### Посмотрим распределение признака"
   ]
  },
  {
   "cell_type": "code",
   "execution_count": 39,
   "metadata": {},
   "outputs": [
    {
     "data": {
      "text/plain": [
       "<matplotlib.axes._subplots.AxesSubplot at 0x7fcc4fa333c8>"
      ]
     },
     "execution_count": 39,
     "metadata": {},
     "output_type": "execute_result"
    },
    {
     "data": {
      "image/png": "[encoded data removed]",
      "text/plain": [
       "<Figure size 720x504 with 1 Axes>"
      ]
     },
     "metadata": {
      "needs_background": "light"
     },
     "output_type": "display_data"
    }
   ],
   "source": [
    "plt.rcParams['figure.figsize'] = (10,7)\n",
    "df_train['Ranking'].hist(bins=100)"
   ]
  },
  {
   "cell_type": "markdown",
   "execution_count": null,
   "metadata": {},
   "source": [
    "У нас много ресторанов, которые не дотягивают и до 2500 места в своем городе, а что там по городам?"
   ]
  },
  {
   "cell_type": "code",
   "execution_count": 40,
   "metadata": {},
   "outputs": [
    {
     "data": {
      "text/plain": [
       "<matplotlib.axes._subplots.AxesSubplot at 0x7fcc4c83c400>"
      ]
     },
     "execution_count": 40,
     "metadata": {},
     "output_type": "execute_result"
    },
    {
     "data": {
      "image/png": "[encoded data removed]",
      "text/plain": [
       "<Figure size 720x504 with 1 Axes>"
      ]
     },
     "metadata": {
      "needs_background": "light"
     },
     "output_type": "display_data"
    }
   ],
   "source": [
    "df_train['City'].value_counts(ascending=True).plot(kind='barh')"
   ]
  },
  {
   "cell_type": "markdown",
   "execution_count": null,
   "metadata": {},
   "source": [
    "А кто-то говорил, что французы любят поесть=) Посмотрим, как изменится распределение в большом городе:"
   ]
  },
  {
   "cell_type": "code",
   "execution_count": 41,
   "metadata": {},
   "outputs": [
    {
     "data": {
      "text/plain": [
       "<matplotlib.axes._subplots.AxesSubplot at 0x7fcc4c6f9be0>"
      ]
     },
     "execution_count": 41,
     "metadata": {},
     "output_type": "execute_result"
    },
    {
     "data": {
      "image/png": "[encoded data removed]",
      "text/plain": [
       "<Figure size 720x504 with 1 Axes>"
      ]
     },
     "metadata": {
      "needs_background": "light"
     },
     "output_type": "display_data"
    }
   ],
   "source": [
    "df_train['Ranking'][df_train['City'] =='London'].hist(bins=100)"
   ]
  },
  {
   "cell_type": "code",
   "execution_count": 42,
   "metadata": {},
   "outputs": [
    {
     "data": {
      "image/png": "[encoded data removed]",
      "text/plain": [
       "<Figure size 720x504 with 1 Axes>"
      ]
     },
     "metadata": {
      "needs_background": "light"
     },
     "output_type": "display_data"
    }
   ],
   "source": [
    "# посмотрим на топ 10 городов\n",
    "for x in (df_train['City'].value_counts())[0:10].index:\n",
    "    df_train['Ranking'][df_train['City'] == x].hist(bins=100)\n",
    "plt.show()"
   ]
  },
  {
   "cell_type": "markdown",
   "execution_count": null,
   "metadata": {},
   "source": [
    "Получается, что Ranking имеет нормальное распределение, просто в больших городах больше ресторанов, из-за мы этого имеем смещение. Необходимо отнормировать Ranking по городам."
   ]
  },
  {
   "cell_type": "code",
   "execution_count": 43,
   "metadata": {},
   "outputs": [],
   "source": [
    "data['City_Restaurants'] = data['City'].map(\n",
    "        data.groupby(['City'])['Restaurant_id'].count().to_dict())\n",
    "mean_city_ranking = data.groupby(['City'])['Ranking'].mean()\n",
    "\n",
    "\n",
    "data['Mean_City_Ranking'] = data['City'].apply(lambda x: mean_city_ranking[x])\n",
    "data['Norm_City_Ranking'] = (data['Ranking'] - data['Mean_City_Ranking']) / data['City_Restaurants'] \n",
    "data['Ranking'] = StandardScaler().fit_transform(data[['Ranking']])"
   ]
  },
  {
   "cell_type": "code",
   "execution_count": 44,
   "metadata": {},
   "outputs": [
    {
     "data": {
      "image/png": "[encoded data removed]",
      "text/plain": [
       "<Figure size 720x504 with 1 Axes>"
      ]
     },
     "metadata": {
      "needs_background": "light"
     },
     "output_type": "display_data"
    }
   ],
   "source": [
    "# посмотрим на топ 10 городов\n",
    "for x in (data['City'].value_counts())[0:10].index:\n",
    "    data['Norm_City_Ranking'][data['City'] == x].hist(bins=100)\n",
    "plt.show()"
   ]
  },
  {
   "cell_type": "code",
   "execution_count": 45,
   "metadata": {},
   "outputs": [],
   "source": [
    "prepared_columns.add('Norm_City_Ranking')\n",
    "prepared_columns.add('Ranking')\n",
    "# prepared_columns.add('Mean_City_Ranking')"
   ]
  },
  {
   "cell_type": "markdown",
   "execution_count": null,
   "metadata": {},
   "source": [
    "Посмотрим выбросы для Number_of_Reviews"
   ]
  },
  {
   "cell_type": "code",
   "execution_count": 46,
   "metadata": {},
   "outputs": [
    {
     "data": {
      "text/plain": [
       "<matplotlib.axes._subplots.AxesSubplot at 0x7fcc4c7146d8>"
      ]
     },
     "execution_count": 46,
     "metadata": {},
     "output_type": "execute_result"
    },
    {
     "data": {
      "image/png": "[encoded data removed]",
      "text/plain": [
       "<Figure size 720x504 with 1 Axes>"
      ]
     },
     "metadata": {
      "needs_background": "light"
     },
     "output_type": "display_data"
    }
   ],
   "source": [
    "data['Number_of_Reviews'].hist()"
   ]
  },
  {
   "cell_type": "code",
   "execution_count": 47,
   "metadata": {},
   "outputs": [
    {
     "data": {
      "text/plain": [
       "25%: 10.0, 75%: 124.47119658119658, IQR: 114.47119658119658, Range: [-161.70679487179487, 296.1779914529915]."
      ]
     },
     "execution_count": 47,
     "metadata": {},
     "output_type": "execute_result"
    }
   ],
   "source": [
    "b_analysis = BoxAnalysis(data, 'Number_of_Reviews')\n",
    "b_analysis"
   ]
  },
  {
   "cell_type": "markdown",
   "execution_count": null,
   "metadata": {},
   "source": [
    "Есть выбросы заменим все значение больше правой границы на значения правой границы"
   ]
  },
  {
   "cell_type": "code",
   "execution_count": 48,
   "metadata": {},
   "outputs": [],
   "source": [
    "data.loc[data['Number_of_Reviews'] > b_analysis.right(), \n",
    "         'Number_of_Reviews'] = round(b_analysis.right())"
   ]
  },
  {
   "cell_type": "code",
   "execution_count": 49,
   "metadata": {},
   "outputs": [],
   "source": [
    "prepared_columns.add('Number_of_Reviews')"
   ]
  },
  {
   "cell_type": "markdown",
   "execution_count": null,
   "metadata": {},
   "source": [
    "Посмотрим на Reviews"
   ]
  },
  {
   "cell_type": "markdown",
   "execution_count": null,
   "metadata": {},
   "source": [
    "Создадим поле, которое содержит количество отображаемых обзоров"
   ]
  },
  {
   "cell_type": "code",
   "execution_count": 50,
   "metadata": {},
   "outputs": [],
   "source": [
    "data['Number_of_Visible_Reviews'] = data['Reviews_Dates'].apply(lambda x: len(x))"
   ]
  },
  {
   "cell_type": "code",
   "execution_count": 51,
   "metadata": {},
   "outputs": [
    {
     "data": {
      "text/plain": [
       "36202"
      ]
     },
     "execution_count": 51,
     "metadata": {},
     "output_type": "execute_result"
    }
   ],
   "source": [
    "# кол-во строк с двумя отзывами\n",
    "data[data['Number_of_Visible_Reviews'] == 2]['Number_of_Visible_Reviews'].count()"
   ]
  },
  {
   "cell_type": "code",
   "execution_count": 52,
   "metadata": {},
   "outputs": [
    {
     "data": {
      "text/plain": [
       "8114"
      ]
     },
     "execution_count": 52,
     "metadata": {},
     "output_type": "execute_result"
    }
   ],
   "source": [
    "# кол-во строк без отзывов\n",
    "data[data['Number_of_Visible_Reviews'] == 0]['Number_of_Visible_Reviews'].count()"
   ]
  },
  {
   "cell_type": "code",
   "execution_count": 53,
   "metadata": {},
   "outputs": [
    {
     "data": {
      "text/plain": [
       "5680"
      ]
     },
     "execution_count": 53,
     "metadata": {},
     "output_type": "execute_result"
    }
   ],
   "source": [
    "# кол-во строк с одним отзывом\n",
    "data[data['Number_of_Visible_Reviews'] == 1]['Number_of_Visible_Reviews'].count()"
   ]
  },
  {
   "cell_type": "code",
   "execution_count": 54,
   "metadata": {},
   "outputs": [
    {
     "data": {
      "text/plain": [
       "4"
      ]
     },
     "execution_count": 54,
     "metadata": {},
     "output_type": "execute_result"
    }
   ],
   "source": [
    "# кол-во строк с более чем двумя отзывами\n",
    "data[data['Number_of_Visible_Reviews'] > 2]['Number_of_Visible_Reviews'].count()"
   ]
  },
  {
   "cell_type": "code",
   "execution_count": 55,
   "metadata": {},
   "outputs": [
    {
     "data": {
      "text/html": [
       "<div>\n",
       "<style scoped>\n",
       "    .dataframe tbody tr th:only-of-type {\n",
       "        vertical-align: middle;\n",
       "    }\n",
       "\n",
       "    .dataframe tbody tr th {\n",
       "        vertical-align: top;\n",
       "    }\n",
       "\n",
       "    .dataframe thead th {\n",
       "        text-align: right;\n",
       "    }\n",
       "</style>\n",
       "<table border=\"1\" class=\"dataframe\">\n",
       "  <thead>\n",
       "    <tr style=\"text-align: right;\">\n",
       "      <th></th>\n",
       "      <th>Reviews_Dates</th>\n",
       "      <th>Reviews</th>\n",
       "    </tr>\n",
       "  </thead>\n",
       "  <tbody>\n",
       "    <tr>\n",
       "      <th>2221</th>\n",
       "      <td>[2017-12-22 00:00:00, 2017-10-21 00:00:00, 201...</td>\n",
       "      <td>[['We visited 21/10/17', 'Best Kebab in London...</td>\n",
       "    </tr>\n",
       "    <tr>\n",
       "      <th>3809</th>\n",
       "      <td>[2017-05-30 00:00:00, 2017-05-30 00:00:00, 201...</td>\n",
       "      <td>[['Good Museum Cafeteria', 'Lunch 30/5/2017'],...</td>\n",
       "    </tr>\n",
       "    <tr>\n",
       "      <th>19254</th>\n",
       "      <td>[2017-06-02 00:00:00, 2017-03-01 00:00:00, 201...</td>\n",
       "      <td>[['The desserts arcade !', 'Visit today 3/1/20...</td>\n",
       "    </tr>\n",
       "    <tr>\n",
       "      <th>33348</th>\n",
       "      <td>[2016-09-30 00:00:00, 2016-09-29 00:00:00, 201...</td>\n",
       "      <td>[['lunch 29/9/2016', 'Unplanned Great Dinner']...</td>\n",
       "    </tr>\n",
       "  </tbody>\n",
       "</table>\n",
       "</div>"
      ],
      "text/plain": [
       "                                           Reviews_Dates  \\\n",
       "2221   [2017-12-22 00:00:00, 2017-10-21 00:00:00, 201...   \n",
       "3809   [2017-05-30 00:00:00, 2017-05-30 00:00:00, 201...   \n",
       "19254  [2017-06-02 00:00:00, 2017-03-01 00:00:00, 201...   \n",
       "33348  [2016-09-30 00:00:00, 2016-09-29 00:00:00, 201...   \n",
       "\n",
       "                                                 Reviews  \n",
       "2221   [['We visited 21/10/17', 'Best Kebab in London...  \n",
       "3809   [['Good Museum Cafeteria', 'Lunch 30/5/2017'],...  \n",
       "19254  [['The desserts arcade !', 'Visit today 3/1/20...  \n",
       "33348  [['lunch 29/9/2016', 'Unplanned Great Dinner']...  "
      ]
     },
     "execution_count": 55,
     "metadata": {},
     "output_type": "execute_result"
    }
   ],
   "source": [
    "data[data['Number_of_Visible_Reviews'] > 2][['Reviews_Dates', 'Reviews']]"
   ]
  },
  {
   "cell_type": "markdown",
   "execution_count": null,
   "metadata": {},
   "source": [
    "Большое количество строк без отзывов. Есть строки с тремя отзывавами. Поскольку неизвестно на какую дату были выгружены данные, возьмем последнюю дату отзыва в качестве даты выгрузки."
   ]
  },
  {
   "cell_type": "code",
   "execution_count": 56,
   "metadata": {},
   "outputs": [
    {
     "data": {
      "text/plain": [
       "datetime.datetime(2018, 2, 26, 0, 0)"
      ]
     },
     "execution_count": 56,
     "metadata": {},
     "output_type": "execute_result"
    }
   ],
   "source": [
    "latest_review = datetime(2000, 1, 1, 0, 0)\n",
    "for dates in data['Reviews_Dates']:\n",
    "    if (len(dates) == 0):\n",
    "        continue\n",
    "    temp_max = max(dates)\n",
    "    if temp_max > latest_review:\n",
    "        latest_review = temp_max\n",
    "\n",
    "latest_review"
   ]
  },
  {
   "cell_type": "markdown",
   "execution_count": null,
   "metadata": {},
   "source": [
    "Посмотрим максимальную разницу дней между двумя отзывами."
   ]
  },
  {
   "cell_type": "code",
   "execution_count": 57,
   "metadata": {},
   "outputs": [
    {
     "data": {
      "text/plain": [
       "3296"
      ]
     },
     "execution_count": 57,
     "metadata": {},
     "output_type": "execute_result"
    }
   ],
   "source": [
    "max([(x[0] - x[1]).days for x in data['Reviews_Dates'] if len(x) > 1])"
   ]
  },
  {
   "cell_type": "markdown",
   "execution_count": null,
   "metadata": {},
   "source": [
    "Добавим новое поле, которое будет содержать интервал в днях между двумя отзывами. Создадим поле, в котором пометим пропуски, заполним пропуски медианой."
   ]
  },
  {
   "cell_type": "code",
   "execution_count": 58,
   "metadata": {},
   "outputs": [],
   "source": [
    "data['Number_of_Days_Between_Reviews'] = data['Reviews_Dates'].apply(\n",
    "    lambda x: (x[0] - x[1]).days if len(x) > 1 else None)"
   ]
  },
  {
   "cell_type": "code",
   "execution_count": 59,
   "metadata": {},
   "outputs": [],
   "source": [
    "data['Number_of_Days_Between_Reviews_isNAN'] = pd.isna(\n",
    "    data['Number_of_Days_Between_Reviews']).astype('uint8')"
   ]
  },
  {
   "cell_type": "code",
   "execution_count": 60,
   "metadata": {},
   "outputs": [],
   "source": [
    "data['Number_of_Days_Between_Reviews'].fillna(\n",
    "    data['Number_of_Days_Between_Reviews'].median(), inplace=True)"
   ]
  },
  {
   "cell_type": "code",
   "execution_count": 61,
   "metadata": {},
   "outputs": [
    {
     "data": {
      "text/plain": [
       "<matplotlib.axes._subplots.AxesSubplot at 0x7fcc49424940>"
      ]
     },
     "execution_count": 61,
     "metadata": {},
     "output_type": "execute_result"
    },
    {
     "data": {
      "image/png": "[encoded data removed]",
      "text/plain": [
       "<Figure size 720x504 with 1 Axes>"
      ]
     },
     "metadata": {
      "needs_background": "light"
     },
     "output_type": "display_data"
    }
   ],
   "source": [
    "data['Number_of_Days_Between_Reviews'].hist()"
   ]
  },
  {
   "cell_type": "code",
   "execution_count": 62,
   "metadata": {},
   "outputs": [
    {
     "data": {
      "text/plain": [
       "25%: 34.0, 75%: 120.0, IQR: 86.0, Range: [-95.0, 249.0]."
      ]
     },
     "execution_count": 62,
     "metadata": {},
     "output_type": "execute_result"
    }
   ],
   "source": [
    "b_analysis = BoxAnalysis(data, 'Number_of_Days_Between_Reviews')\n",
    "b_analysis"
   ]
  },
  {
   "cell_type": "markdown",
   "execution_count": null,
   "metadata": {},
   "source": [
    "Заменим значения правой границы на значение правой границы"
   ]
  },
  {
   "cell_type": "code",
   "execution_count": 63,
   "metadata": {},
   "outputs": [],
   "source": [
    "data.loc[data['Number_of_Days_Between_Reviews'] > b_analysis.right(),\n",
    "         'Number_of_Days_Between_Reviews'] = round(b_analysis.right())"
   ]
  },
  {
   "cell_type": "markdown",
   "execution_count": null,
   "metadata": {},
   "source": [
    "Добавим поле с количеством дней с последнего коментария и предполагаемой датой выгрузки. Создадим признак, в котором пометим пропуски, заполним пустые значения медианой."
   ]
  },
  {
   "cell_type": "code",
   "execution_count": 64,
   "metadata": {},
   "outputs": [],
   "source": [
    "data['Days_from_Last_Review'] = data['Reviews_Dates'].apply(\n",
    "    lambda x: (latest_review - x[0]).days if len(x) > 0 else None)"
   ]
  },
  {
   "cell_type": "code",
   "execution_count": 65,
   "metadata": {},
   "outputs": [],
   "source": [
    "data['Days_from_Last_Review_isNAN'] = pd.isna(data['Days_from_Last_Review']).astype('uint8')\n",
    "data['Days_from_Last_Review'].fillna(data['Days_from_Last_Review'].median(), inplace=True)"
   ]
  },
  {
   "cell_type": "code",
   "execution_count": 66,
   "metadata": {},
   "outputs": [],
   "source": [
    "prepared_columns.add('Number_of_Days_Between_Reviews')\n",
    "prepared_columns.add('Days_from_Last_Review')\n",
    "# prepared_columns.add('Number_of_Days_Between_Reviews_isNAN')\n",
    "prepared_columns.add('Days_from_Last_Review_isNAN')"
   ]
  },
  {
   "cell_type": "markdown",
   "execution_count": null,
   "metadata": {},
   "source": [
    "Попробеум разделить обзоры на плохие и хорошие. Найдем все слова больше 2 символов"
   ]
  },
  {
   "cell_type": "code",
   "execution_count": 67,
   "metadata": {},
   "outputs": [
    {
     "data": {
      "text/plain": [
       "[('food', 13166),\n",
       " ('good', 11780),\n",
       " ('great', 10628),\n",
       " ('and', 9765),\n",
       " ('the', 6187),\n",
       " ('nice', 5702),\n",
       " ('place', 5166),\n",
       " ('for', 4803),\n",
       " ('service', 4383),\n",
       " ('very', 4208),\n",
       " ('restaurant', 3632),\n",
       " ('best', 3411),\n",
       " ('excellent', 3261),\n",
       " ('lunch', 2694),\n",
       " ('but', 2559),\n",
       " ('with', 2534),\n",
       " ('delicious', 2164),\n",
       " ('not', 2102),\n",
       " ('friendly', 1917),\n",
       " ('pizza', 1787),\n",
       " ('lovely', 1782),\n",
       " ('amazing', 1771),\n",
       " ('tasty', 1681),\n",
       " ('dinner', 1584),\n",
       " ('italian', 1378),\n",
       " ('little', 1300),\n",
       " ('bar', 1298),\n",
       " ('atmosphere', 1284),\n",
       " ('staff', 1233),\n",
       " ('meal', 1171),\n",
       " ('breakfast', 1127),\n",
       " ('experience', 1110),\n",
       " ('local', 1068),\n",
       " ('value', 1058),\n",
       " ('you', 994),\n",
       " ('coffee', 980),\n",
       " ('fantastic', 967),\n",
       " ('authentic', 946),\n",
       " ('average', 934),\n",
       " ('quick', 904),\n",
       " ('quality', 903),\n",
       " ('price', 883),\n",
       " ('perfect', 882),\n",
       " ('cafe', 831),\n",
       " ('wonderful', 815),\n",
       " ('pub', 808),\n",
       " ('this', 799),\n",
       " ('cheap', 798),\n",
       " ('sushi', 793),\n",
       " ('gem', 750),\n",
       " ('really', 743),\n",
       " ('bad', 718),\n",
       " ('fresh', 703),\n",
       " ('location', 689),\n",
       " ('beer', 686),\n",
       " ('find', 661),\n",
       " ('visit', 645),\n",
       " ('just', 644),\n",
       " ('one', 643),\n",
       " ('spot', 642),\n",
       " ('ever', 641),\n",
       " ('decent', 615),\n",
       " ('eat', 609),\n",
       " ('small', 600),\n",
       " ('tapas', 590),\n",
       " ('wine', 589),\n",
       " ('cuisine', 557),\n",
       " ('indian', 546),\n",
       " ('was', 543),\n",
       " ('what', 541),\n",
       " ('hidden', 529),\n",
       " ('worth', 523),\n",
       " ('burger', 520),\n",
       " ('expensive', 514),\n",
       " ('night', 514),\n",
       " ('cozy', 513),\n",
       " ('better', 497),\n",
       " ('paris', 496),\n",
       " ('cosy', 489),\n",
       " ('fast', 481),\n",
       " ('prices', 474),\n",
       " ('time', 466),\n",
       " ('traditional', 465),\n",
       " ('poor', 464),\n",
       " ('drinks', 457),\n",
       " ('have', 456),\n",
       " ('family', 456),\n",
       " ('pleasant', 455),\n",
       " ('evening', 446),\n",
       " ('menu', 444),\n",
       " ('burgers', 442),\n",
       " ('awesome', 440),\n",
       " ('fish', 438),\n",
       " ('all', 428),\n",
       " ('out', 425),\n",
       " ('chinese', 424),\n",
       " ('thai', 419),\n",
       " ('super', 418),\n",
       " ('brunch', 416),\n",
       " ('love', 408),\n",
       " ('new', 403),\n",
       " ('from', 403),\n",
       " ('simple', 393),\n",
       " ('away', 391),\n",
       " ('reasonable', 388),\n",
       " ('real', 384),\n",
       " ('like', 381),\n",
       " ('surprise', 376),\n",
       " ('had', 363),\n",
       " ('stop', 362),\n",
       " ('drink', 361),\n",
       " ('our', 358),\n",
       " ('beautiful', 357),\n",
       " ('french', 352),\n",
       " ('money', 349),\n",
       " ('take', 347),\n",
       " ('view', 346),\n",
       " ('choice', 341),\n",
       " ('well', 337),\n",
       " ('here', 335),\n",
       " ('superb', 332),\n",
       " ('terrible', 332),\n",
       " ('worst', 331),\n",
       " ('taste', 329),\n",
       " ('japanese', 327),\n",
       " ('must', 324),\n",
       " ('don', 323),\n",
       " ('home', 323),\n",
       " ('town', 319),\n",
       " ('always', 314),\n",
       " ('vegan', 314),\n",
       " ('fun', 311),\n",
       " ('disappointing', 307),\n",
       " ('more', 306),\n",
       " ('dining', 302),\n",
       " ('too', 302),\n",
       " ('first', 301),\n",
       " ('cool', 298),\n",
       " ('than', 297),\n",
       " ('yummy', 295),\n",
       " ('slow', 293),\n",
       " ('special', 291),\n",
       " ('pasta', 289),\n",
       " ('your', 287),\n",
       " ('london', 285),\n",
       " ('people', 283),\n",
       " ('bit', 282),\n",
       " ('near', 282),\n",
       " ('fabulous', 279),\n",
       " ('that', 276),\n",
       " ('old', 274),\n",
       " ('can', 272),\n",
       " ('day', 271),\n",
       " ('interesting', 269),\n",
       " ('cocktails', 267),\n",
       " ('typical', 267),\n",
       " ('top', 265),\n",
       " ('off', 265),\n",
       " ('late', 265),\n",
       " ('are', 262),\n",
       " ('nothing', 262),\n",
       " ('hotel', 261),\n",
       " ('back', 261),\n",
       " ('healthy', 256),\n",
       " ('meat', 254),\n",
       " ('try', 253),\n",
       " ('style', 252),\n",
       " ('sunday', 250),\n",
       " ('steak', 246),\n",
       " ('neighborhood', 243),\n",
       " ('after', 243),\n",
       " ('fine', 239),\n",
       " ('there', 238),\n",
       " ('portions', 238),\n",
       " ('avoid', 236),\n",
       " ('quiet', 230),\n",
       " ('asian', 229),\n",
       " ('friends', 228),\n",
       " ('brilliant', 228),\n",
       " ('seafood', 227),\n",
       " ('area', 223),\n",
       " ('chicken', 223),\n",
       " ('busy', 222),\n",
       " ('greek', 222),\n",
       " ('high', 221),\n",
       " ('loved', 219),\n",
       " ('favourite', 219),\n",
       " ('overpriced', 214),\n",
       " ('bite', 213),\n",
       " ('rude', 213),\n",
       " ('bistro', 210),\n",
       " ('only', 210),\n",
       " ('dishes', 209),\n",
       " ('madrid', 208),\n",
       " ('tea', 207),\n",
       " ('selection', 202),\n",
       " ('takeaway', 202),\n",
       " ('recommended', 199),\n",
       " ('get', 196),\n",
       " ('warm', 195),\n",
       " ('shop', 195),\n",
       " ('outstanding', 194),\n",
       " ('relaxed', 192),\n",
       " ('big', 191),\n",
       " ('priced', 191),\n",
       " ('buffet', 190),\n",
       " ('affordable', 187),\n",
       " ('cute', 186),\n",
       " ('city', 186),\n",
       " ('christmas', 186),\n",
       " ('favorite', 184),\n",
       " ('quite', 183),\n",
       " ('awful', 183),\n",
       " ('setting', 183),\n",
       " ('birthday', 182),\n",
       " ('much', 181),\n",
       " ('rome', 181),\n",
       " ('chips', 180),\n",
       " ('enjoyable', 177),\n",
       " ('some', 176),\n",
       " ('absolutely', 176),\n",
       " ('kebab', 175),\n",
       " ('vietnamese', 175),\n",
       " ('close', 175),\n",
       " ('snack', 174),\n",
       " ('again', 174),\n",
       " ('spanish', 174),\n",
       " ('berlin', 173),\n",
       " ('made', 173),\n",
       " ('vegetarian', 173),\n",
       " ('sandwiches', 173),\n",
       " ('never', 172),\n",
       " ('mexican', 170),\n",
       " ('barcelona', 170),\n",
       " ('way', 169),\n",
       " ('still', 169),\n",
       " ('option', 169),\n",
       " ('business', 168),\n",
       " ('wow', 167),\n",
       " ('its', 166),\n",
       " ('okay', 166),\n",
       " ('different', 165),\n",
       " ('street', 164),\n",
       " ('they', 164),\n",
       " ('easy', 163),\n",
       " ('could', 161),\n",
       " ('music', 161),\n",
       " ('locals', 159),\n",
       " ('pricey', 158),\n",
       " ('pretty', 158),\n",
       " ('afternoon', 157),\n",
       " ('charming', 157),\n",
       " ('caf', 154),\n",
       " ('trip', 152),\n",
       " ('classic', 151),\n",
       " ('horrible', 150),\n",
       " ('most', 149),\n",
       " ('hot', 149),\n",
       " ('casual', 149),\n",
       " ('highly', 148),\n",
       " ('pizzas', 147),\n",
       " ('break', 146),\n",
       " ('welcoming', 145),\n",
       " ('before', 145),\n",
       " ('tourist', 145),\n",
       " ('will', 145),\n",
       " ('about', 144),\n",
       " ('would', 143),\n",
       " ('another', 143),\n",
       " ('beers', 141),\n",
       " ('welcome', 140),\n",
       " ('turkish', 140),\n",
       " ('curry', 140),\n",
       " ('down', 140),\n",
       " ('long', 140),\n",
       " ('happy', 139),\n",
       " ('even', 138),\n",
       " ('free', 138),\n",
       " ('when', 137),\n",
       " ('ambience', 137),\n",
       " ('modern', 137),\n",
       " ('heart', 137),\n",
       " ('meals', 136),\n",
       " ('milan', 136),\n",
       " ('customer', 135),\n",
       " ('ambiance', 134),\n",
       " ('simply', 134),\n",
       " ('ice', 132),\n",
       " ('recommend', 132),\n",
       " ('over', 131),\n",
       " ('last', 130),\n",
       " ('party', 129),\n",
       " ('delightful', 127),\n",
       " ('portuguese', 126),\n",
       " ('mediocre', 125),\n",
       " ('surprisingly', 124),\n",
       " ('german', 123),\n",
       " ('sandwich', 123),\n",
       " ('prague', 120),\n",
       " ('venue', 119),\n",
       " ('italy', 119),\n",
       " ('relaxing', 118),\n",
       " ('fair', 118),\n",
       " ('options', 117),\n",
       " ('cheese', 116),\n",
       " ('outside', 116),\n",
       " ('disappointed', 116),\n",
       " ('low', 115),\n",
       " ('convenient', 114),\n",
       " ('czech', 114),\n",
       " ('stay', 114),\n",
       " ('soup', 114),\n",
       " ('salad', 114),\n",
       " ('lisbon', 113),\n",
       " ('unique', 113),\n",
       " ('want', 112),\n",
       " ('clean', 112),\n",
       " ('around', 112),\n",
       " ('vibe', 111),\n",
       " ('cream', 111),\n",
       " ('environment', 110),\n",
       " ('incredible', 110),\n",
       " ('amsterdam', 110),\n",
       " ('large', 110),\n",
       " ('cooked', 110),\n",
       " ('open', 109),\n",
       " ('polish', 109),\n",
       " ('miss', 109),\n",
       " ('cakes', 108),\n",
       " ('pre', 108),\n",
       " ('lebanese', 108),\n",
       " ('cold', 108),\n",
       " ('delivery', 107),\n",
       " ('heaven', 107),\n",
       " ('been', 107),\n",
       " ('korean', 107),\n",
       " ('far', 106),\n",
       " ('vienna', 106),\n",
       " ('bakery', 106),\n",
       " ('enough', 106),\n",
       " ('cake', 106),\n",
       " ('right', 105),\n",
       " ('world', 104),\n",
       " ('basic', 104),\n",
       " ('views', 103),\n",
       " ('definitely', 103),\n",
       " ('tasting', 103),\n",
       " ('decor', 103),\n",
       " ('expected', 102),\n",
       " ('cooking', 100),\n",
       " ('reasonably', 100),\n",
       " ('come', 99),\n",
       " ('neighbourhood', 98),\n",
       " ('something', 97),\n",
       " ('closed', 97),\n",
       " ('gluten', 97),\n",
       " ('solid', 97),\n",
       " ('variety', 96),\n",
       " ('every', 96),\n",
       " ('ramen', 96),\n",
       " ('served', 96),\n",
       " ('lovers', 96),\n",
       " ('unexpected', 95),\n",
       " ('standard', 95),\n",
       " ('were', 95),\n",
       " ('terrace', 95),\n",
       " ('has', 94),\n",
       " ('fab', 93),\n",
       " ('kind', 93),\n",
       " ('yum', 93),\n",
       " ('order', 93),\n",
       " ('original', 93),\n",
       " ('enjoy', 92),\n",
       " ('going', 92),\n",
       " ('work', 92),\n",
       " ('middle', 91),\n",
       " ('true', 91),\n",
       " ('homemade', 91),\n",
       " ('owner', 91),\n",
       " ('munich', 91),\n",
       " ('english', 90),\n",
       " ('years', 90),\n",
       " ('eating', 90),\n",
       " ('falafel', 90),\n",
       " ('feel', 89),\n",
       " ('everything', 89),\n",
       " ('paella', 89),\n",
       " ('fare', 89),\n",
       " ('honest', 89),\n",
       " ('need', 89),\n",
       " ('treat', 89),\n",
       " ('year', 88),\n",
       " ('quirky', 87),\n",
       " ('light', 87),\n",
       " ('comfortable', 86),\n",
       " ('wait', 86),\n",
       " ('eve', 86),\n",
       " ('class', 85),\n",
       " ('two', 85),\n",
       " ('corner', 85),\n",
       " ('quaint', 85),\n",
       " ('went', 84),\n",
       " ('where', 84),\n",
       " ('delight', 84),\n",
       " ('concept', 84),\n",
       " ('run', 83),\n",
       " ('lots', 82),\n",
       " ('now', 82),\n",
       " ('house', 82),\n",
       " ('trendy', 82),\n",
       " ('waiter', 82),\n",
       " ('cocktail', 81),\n",
       " ('sweet', 81),\n",
       " ('garden', 81),\n",
       " ('restaurants', 81),\n",
       " ('such', 80),\n",
       " ('huge', 80),\n",
       " ('pizzeria', 80),\n",
       " ('many', 79),\n",
       " ('looking', 79),\n",
       " ('kitchen', 79),\n",
       " ('saturday', 79),\n",
       " ('salads', 79),\n",
       " ('genuine', 79),\n",
       " ('full', 78),\n",
       " ('central', 78),\n",
       " ('enjoyed', 77),\n",
       " ('surprised', 77),\n",
       " ('exceptional', 77),\n",
       " ('watch', 77),\n",
       " ('should', 77),\n",
       " ('crepes', 76),\n",
       " ('inexpensive', 75),\n",
       " ('shopping', 75),\n",
       " ('hungry', 75),\n",
       " ('early', 75),\n",
       " ('romantic', 75),\n",
       " ('star', 75),\n",
       " ('yet', 74),\n",
       " ('veggie', 74),\n",
       " ('steaks', 74),\n",
       " ('hour', 74),\n",
       " ('deal', 74),\n",
       " ('brussels', 74),\n",
       " ('helpful', 73),\n",
       " ('morning', 73),\n",
       " ('cheerful', 73),\n",
       " ('diner', 73),\n",
       " ('group', 72),\n",
       " ('stylish', 72),\n",
       " ('popular', 72),\n",
       " ('chocolate', 71),\n",
       " ('name', 71),\n",
       " ('proper', 71),\n",
       " ('irish', 71),\n",
       " ('fusion', 71),\n",
       " ('their', 71),\n",
       " ('interior', 70),\n",
       " ('end', 70),\n",
       " ('start', 70),\n",
       " ('few', 70),\n",
       " ('wines', 70),\n",
       " ('theatre', 70),\n",
       " ('pastries', 70),\n",
       " ('brasserie', 70),\n",
       " ('places', 69),\n",
       " ('mixed', 69),\n",
       " ('lot', 69),\n",
       " ('extremely', 69),\n",
       " ('american', 68),\n",
       " ('regular', 68),\n",
       " ('other', 68),\n",
       " ('unfriendly', 68),\n",
       " ('gorgeous', 68),\n",
       " ('craft', 68),\n",
       " ('snacks', 67),\n",
       " ('trap', 67),\n",
       " ('creative', 66),\n",
       " ('times', 66),\n",
       " ('warsaw', 66),\n",
       " ('discovery', 66),\n",
       " ('next', 65),\n",
       " ('station', 65),\n",
       " ('truly', 64),\n",
       " ('return', 64),\n",
       " ('fries', 64),\n",
       " ('eatery', 64),\n",
       " ('generous', 64),\n",
       " ('outdoor', 64),\n",
       " ('secret', 64),\n",
       " ('eats', 64),\n",
       " ('make', 63),\n",
       " ('joint', 63),\n",
       " ('chef', 63),\n",
       " ('let', 63),\n",
       " ('needs', 63),\n",
       " ('visiting', 62),\n",
       " ('market', 62),\n",
       " ('live', 62),\n",
       " ('lively', 62),\n",
       " ('club', 62),\n",
       " ('beef', 61),\n",
       " ('attentive', 61),\n",
       " ('without', 61),\n",
       " ('intimate', 61),\n",
       " ('change', 61),\n",
       " ('lunchtime', 61),\n",
       " ('room', 61),\n",
       " ('treasure', 60),\n",
       " ('center', 60),\n",
       " ('waiting', 60),\n",
       " ('life', 60),\n",
       " ('hospitality', 60),\n",
       " ('show', 60),\n",
       " ('probably', 60),\n",
       " ('foo', 60),\n",
       " ('used', 60),\n",
       " ('budget', 60),\n",
       " ('centre', 59),\n",
       " ('almost', 59),\n",
       " ('rip', 59),\n",
       " ('sure', 59),\n",
       " ('chill', 59),\n",
       " ('tiny', 59),\n",
       " ('rest', 59),\n",
       " ('bread', 59),\n",
       " ('friday', 58),\n",
       " ('south', 58),\n",
       " ('tourists', 58),\n",
       " ('limited', 58),\n",
       " ('know', 58),\n",
       " ('disappointment', 58),\n",
       " ('found', 58),\n",
       " ('noisy', 58),\n",
       " ('yes', 58),\n",
       " ('spicy', 58),\n",
       " ('elegant', 57),\n",
       " ('second', 57),\n",
       " ('expect', 57),\n",
       " ('deli', 57),\n",
       " ('set', 57),\n",
       " ('athens', 57),\n",
       " ('during', 57),\n",
       " ('impressed', 56),\n",
       " ('shame', 56),\n",
       " ('above', 56),\n",
       " ('excelent', 56),\n",
       " ('below', 56),\n",
       " ('ideal', 56),\n",
       " ('gourmet', 56),\n",
       " ('budapest', 55),\n",
       " ('austrian', 55),\n",
       " ('hungarian', 55),\n",
       " ('meeting', 54),\n",
       " ('while', 54),\n",
       " ('perfectly', 54),\n",
       " ('twice', 54),\n",
       " ('flavours', 54),\n",
       " ('dessert', 54),\n",
       " ('kids', 53),\n",
       " ('walk', 53),\n",
       " ('space', 53),\n",
       " ('summer', 53),\n",
       " ('filling', 53),\n",
       " ('hit', 53),\n",
       " ('servic', 52),\n",
       " ('pho', 52),\n",
       " ('grill', 52),\n",
       " ('lyon', 52),\n",
       " ('usual', 52),\n",
       " ('review', 52),\n",
       " ('how', 52),\n",
       " ('sit', 52),\n",
       " ('chain', 51),\n",
       " ('spain', 51),\n",
       " ('friend', 51),\n",
       " ('twist', 51),\n",
       " ('alternative', 51),\n",
       " ('overall', 51),\n",
       " ('hearty', 51),\n",
       " ('surroundings', 51),\n",
       " ('bavarian', 51),\n",
       " ('organic', 51),\n",
       " ('grab', 51),\n",
       " ('roast', 50),\n",
       " ('under', 50),\n",
       " ('rice', 50),\n",
       " ('reliable', 50),\n",
       " ('eaten', 50),\n",
       " ('school', 50),\n",
       " ('museum', 50),\n",
       " ('see', 50),\n",
       " ('visited', 49),\n",
       " ('unusual', 49),\n",
       " ('table', 49),\n",
       " ('expectations', 49),\n",
       " ('got', 49),\n",
       " ('dirty', 49),\n",
       " ('unpretentious', 49),\n",
       " ('beaten', 49),\n",
       " ('please', 49),\n",
       " ('surprising', 49),\n",
       " ('any', 49),\n",
       " ('fried', 49),\n",
       " ('disgusting', 48),\n",
       " ('watching', 48),\n",
       " ('bland', 48),\n",
       " ('efficient', 48),\n",
       " ('range', 48),\n",
       " ('prepared', 48),\n",
       " ('needed', 48),\n",
       " ('crowded', 48),\n",
       " ('aperitivo', 47),\n",
       " ('comfort', 47),\n",
       " ('parisian', 47),\n",
       " ('stars', 47),\n",
       " ('fancy', 47),\n",
       " ('oasis', 47),\n",
       " ('same', 47),\n",
       " ('classy', 47),\n",
       " ('weekend', 47),\n",
       " ('stockholm', 47),\n",
       " ('ingredients', 47),\n",
       " ('grilled', 46),\n",
       " ('roman', 46),\n",
       " ('resturant', 46),\n",
       " ('finally', 46),\n",
       " ('hole', 46),\n",
       " ('slightly', 46),\n",
       " ('portion', 46),\n",
       " ('hamburg', 45),\n",
       " ('does', 45),\n",
       " ('porto', 45),\n",
       " ('why', 45),\n",
       " ('did', 45),\n",
       " ('art', 45),\n",
       " ('once', 45),\n",
       " ('who', 45),\n",
       " ('pork', 45),\n",
       " ('relax', 44),\n",
       " ('waitress', 44),\n",
       " ('sea', 44),\n",
       " ('tour', 44),\n",
       " ('less', 44),\n",
       " ('didn', 44),\n",
       " ('catalan', 44),\n",
       " ('oslo', 44),\n",
       " ('looks', 44),\n",
       " ('paradise', 44),\n",
       " ('choices', 44),\n",
       " ('pint', 44),\n",
       " ('chilled', 44),\n",
       " ('reviews', 43),\n",
       " ('duck', 43),\n",
       " ('non', 43),\n",
       " ('copenhagen', 43),\n",
       " ('inside', 43),\n",
       " ('stuff', 43),\n",
       " ('gone', 43),\n",
       " ('feeling', 43),\n",
       " ('wrong', 42),\n",
       " ('holiday', 42),\n",
       " ('grub', 42),\n",
       " ('consistently', 42),\n",
       " ('schnitzel', 42),\n",
       " ('touristy', 41),\n",
       " ('else', 41),\n",
       " ('park', 41),\n",
       " ('serving', 41),\n",
       " ('dublin', 41),\n",
       " ('serv', 41),\n",
       " ('zurich', 41),\n",
       " ('smile', 41),\n",
       " ('rather', 41),\n",
       " ('sports', 41),\n",
       " ('tastes', 41),\n",
       " ('done', 41),\n",
       " ('danish', 40),\n",
       " ('geneva', 40),\n",
       " ('pleasantly', 40),\n",
       " ('dish', 40),\n",
       " ('side', 40),\n",
       " ('meet', 40),\n",
       " ('touch', 40),\n",
       " ('die', 39),\n",
       " ('located', 39),\n",
       " ('week', 39),\n",
       " ('pastry', 39),\n",
       " ('short', 39),\n",
       " ('match', 39),\n",
       " ('seating', 39),\n",
       " ('exquisite', 38),\n",
       " ('desserts', 38),\n",
       " ('servi', 38),\n",
       " ('pleasure', 38),\n",
       " ('handy', 38),\n",
       " ('france', 38),\n",
       " ('ordinary', 38),\n",
       " ('bbq', 38),\n",
       " ('book', 38),\n",
       " ('burrito', 38),\n",
       " ('main', 38),\n",
       " ('memorable', 38),\n",
       " ('river', 38),\n",
       " ('lamb', 38),\n",
       " ('man', 38),\n",
       " ('course', 38),\n",
       " ('celebration', 38),\n",
       " ('gin', 38),\n",
       " ('spectacular', 37),\n",
       " ('piece', 37),\n",
       " ('waste', 37),\n",
       " ('impressive', 37),\n",
       " ('freshly', 37),\n",
       " ('cost', 37),\n",
       " ('halal', 37),\n",
       " ('also', 37),\n",
       " ('xmas', 37),\n",
       " ('lucky', 37),\n",
       " ('normal', 37),\n",
       " ('bagels', 37),\n",
       " ('ate', 37),\n",
       " ('del', 37),\n",
       " ('glass', 37),\n",
       " ('noodles', 36),\n",
       " ('fado', 36),\n",
       " ('tried', 36),\n",
       " ('vibes', 36),\n",
       " ('culinary', 36),\n",
       " ('worse', 36),\n",
       " ('track', 36),\n",
       " ('own', 36),\n",
       " ('part', 36),\n",
       " ('ser', 36),\n",
       " ('plenty', 36),\n",
       " ('date', 36),\n",
       " ('ribs', 36),\n",
       " ('look', 36),\n",
       " ('stopped', 36),\n",
       " ('sad', 35),\n",
       " ('absolute', 35),\n",
       " ('list', 35),\n",
       " ('hamburger', 35),\n",
       " ('pit', 35),\n",
       " ('airport', 35),\n",
       " ('tasteless', 35),\n",
       " ('milano', 35),\n",
       " ('slice', 35),\n",
       " ('keep', 35),\n",
       " ('swedish', 35),\n",
       " ('store', 35),\n",
       " ('give', 35),\n",
       " ('dim', 35),\n",
       " ('dumplings', 35),\n",
       " ('jazz', 35),\n",
       " ('won', 35),\n",
       " ('supper', 34),\n",
       " ('tasteful', 34),\n",
       " ('eastern', 34),\n",
       " ('fairly', 34),\n",
       " ('satisfying', 34),\n",
       " ('consistent', 34),\n",
       " ('funky', 34),\n",
       " ('jewel', 34),\n",
       " ('kebabs', 34),\n",
       " ('hard', 34),\n",
       " ('chic', 34),\n",
       " ('dutch', 33),\n",
       " ('hip', 33),\n",
       " ('terrific', 33),\n",
       " ('resto', 33),\n",
       " ('personal', 33),\n",
       " ('into', 33),\n",
       " ('swiss', 33),\n",
       " ('days', 33),\n",
       " ('daily', 33),\n",
       " ('foods', 33),\n",
       " ('being', 33),\n",
       " ('square', 33),\n",
       " ('tacos', 33),\n",
       " ('bistrot', 32),\n",
       " ('train', 32),\n",
       " ('say', 32),\n",
       " ('persian', 32),\n",
       " ('beach', 32),\n",
       " ('totally', 32),\n",
       " ('pay', 32),\n",
       " ('hang', 32),\n",
       " ('dont', 32),\n",
       " ('goo', 32),\n",
       " ('tasted', 32),\n",
       " ('liked', 32),\n",
       " ('overrated', 32),\n",
       " ('waiters', 32),\n",
       " ('building', 32),\n",
       " ('football', 32),\n",
       " ('african', 31),\n",
       " ('krakow', 31),\n",
       " ('pric', 31),\n",
       " ('presented', 31),\n",
       " ('beware', 31),\n",
       " ('wee', 31),\n",
       " ('innovative', 31),\n",
       " ('strange', 31),\n",
       " ('wings', 31),\n",
       " ('acceptable', 31),\n",
       " ('east', 31),\n",
       " ('perfection', 31),\n",
       " ('homely', 31),\n",
       " ('shisha', 31),\n",
       " ('host', 31),\n",
       " ('trying', 30),\n",
       " ('rainy', 30),\n",
       " ('though', 30),\n",
       " ('walking', 30),\n",
       " ('hours', 30),\n",
       " ('coming', 30),\n",
       " ('sicilian', 30),\n",
       " ('stunning', 30),\n",
       " ('peaceful', 30),\n",
       " ('atmospheric', 30),\n",
       " ('extraordinary', 30),\n",
       " ('mix', 30),\n",
       " ('sun', 30),\n",
       " ('laid', 30),\n",
       " ('informal', 30),\n",
       " ('between', 30),\n",
       " ('pie', 30),\n",
       " ('calm', 30),\n",
       " ('think', 30),\n",
       " ('maybe', 30),\n",
       " ('boring', 30),\n",
       " ('north', 29),\n",
       " ('somewhere', 29),\n",
       " ('especially', 29),\n",
       " ('fondue', 29),\n",
       " ('check', 29),\n",
       " ('atmospher', 29),\n",
       " ('came', 29),\n",
       " ('dog', 29),\n",
       " ('wedding', 29),\n",
       " ('dine', 29),\n",
       " ('wall', 29),\n",
       " ('god', 29),\n",
       " ('bother', 29),\n",
       " ('west', 29),\n",
       " ('boozer', 29),\n",
       " ('pop', 29),\n",
       " ('indonesian', 29),\n",
       " ('changed', 29),\n",
       " ('manager', 29),\n",
       " ('couldn', 29),\n",
       " ('edinburgh', 29),\n",
       " ('sum', 29),\n",
       " ('hipster', 29),\n",
       " ('pricy', 29),\n",
       " ('greasy', 28),\n",
       " ('level', 28),\n",
       " ('omg', 28),\n",
       " ('flavors', 28),\n",
       " ('idea', 28),\n",
       " ('left', 28),\n",
       " ('sunny', 28),\n",
       " ('salmon', 28),\n",
       " ('kfc', 28),\n",
       " ('three', 28),\n",
       " ('michelin', 28),\n",
       " ('owners', 28),\n",
       " ('ethiopian', 28),\n",
       " ('fashioned', 28),\n",
       " ('frills', 28),\n",
       " ('lacking', 28),\n",
       " ('belgian', 28),\n",
       " ('viennese', 28),\n",
       " ('notch', 27),\n",
       " ('europe', 27),\n",
       " ('pies', 27),\n",
       " ('choose', 27),\n",
       " ('helsinki', 27),\n",
       " ('gelato', 27),\n",
       " ('trattoria', 27),\n",
       " ('loud', 27),\n",
       " ('potential', 27),\n",
       " ('frozen', 27),\n",
       " ('says', 26),\n",
       " ('satisfied', 26),\n",
       " ('bon', 26),\n",
       " ('soups', 26),\n",
       " ('breakfasts', 26),\n",
       " ('attention', 26),\n",
       " ('both', 26),\n",
       " ('green', 26),\n",
       " ('plates', 26),\n",
       " ('attitude', 26),\n",
       " ('king', 26),\n",
       " ('meh', 26),\n",
       " ('improvement', 26),\n",
       " ('empanadas', 26),\n",
       " ('flavour', 26),\n",
       " ('those', 26),\n",
       " ('moroccan', 26),\n",
       " ('refreshing', 26),\n",
       " ('cup', 26),\n",
       " ('doesn', 26),\n",
       " ('hamburgers', 26),\n",
       " ('thing', 26),\n",
       " ('point', 25),\n",
       " ('wish', 25),\n",
       " ('croissants', 25),\n",
       " ('things', 25),\n",
       " ('mcdonald', 25),\n",
       " ('glad', 25),\n",
       " ('tradition', 25),\n",
       " ('mediterranean', 25),\n",
       " ('indeed', 25),\n",
       " ('across', 25),\n",
       " ('risotto', 25),\n",
       " ('type', 25),\n",
       " ('euro', 25),\n",
       " ('cappuccino', 25),\n",
       " ('juices', 25),\n",
       " ('red', 25),\n",
       " ('kept', 25),\n",
       " ('plate', 25),\n",
       " ('brazilian', 25),\n",
       " ('wide', 25),\n",
       " ('may', 25),\n",
       " ('subway', 25),\n",
       " ('pick', 25),\n",
       " ('groups', 25),\n",
       " ('round', 25),\n",
       " ('job', 25),\n",
       " ('restauran', 25),\n",
       " ('rustic', 25),\n",
       " ('tucked', 25),\n",
       " ('thin', 25),\n",
       " ('bratislava', 24),\n",
       " ('pretentious', 24),\n",
       " ('private', 24),\n",
       " ('sauce', 24),\n",
       " ('improved', 24),\n",
       " ('tired', 24),\n",
       " ('steakhouse', 24),\n",
       " ('whole', 24),\n",
       " ('doner', 24),\n",
       " ('thank', 24),\n",
       " ('hands', 24),\n",
       " ('british', 24),\n",
       " ('couscous', 24),\n",
       " ('sangria', 24),\n",
       " ('peruvian', 24),\n",
       " ('put', 24),\n",
       " ('design', 24),\n",
       " ('beyond', 24),\n",
       " ('excellence', 24),\n",
       " ('polite', 24),\n",
       " ('bill', 24),\n",
       " ('vegetarians', 24),\n",
       " ('plain', 24),\n",
       " ('feast', 24),\n",
       " ('bites', 24),\n",
       " ('wanted', 23),\n",
       " ('team', 23),\n",
       " ('dry', 23),\n",
       " ('gyros', 23),\n",
       " ('flavor', 23),\n",
       " ('which', 23),\n",
       " ('downtown', 23),\n",
       " ('cash', 23),\n",
       " ('visits', 23),\n",
       " ('offer', 23),\n",
       " ('cook', 23),\n",
       " ('professional', 23),\n",
       " ('path', 23),\n",
       " ('standards', 23),\n",
       " ('juice', 23),\n",
       " ('improve', 23),\n",
       " ('management', 23),\n",
       " ('bring', 23),\n",
       " ('them', 23),\n",
       " ('mall', 23),\n",
       " ('soul', 23),\n",
       " ('hill', 23),\n",
       " ('then', 23),\n",
       " ('haven', 23),\n",
       " ('pad', 23),\n",
       " ('exciting', 23),\n",
       " ('finest', 23),\n",
       " ('past', 23),\n",
       " ('sashimi', 23),\n",
       " ('souvlaki', 23),\n",
       " ('nicely', 23),\n",
       " ('water', 23),\n",
       " ('portugal', 23),\n",
       " ('medium', 22),\n",
       " ('japan', 22),\n",
       " ('post', 22),\n",
       " ('missed', 22),\n",
       " ('pri', 22),\n",
       " ('young', 22),\n",
       " ...]"
      ]
     },
     "execution_count": 67,
     "metadata": {},
     "output_type": "execute_result"
    }
   ],
   "source": [
    "all_words_counter = Counter()\n",
    "\n",
    "for words in data['Reviews'].str.lower().str.findall(\"[a-zA-Z]+\"):\n",
    "    all_words_counter.update(filter(lambda x: len(x) > 2, words))\n",
    "\n",
    "all_words_counter.most_common()"
   ]
  },
  {
   "cell_type": "markdown",
   "execution_count": null,
   "metadata": {},
   "source": [
    "Составим списки из однозначно плохих и хороших слов, использование которых могут с большой вероятностью охарактеризовать обзор"
   ]
  },
  {
   "cell_type": "code",
   "execution_count": 68,
   "metadata": {},
   "outputs": [],
   "source": [
    "positive_words = ['excellent', 'best', 'amazing', 'fantastic',\n",
    "           'perfect', 'wonderful', 'gem', 'awesome', 'superb', \n",
    "            'cool', 'fabulous', 'brilliant', 'outstanding',\n",
    "           'wow', 'delightful', 'incredible', 'exceptional', 'gorgeous']\n",
    "\n",
    "\n",
    "negative_words = ['bad', 'poor', 'disappoint', 'worst', 'terrible', \n",
    "                  'rude', 'awful', 'horrible', \n",
    "                  'unfriendly', 'shame', 'disgusting']\n",
    "\n",
    "def is_positive(review):\n",
    "    for word in positive_words:\n",
    "        if word in review:\n",
    "            return 1\n",
    "    return 0\n",
    "\n",
    "\n",
    "def is_negative(review):\n",
    "    for word in negative_words:\n",
    "        if word in review:\n",
    "            return 1\n",
    "    return 0\n",
    "    \n",
    "data['Positive_Reviews'] = data['Reviews'].apply(is_positive)\n",
    "data['Negative_Reviews'] = data['Reviews'].apply(is_negative)\n",
    "\n",
    "prepared_columns.add('Positive_Reviews')\n",
    "prepared_columns.add('Negative_Reviews')"
   ]
  },
  {
   "cell_type": "markdown",
   "execution_count": null,
   "metadata": {},
   "source": [
    "Добавим население городов из выборки, рассчитаем кол-во ресторанов на одного человека"
   ]
  },
  {
   "cell_type": "code",
   "execution_count": 69,
   "metadata": {},
   "outputs": [],
   "source": [
    "city_population= {'London' : 8908, 'Paris' : 2206, 'Madrid' : 3223, 'Barcelona' : 1620, \n",
    "                        'Berlin' : 6010, 'Milan' : 1366, 'Rome' : 2872, 'Prague' : 1308, \n",
    "                        'Lisbon' : 506, 'Vienna' : 1888, 'Amsterdam' : 860, 'Brussels' : 179, \n",
    "                        'Hamburg' : 1841, 'Munich' : 1457, 'Lyon' : 506, 'Stockholm' : 961, \n",
    "                        'Budapest' : 1752, 'Warsaw' : 1764, 'Dublin' : 553, \n",
    "                        'Copenhagen' : 616, 'Athens' : 665, 'Edinburgh' : 513, \n",
    "                        'Zurich' : 415, 'Oporto' : 240, 'Geneva' : 201, 'Krakow' : 769, \n",
    "                        'Oslo' : 681, 'Helsinki' : 643, 'Bratislava' : 426, \n",
    "                        'Luxembourg' : 119, 'Ljubljana' : 284}\n",
    "\n",
    "data['City_Population'] = data['City'].map(city_population)\n",
    "data['Restaurants_per_Person'] = data['City_Restaurants']/data['City_Population']\n",
    "data['City_Population'] = StandardScaler().fit_transform(data[['City_Population']])\n",
    "\n",
    "\n",
    "prepared_columns.add('City_Population')\n",
    "# prepared_columns.add('Restaurants_per_Person')"
   ]
  },
  {
   "cell_type": "markdown",
   "execution_count": null,
   "metadata": {},
   "source": [
    "# Data Preprocessing"
   ]
  },
  {
   "cell_type": "code",
   "execution_count": 70,
   "metadata": {},
   "outputs": [],
   "source": [
    "df_preproc = data"
   ]
  },
  {
   "cell_type": "code",
   "execution_count": 71,
   "metadata": {},
   "outputs": [
    {
     "name": "stdout",
     "output_type": "stream",
     "text": [
      "<class 'pandas.core.frame.DataFrame'>\n",
      "RangeIndex: 50000 entries, 0 to 49999\n",
      "Columns: 185 entries, Restaurant_id to Restaurants_per_Person\n",
      "dtypes: float64(9), int64(132), object(7), uint8(37)\n",
      "memory usage: 58.2+ MB\n"
     ]
    }
   ],
   "source": [
    "df_preproc.info()"
   ]
  },
  {
   "cell_type": "code",
   "execution_count": 72,
   "metadata": {},
   "outputs": [],
   "source": [
    "# Теперь выделим тестовую часть\n",
    "train_data = df_preproc.query('sample == 1').drop(['sample'], axis=1)[prepared_columns]\n",
    "test_data = df_preproc.query('sample == 0').drop(['sample'], axis=1)[prepared_columns]\n",
    "\n",
    "y = train_data.Rating.values            # наш таргет\n",
    "X = train_data.drop(['Rating'], axis=1)"
   ]
  },
  {
   "cell_type": "markdown",
   "execution_count": null,
   "metadata": {},
   "source": [
    "**Перед тем как отправлять наши данные на обучение, разделим данные на еще один тест и трейн, для валидации. \n",
    "Это поможет нам проверить, как хорошо наша модель работает, до отправки submissiona на kaggle.**"
   ]
  },
  {
   "cell_type": "code",
   "execution_count": 73,
   "metadata": {},
   "outputs": [],
   "source": [
    "# Воспользуемся специальной функцие train_test_split для разбивки тестовых данных\n",
    "# выделим 20% данных на валидацию (параметр test_size)\n",
    "X_train, X_test, y_train, y_test = train_test_split(\n",
    "    X, y, test_size=0.2, random_state=RANDOM_SEED)"
   ]
  },
  {
   "cell_type": "code",
   "execution_count": 74,
   "metadata": {},
   "outputs": [
    {
     "data": {
      "text/plain": [
       "((10000, 169), (40000, 169), (40000, 168), (32000, 168), (8000, 168))"
      ]
     },
     "execution_count": 74,
     "metadata": {},
     "output_type": "execute_result"
    }
   ],
   "source": [
    "# проверяем\n",
    "test_data.shape, train_data.shape, X.shape, X_train.shape, X_test.shape"
   ]
  },
  {
   "cell_type": "markdown",
   "execution_count": null,
   "metadata": {},
   "source": [
    "Конечные признаки учавствующие в анализе"
   ]
  },
  {
   "cell_type": "code",
   "execution_count": 75,
   "metadata": {},
   "outputs": [
    {
     "data": {
      "text/plain": [
       "{'Amsterdam',\n",
       " 'Athens',\n",
       " 'Barcelona',\n",
       " 'Berlin',\n",
       " 'Bratislava',\n",
       " 'Brussels',\n",
       " 'Budapest',\n",
       " 'City_Population',\n",
       " 'Copenhagen',\n",
       " 'Days_from_Last_Review',\n",
       " 'Days_from_Last_Review_isNAN',\n",
       " 'Dublin',\n",
       " 'Edinburgh',\n",
       " 'Geneva',\n",
       " 'Hamburg',\n",
       " 'Helsinki',\n",
       " 'Krakow',\n",
       " 'Lisbon',\n",
       " 'Ljubljana',\n",
       " 'London',\n",
       " 'Luxembourg',\n",
       " 'Lyon',\n",
       " 'Madrid',\n",
       " 'Milan',\n",
       " 'Munich',\n",
       " 'Negative_Reviews',\n",
       " 'Norm_City_Ranking',\n",
       " 'Number_of_Days_Between_Reviews',\n",
       " 'Number_of_Reviews',\n",
       " 'Number_of_Reviews_isNAN',\n",
       " 'Oporto',\n",
       " 'Oslo',\n",
       " 'Paris',\n",
       " 'Positive_Reviews',\n",
       " 'Prague',\n",
       " 'Price_Range',\n",
       " 'Ranking',\n",
       " 'Rating',\n",
       " 'Rome',\n",
       " 'Stockholm',\n",
       " 'Vienna',\n",
       " 'Warsaw',\n",
       " 'Zurich',\n",
       " 'afghani',\n",
       " 'african',\n",
       " 'albanian',\n",
       " 'american',\n",
       " 'arabic',\n",
       " 'argentinean',\n",
       " 'armenian',\n",
       " 'asian',\n",
       " 'australian',\n",
       " 'austrian',\n",
       " 'azerbaijani',\n",
       " 'balti',\n",
       " 'bangladeshi',\n",
       " 'bar',\n",
       " 'barbecue',\n",
       " 'belgian',\n",
       " 'brazilian',\n",
       " 'brew pub',\n",
       " 'british',\n",
       " 'burmese',\n",
       " 'cafe',\n",
       " 'cajun & creole',\n",
       " 'cambodian',\n",
       " 'canadian',\n",
       " 'caribbean',\n",
       " 'caucasian',\n",
       " 'central american',\n",
       " 'central asian',\n",
       " 'central european',\n",
       " 'chilean',\n",
       " 'chinese',\n",
       " 'colombian',\n",
       " 'contemporary',\n",
       " 'croatian',\n",
       " 'cuban',\n",
       " 'czech',\n",
       " 'danish',\n",
       " 'delicatessen',\n",
       " 'diner',\n",
       " 'dutch',\n",
       " 'eastern european',\n",
       " 'ecuadorean',\n",
       " 'egyptian',\n",
       " 'ethiopian',\n",
       " 'european',\n",
       " 'fast food',\n",
       " 'filipino',\n",
       " 'french',\n",
       " 'fujian',\n",
       " 'fusion',\n",
       " 'gastropub',\n",
       " 'georgian',\n",
       " 'german',\n",
       " 'gluten free options',\n",
       " 'greek',\n",
       " 'grill',\n",
       " 'halal',\n",
       " 'hawaiian',\n",
       " 'healthy',\n",
       " 'hungarian',\n",
       " 'indian',\n",
       " 'indonesian',\n",
       " 'international',\n",
       " 'irish',\n",
       " 'israeli',\n",
       " 'italian',\n",
       " 'jamaican',\n",
       " 'japanese',\n",
       " 'korean',\n",
       " 'kosher',\n",
       " 'latin',\n",
       " 'latvian',\n",
       " 'lebanese',\n",
       " 'malaysian',\n",
       " 'mediterranean',\n",
       " 'mexican',\n",
       " 'middle eastern',\n",
       " 'minority chinese',\n",
       " 'mongolian',\n",
       " 'moroccan',\n",
       " 'native american',\n",
       " 'nepali',\n",
       " 'new zealand',\n",
       " 'norwegian',\n",
       " 'other',\n",
       " 'pakistani',\n",
       " 'persian',\n",
       " 'peruvian',\n",
       " 'pizza',\n",
       " 'polish',\n",
       " 'polynesian',\n",
       " 'portuguese',\n",
       " 'pub',\n",
       " 'romanian',\n",
       " 'russian',\n",
       " 'salvadoran',\n",
       " 'scandinavian',\n",
       " 'scottish',\n",
       " 'seafood',\n",
       " 'singaporean',\n",
       " 'slovenian',\n",
       " 'soups',\n",
       " 'south american',\n",
       " 'southwestern',\n",
       " 'spanish',\n",
       " 'sri lankan',\n",
       " 'steakhouse',\n",
       " 'street food',\n",
       " 'sushi',\n",
       " 'swedish',\n",
       " 'swiss',\n",
       " 'taiwanese',\n",
       " 'thai',\n",
       " 'tibetan',\n",
       " 'tunisian',\n",
       " 'turkish',\n",
       " 'ukrainian',\n",
       " 'uzbek',\n",
       " 'vegan options',\n",
       " 'vegetarian friendly',\n",
       " 'venezuelan',\n",
       " 'vietnamese',\n",
       " 'welsh',\n",
       " 'wine bar',\n",
       " 'xinjiang',\n",
       " 'yunnan'}"
      ]
     },
     "execution_count": 75,
     "metadata": {},
     "output_type": "execute_result"
    }
   ],
   "source": [
    "prepared_columns"
   ]
  },
  {
   "cell_type": "markdown",
   "execution_count": null,
   "metadata": {},
   "source": [
    "# Model \n",
    "Сам ML"
   ]
  },
  {
   "cell_type": "code",
   "execution_count": 76,
   "metadata": {},
   "outputs": [],
   "source": [
    "# Импортируем необходимые библиотеки:\n",
    "from sklearn.ensemble import RandomForestRegressor # инструмент для создания и обучения модели\n",
    "from sklearn import metrics # инструменты для оценки точности модели"
   ]
  },
  {
   "cell_type": "code",
   "execution_count": 77,
   "metadata": {},
   "outputs": [],
   "source": [
    "# Создаём модель (НАСТРОЙКИ НЕ ТРОГАЕМ)\n",
    "model = RandomForestRegressor(n_estimators=100, verbose=1, n_jobs=-1, random_state=RANDOM_SEED)"
   ]
  },
  {
   "cell_type": "code",
   "execution_count": 78,
   "metadata": {},
   "outputs": [
    {
     "name": "stderr",
     "output_type": "stream",
     "text": [
      "[Parallel(n_jobs=-1)]: Using backend ThreadingBackend with 4 concurrent workers.\n",
      "[Parallel(n_jobs=-1)]: Done  42 tasks      | elapsed:    7.5s\n",
      "[Parallel(n_jobs=-1)]: Done 100 out of 100 | elapsed:   17.6s finished\n",
      "[Parallel(n_jobs=4)]: Using backend ThreadingBackend with 4 concurrent workers.\n",
      "[Parallel(n_jobs=4)]: Done  42 tasks      | elapsed:    0.0s\n",
      "[Parallel(n_jobs=4)]: Done 100 out of 100 | elapsed:    0.1s finished\n"
     ]
    }
   ],
   "source": [
    "# Обучаем модель на тестовом наборе данных\n",
    "model.fit(X_train, y_train)\n",
    "\n",
    "# Используем обученную модель для предсказания рейтинга ресторанов в тестовой выборке.\n",
    "# Предсказанные значения записываем в переменную y_pred\n",
    "y_pred = model.predict(X_test)\n",
    "y_pred = list(map(lambda x: round(x * 2) / 2, y_pred))"
   ]
  },
  {
   "cell_type": "code",
   "execution_count": 79,
   "metadata": {},
   "outputs": [
    {
     "name": "stdout",
     "output_type": "stream",
     "text": [
      "MAE: 0.170125\n"
     ]
    }
   ],
   "source": [
    "# Сравниваем предсказанные значения (y_pred) с реальными (y_test), и смотрим насколько они в среднем отличаются\n",
    "# Метрика называется Mean Absolute Error (MAE) и показывает среднее отклонение предсказанных значений от фактических.\n",
    "print('MAE:', metrics.mean_absolute_error(y_test, y_pred))"
   ]
  },
  {
   "cell_type": "code",
   "execution_count": 80,
   "metadata": {},
   "outputs": [
    {
     "data": {
      "text/plain": [
       "<matplotlib.axes._subplots.AxesSubplot at 0x7fcc4618dc88>"
      ]
     },
     "execution_count": 80,
     "metadata": {},
     "output_type": "execute_result"
    },
    {
     "data": {
      "image/png": "[encoded data removed]",
      "text/plain": [
       "<Figure size 720x720 with 1 Axes>"
      ]
     },
     "metadata": {
      "needs_background": "light"
     },
     "output_type": "display_data"
    }
   ],
   "source": [
    "# в RandomForestRegressor есть возможность вывести самые важные признаки для модели\n",
    "plt.rcParams['figure.figsize'] = (10,10)\n",
    "feat_importances = pd.Series(model.feature_importances_, index=X.columns)\n",
    "feat_importances.nlargest(15).plot(kind='barh')"
   ]
  },
  {
   "cell_type": "markdown",
   "execution_count": null,
   "metadata": {},
   "source": [
    "# Submission\n",
    "Если все устраевает - готовим Submission на кагл"
   ]
  },
  {
   "cell_type": "code",
   "execution_count": 81,
   "metadata": {},
   "outputs": [
    {
     "data": {
      "text/html": [
       "<div>\n",
       "<style scoped>\n",
       "    .dataframe tbody tr th:only-of-type {\n",
       "        vertical-align: middle;\n",
       "    }\n",
       "\n",
       "    .dataframe tbody tr th {\n",
       "        vertical-align: top;\n",
       "    }\n",
       "\n",
       "    .dataframe thead th {\n",
       "        text-align: right;\n",
       "    }\n",
       "</style>\n",
       "<table border=\"1\" class=\"dataframe\">\n",
       "  <thead>\n",
       "    <tr style=\"text-align: right;\">\n",
       "      <th></th>\n",
       "      <th>chilean</th>\n",
       "      <th>chinese</th>\n",
       "      <th>ethiopian</th>\n",
       "      <th>irish</th>\n",
       "      <th>eastern european</th>\n",
       "      <th>diner</th>\n",
       "      <th>Geneva</th>\n",
       "      <th>korean</th>\n",
       "      <th>greek</th>\n",
       "      <th>barbecue</th>\n",
       "      <th>...</th>\n",
       "      <th>delicatessen</th>\n",
       "      <th>scandinavian</th>\n",
       "      <th>caribbean</th>\n",
       "      <th>ecuadorean</th>\n",
       "      <th>London</th>\n",
       "      <th>street food</th>\n",
       "      <th>ukrainian</th>\n",
       "      <th>latvian</th>\n",
       "      <th>mongolian</th>\n",
       "      <th>halal</th>\n",
       "    </tr>\n",
       "  </thead>\n",
       "  <tbody>\n",
       "    <tr>\n",
       "      <th>9865</th>\n",
       "      <td>0</td>\n",
       "      <td>0</td>\n",
       "      <td>0</td>\n",
       "      <td>0</td>\n",
       "      <td>0</td>\n",
       "      <td>0</td>\n",
       "      <td>0</td>\n",
       "      <td>0</td>\n",
       "      <td>0</td>\n",
       "      <td>0</td>\n",
       "      <td>...</td>\n",
       "      <td>0</td>\n",
       "      <td>0</td>\n",
       "      <td>0</td>\n",
       "      <td>0</td>\n",
       "      <td>0</td>\n",
       "      <td>0</td>\n",
       "      <td>0</td>\n",
       "      <td>0</td>\n",
       "      <td>0</td>\n",
       "      <td>0</td>\n",
       "    </tr>\n",
       "    <tr>\n",
       "      <th>884</th>\n",
       "      <td>0</td>\n",
       "      <td>0</td>\n",
       "      <td>0</td>\n",
       "      <td>0</td>\n",
       "      <td>0</td>\n",
       "      <td>0</td>\n",
       "      <td>0</td>\n",
       "      <td>0</td>\n",
       "      <td>0</td>\n",
       "      <td>0</td>\n",
       "      <td>...</td>\n",
       "      <td>0</td>\n",
       "      <td>0</td>\n",
       "      <td>0</td>\n",
       "      <td>0</td>\n",
       "      <td>0</td>\n",
       "      <td>0</td>\n",
       "      <td>0</td>\n",
       "      <td>0</td>\n",
       "      <td>0</td>\n",
       "      <td>0</td>\n",
       "    </tr>\n",
       "    <tr>\n",
       "      <th>7101</th>\n",
       "      <td>0</td>\n",
       "      <td>0</td>\n",
       "      <td>0</td>\n",
       "      <td>0</td>\n",
       "      <td>0</td>\n",
       "      <td>0</td>\n",
       "      <td>0</td>\n",
       "      <td>0</td>\n",
       "      <td>0</td>\n",
       "      <td>0</td>\n",
       "      <td>...</td>\n",
       "      <td>0</td>\n",
       "      <td>0</td>\n",
       "      <td>0</td>\n",
       "      <td>0</td>\n",
       "      <td>1</td>\n",
       "      <td>0</td>\n",
       "      <td>0</td>\n",
       "      <td>0</td>\n",
       "      <td>0</td>\n",
       "      <td>0</td>\n",
       "    </tr>\n",
       "    <tr>\n",
       "      <th>8065</th>\n",
       "      <td>0</td>\n",
       "      <td>0</td>\n",
       "      <td>0</td>\n",
       "      <td>0</td>\n",
       "      <td>0</td>\n",
       "      <td>0</td>\n",
       "      <td>0</td>\n",
       "      <td>0</td>\n",
       "      <td>0</td>\n",
       "      <td>0</td>\n",
       "      <td>...</td>\n",
       "      <td>0</td>\n",
       "      <td>0</td>\n",
       "      <td>0</td>\n",
       "      <td>0</td>\n",
       "      <td>1</td>\n",
       "      <td>0</td>\n",
       "      <td>0</td>\n",
       "      <td>0</td>\n",
       "      <td>0</td>\n",
       "      <td>0</td>\n",
       "    </tr>\n",
       "    <tr>\n",
       "      <th>7003</th>\n",
       "      <td>0</td>\n",
       "      <td>0</td>\n",
       "      <td>0</td>\n",
       "      <td>0</td>\n",
       "      <td>0</td>\n",
       "      <td>0</td>\n",
       "      <td>0</td>\n",
       "      <td>0</td>\n",
       "      <td>0</td>\n",
       "      <td>0</td>\n",
       "      <td>...</td>\n",
       "      <td>0</td>\n",
       "      <td>0</td>\n",
       "      <td>0</td>\n",
       "      <td>0</td>\n",
       "      <td>0</td>\n",
       "      <td>0</td>\n",
       "      <td>0</td>\n",
       "      <td>0</td>\n",
       "      <td>0</td>\n",
       "      <td>0</td>\n",
       "    </tr>\n",
       "    <tr>\n",
       "      <th>2219</th>\n",
       "      <td>0</td>\n",
       "      <td>0</td>\n",
       "      <td>0</td>\n",
       "      <td>0</td>\n",
       "      <td>0</td>\n",
       "      <td>0</td>\n",
       "      <td>0</td>\n",
       "      <td>0</td>\n",
       "      <td>0</td>\n",
       "      <td>0</td>\n",
       "      <td>...</td>\n",
       "      <td>0</td>\n",
       "      <td>0</td>\n",
       "      <td>0</td>\n",
       "      <td>0</td>\n",
       "      <td>0</td>\n",
       "      <td>0</td>\n",
       "      <td>0</td>\n",
       "      <td>0</td>\n",
       "      <td>0</td>\n",
       "      <td>0</td>\n",
       "    </tr>\n",
       "    <tr>\n",
       "      <th>1893</th>\n",
       "      <td>0</td>\n",
       "      <td>0</td>\n",
       "      <td>0</td>\n",
       "      <td>0</td>\n",
       "      <td>0</td>\n",
       "      <td>0</td>\n",
       "      <td>0</td>\n",
       "      <td>0</td>\n",
       "      <td>0</td>\n",
       "      <td>0</td>\n",
       "      <td>...</td>\n",
       "      <td>0</td>\n",
       "      <td>0</td>\n",
       "      <td>0</td>\n",
       "      <td>0</td>\n",
       "      <td>0</td>\n",
       "      <td>0</td>\n",
       "      <td>0</td>\n",
       "      <td>0</td>\n",
       "      <td>0</td>\n",
       "      <td>0</td>\n",
       "    </tr>\n",
       "    <tr>\n",
       "      <th>4419</th>\n",
       "      <td>0</td>\n",
       "      <td>0</td>\n",
       "      <td>0</td>\n",
       "      <td>0</td>\n",
       "      <td>0</td>\n",
       "      <td>0</td>\n",
       "      <td>1</td>\n",
       "      <td>0</td>\n",
       "      <td>0</td>\n",
       "      <td>0</td>\n",
       "      <td>...</td>\n",
       "      <td>0</td>\n",
       "      <td>0</td>\n",
       "      <td>0</td>\n",
       "      <td>0</td>\n",
       "      <td>0</td>\n",
       "      <td>0</td>\n",
       "      <td>0</td>\n",
       "      <td>0</td>\n",
       "      <td>0</td>\n",
       "      <td>0</td>\n",
       "    </tr>\n",
       "    <tr>\n",
       "      <th>9925</th>\n",
       "      <td>0</td>\n",
       "      <td>0</td>\n",
       "      <td>0</td>\n",
       "      <td>0</td>\n",
       "      <td>0</td>\n",
       "      <td>0</td>\n",
       "      <td>0</td>\n",
       "      <td>0</td>\n",
       "      <td>0</td>\n",
       "      <td>0</td>\n",
       "      <td>...</td>\n",
       "      <td>0</td>\n",
       "      <td>0</td>\n",
       "      <td>0</td>\n",
       "      <td>0</td>\n",
       "      <td>0</td>\n",
       "      <td>0</td>\n",
       "      <td>0</td>\n",
       "      <td>0</td>\n",
       "      <td>0</td>\n",
       "      <td>0</td>\n",
       "    </tr>\n",
       "    <tr>\n",
       "      <th>4961</th>\n",
       "      <td>0</td>\n",
       "      <td>0</td>\n",
       "      <td>0</td>\n",
       "      <td>0</td>\n",
       "      <td>0</td>\n",
       "      <td>0</td>\n",
       "      <td>0</td>\n",
       "      <td>0</td>\n",
       "      <td>0</td>\n",
       "      <td>0</td>\n",
       "      <td>...</td>\n",
       "      <td>0</td>\n",
       "      <td>0</td>\n",
       "      <td>0</td>\n",
       "      <td>0</td>\n",
       "      <td>1</td>\n",
       "      <td>0</td>\n",
       "      <td>0</td>\n",
       "      <td>0</td>\n",
       "      <td>0</td>\n",
       "      <td>0</td>\n",
       "    </tr>\n",
       "  </tbody>\n",
       "</table>\n",
       "<p>10 rows × 169 columns</p>\n",
       "</div>"
      ],
      "text/plain": [
       "      chilean  chinese  ethiopian  irish  eastern european  diner  Geneva  \\\n",
       "9865        0        0          0      0                 0      0       0   \n",
       "884         0        0          0      0                 0      0       0   \n",
       "7101        0        0          0      0                 0      0       0   \n",
       "8065        0        0          0      0                 0      0       0   \n",
       "7003        0        0          0      0                 0      0       0   \n",
       "2219        0        0          0      0                 0      0       0   \n",
       "1893        0        0          0      0                 0      0       0   \n",
       "4419        0        0          0      0                 0      0       1   \n",
       "9925        0        0          0      0                 0      0       0   \n",
       "4961        0        0          0      0                 0      0       0   \n",
       "\n",
       "      korean  greek  barbecue  ...  delicatessen  scandinavian  caribbean  \\\n",
       "9865       0      0         0  ...             0             0          0   \n",
       "884        0      0         0  ...             0             0          0   \n",
       "7101       0      0         0  ...             0             0          0   \n",
       "8065       0      0         0  ...             0             0          0   \n",
       "7003       0      0         0  ...             0             0          0   \n",
       "2219       0      0         0  ...             0             0          0   \n",
       "1893       0      0         0  ...             0             0          0   \n",
       "4419       0      0         0  ...             0             0          0   \n",
       "9925       0      0         0  ...             0             0          0   \n",
       "4961       0      0         0  ...             0             0          0   \n",
       "\n",
       "      ecuadorean  London  street food  ukrainian  latvian  mongolian  halal  \n",
       "9865           0       0            0          0        0          0      0  \n",
       "884            0       0            0          0        0          0      0  \n",
       "7101           0       1            0          0        0          0      0  \n",
       "8065           0       1            0          0        0          0      0  \n",
       "7003           0       0            0          0        0          0      0  \n",
       "2219           0       0            0          0        0          0      0  \n",
       "1893           0       0            0          0        0          0      0  \n",
       "4419           0       0            0          0        0          0      0  \n",
       "9925           0       0            0          0        0          0      0  \n",
       "4961           0       1            0          0        0          0      0  \n",
       "\n",
       "[10 rows x 169 columns]"
      ]
     },
     "execution_count": 81,
     "metadata": {},
     "output_type": "execute_result"
    }
   ],
   "source": [
    "test_data.sample(10)"
   ]
  },
  {
   "cell_type": "code",
   "execution_count": 82,
   "metadata": {},
   "outputs": [],
   "source": [
    "test_data = test_data.drop(['Rating'], axis=1)"
   ]
  },
  {
   "cell_type": "code",
   "execution_count": 83,
   "metadata": {},
   "outputs": [
    {
     "data": {
      "text/html": [
       "<div>\n",
       "<style scoped>\n",
       "    .dataframe tbody tr th:only-of-type {\n",
       "        vertical-align: middle;\n",
       "    }\n",
       "\n",
       "    .dataframe tbody tr th {\n",
       "        vertical-align: top;\n",
       "    }\n",
       "\n",
       "    .dataframe thead th {\n",
       "        text-align: right;\n",
       "    }\n",
       "</style>\n",
       "<table border=\"1\" class=\"dataframe\">\n",
       "  <thead>\n",
       "    <tr style=\"text-align: right;\">\n",
       "      <th></th>\n",
       "      <th>Restaurant_id</th>\n",
       "      <th>Rating</th>\n",
       "    </tr>\n",
       "  </thead>\n",
       "  <tbody>\n",
       "    <tr>\n",
       "      <th>0</th>\n",
       "      <td>id_0</td>\n",
       "      <td>2.0</td>\n",
       "    </tr>\n",
       "    <tr>\n",
       "      <th>1</th>\n",
       "      <td>id_1</td>\n",
       "      <td>2.5</td>\n",
       "    </tr>\n",
       "    <tr>\n",
       "      <th>2</th>\n",
       "      <td>id_2</td>\n",
       "      <td>4.0</td>\n",
       "    </tr>\n",
       "    <tr>\n",
       "      <th>3</th>\n",
       "      <td>id_3</td>\n",
       "      <td>1.0</td>\n",
       "    </tr>\n",
       "    <tr>\n",
       "      <th>4</th>\n",
       "      <td>id_4</td>\n",
       "      <td>4.0</td>\n",
       "    </tr>\n",
       "    <tr>\n",
       "      <th>...</th>\n",
       "      <td>...</td>\n",
       "      <td>...</td>\n",
       "    </tr>\n",
       "    <tr>\n",
       "      <th>9995</th>\n",
       "      <td>id_9995</td>\n",
       "      <td>3.0</td>\n",
       "    </tr>\n",
       "    <tr>\n",
       "      <th>9996</th>\n",
       "      <td>id_9996</td>\n",
       "      <td>1.5</td>\n",
       "    </tr>\n",
       "    <tr>\n",
       "      <th>9997</th>\n",
       "      <td>id_9997</td>\n",
       "      <td>4.5</td>\n",
       "    </tr>\n",
       "    <tr>\n",
       "      <th>9998</th>\n",
       "      <td>id_9998</td>\n",
       "      <td>1.0</td>\n",
       "    </tr>\n",
       "    <tr>\n",
       "      <th>9999</th>\n",
       "      <td>id_9999</td>\n",
       "      <td>2.5</td>\n",
       "    </tr>\n",
       "  </tbody>\n",
       "</table>\n",
       "<p>10000 rows × 2 columns</p>\n",
       "</div>"
      ],
      "text/plain": [
       "     Restaurant_id  Rating\n",
       "0             id_0     2.0\n",
       "1             id_1     2.5\n",
       "2             id_2     4.0\n",
       "3             id_3     1.0\n",
       "4             id_4     4.0\n",
       "...            ...     ...\n",
       "9995       id_9995     3.0\n",
       "9996       id_9996     1.5\n",
       "9997       id_9997     4.5\n",
       "9998       id_9998     1.0\n",
       "9999       id_9999     2.5\n",
       "\n",
       "[10000 rows x 2 columns]"
      ]
     },
     "execution_count": 83,
     "metadata": {},
     "output_type": "execute_result"
    }
   ],
   "source": [
    "sample_submission"
   ]
  },
  {
   "cell_type": "code",
   "execution_count": 84,
   "metadata": {},
   "outputs": [
    {
     "name": "stderr",
     "output_type": "stream",
     "text": [
      "[Parallel(n_jobs=4)]: Using backend ThreadingBackend with 4 concurrent workers.\n",
      "[Parallel(n_jobs=4)]: Done  42 tasks      | elapsed:    0.0s\n",
      "[Parallel(n_jobs=4)]: Done 100 out of 100 | elapsed:    0.1s finished\n"
     ]
    }
   ],
   "source": [
    "predict_submission = model.predict(test_data)"
   ]
  },
  {
   "cell_type": "code",
   "execution_count": 85,
   "metadata": {},
   "outputs": [],
   "source": [
    "predict_submission = list(map(lambda x: round(x * 2) / 2, predict_submission))"
   ]
  },
  {
   "cell_type": "code",
   "execution_count": 86,
   "metadata": {},
   "outputs": [
    {
     "data": {
      "text/plain": [
       "10000"
      ]
     },
     "execution_count": 86,
     "metadata": {},
     "output_type": "execute_result"
    }
   ],
   "source": [
    "len(sample_submission)"
   ]
  },
  {
   "cell_type": "code",
   "execution_count": 87,
   "metadata": {},
   "outputs": [
    {
     "data": {
      "text/html": [
       "<div>\n",
       "<style scoped>\n",
       "    .dataframe tbody tr th:only-of-type {\n",
       "        vertical-align: middle;\n",
       "    }\n",
       "\n",
       "    .dataframe tbody tr th {\n",
       "        vertical-align: top;\n",
       "    }\n",
       "\n",
       "    .dataframe thead th {\n",
       "        text-align: right;\n",
       "    }\n",
       "</style>\n",
       "<table border=\"1\" class=\"dataframe\">\n",
       "  <thead>\n",
       "    <tr style=\"text-align: right;\">\n",
       "      <th></th>\n",
       "      <th>Restaurant_id</th>\n",
       "      <th>Rating</th>\n",
       "    </tr>\n",
       "  </thead>\n",
       "  <tbody>\n",
       "    <tr>\n",
       "      <th>0</th>\n",
       "      <td>id_0</td>\n",
       "      <td>3.0</td>\n",
       "    </tr>\n",
       "    <tr>\n",
       "      <th>1</th>\n",
       "      <td>id_1</td>\n",
       "      <td>4.0</td>\n",
       "    </tr>\n",
       "    <tr>\n",
       "      <th>2</th>\n",
       "      <td>id_2</td>\n",
       "      <td>4.5</td>\n",
       "    </tr>\n",
       "    <tr>\n",
       "      <th>3</th>\n",
       "      <td>id_3</td>\n",
       "      <td>4.5</td>\n",
       "    </tr>\n",
       "    <tr>\n",
       "      <th>4</th>\n",
       "      <td>id_4</td>\n",
       "      <td>4.5</td>\n",
       "    </tr>\n",
       "    <tr>\n",
       "      <th>5</th>\n",
       "      <td>id_5</td>\n",
       "      <td>4.5</td>\n",
       "    </tr>\n",
       "    <tr>\n",
       "      <th>6</th>\n",
       "      <td>id_6</td>\n",
       "      <td>3.0</td>\n",
       "    </tr>\n",
       "    <tr>\n",
       "      <th>7</th>\n",
       "      <td>id_7</td>\n",
       "      <td>3.0</td>\n",
       "    </tr>\n",
       "    <tr>\n",
       "      <th>8</th>\n",
       "      <td>id_8</td>\n",
       "      <td>4.0</td>\n",
       "    </tr>\n",
       "    <tr>\n",
       "      <th>9</th>\n",
       "      <td>id_9</td>\n",
       "      <td>4.5</td>\n",
       "    </tr>\n",
       "  </tbody>\n",
       "</table>\n",
       "</div>"
      ],
      "text/plain": [
       "  Restaurant_id  Rating\n",
       "0          id_0     3.0\n",
       "1          id_1     4.0\n",
       "2          id_2     4.5\n",
       "3          id_3     4.5\n",
       "4          id_4     4.5\n",
       "5          id_5     4.5\n",
       "6          id_6     3.0\n",
       "7          id_7     3.0\n",
       "8          id_8     4.0\n",
       "9          id_9     4.5"
      ]
     },
     "execution_count": 87,
     "metadata": {},
     "output_type": "execute_result"
    }
   ],
   "source": [
    "sample_submission['Rating'] = predict_submission\n",
    "sample_submission.to_csv('submission.csv', index=False)\n",
    "sample_submission.head(10)"
   ]
  },
  {
   "cell_type": "code",
   "execution_count": null,
   "metadata": {},
   "outputs": [],
   "source": []
  }
 ],
 "metadata": {
  "kernelspec": {
   "display_name": "Python 3",
   "language": "python",
   "name": "python3"
  },
  "language_info": {
   "codemirror_mode": {
    "name": "ipython",
    "version": 3
   },
   "file_extension": ".py",
   "mimetype": "text/x-python",
   "name": "python",
   "nbconvert_exporter": "python",
   "pygments_lexer": "ipython3",
   "version": "3.6.6"
  }
 },
 "nbformat": 4,
 "nbformat_minor": 4
}

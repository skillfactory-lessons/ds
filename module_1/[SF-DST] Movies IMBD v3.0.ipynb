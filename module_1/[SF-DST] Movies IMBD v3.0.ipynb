{
 "cells": [
  {
   "cell_type": "code",
   "execution_count": 1,
   "metadata": {
    "_cell_guid": "b1076dfc-b9ad-4769-8c92-a6c4dae69d19",
    "_uuid": "8f2839f25d086af736a60e9eeb907d3b93b6e0e5"
   },
   "outputs": [
    {
     "name": "stdout",
     "output_type": "stream",
     "text": [
      "['data.csv']\n"
     ]
    }
   ],
   "source": [
    "import numpy as np\n",
    "import pandas as pd\n",
    "import seaborn as sns\n",
    "import matplotlib.pyplot as plt\n",
    "import os\n",
    "from collections import Counter\n",
    "print(os.listdir(\"data8\"))"
   ]
  },
  {
   "cell_type": "code",
   "execution_count": 2,
   "metadata": {
    "scrolled": true
   },
   "outputs": [
    {
     "data": {
      "text/html": [
       "<div>\n",
       "<style scoped>\n",
       "    .dataframe tbody tr th:only-of-type {\n",
       "        vertical-align: middle;\n",
       "    }\n",
       "\n",
       "    .dataframe tbody tr th {\n",
       "        vertical-align: top;\n",
       "    }\n",
       "\n",
       "    .dataframe thead th {\n",
       "        text-align: right;\n",
       "    }\n",
       "</style>\n",
       "<table border=\"1\" class=\"dataframe\">\n",
       "  <thead>\n",
       "    <tr style=\"text-align: right;\">\n",
       "      <th></th>\n",
       "      <th>imdb_id</th>\n",
       "      <th>popularity</th>\n",
       "      <th>budget</th>\n",
       "      <th>revenue</th>\n",
       "      <th>original_title</th>\n",
       "      <th>cast</th>\n",
       "      <th>director</th>\n",
       "      <th>tagline</th>\n",
       "      <th>overview</th>\n",
       "      <th>runtime</th>\n",
       "      <th>genres</th>\n",
       "      <th>production_companies</th>\n",
       "      <th>release_date</th>\n",
       "      <th>vote_count</th>\n",
       "      <th>vote_average</th>\n",
       "      <th>release_year</th>\n",
       "    </tr>\n",
       "  </thead>\n",
       "  <tbody>\n",
       "    <tr>\n",
       "      <th>0</th>\n",
       "      <td>tt0369610</td>\n",
       "      <td>32.985763</td>\n",
       "      <td>150000000</td>\n",
       "      <td>1513528810</td>\n",
       "      <td>Jurassic World</td>\n",
       "      <td>Chris Pratt|Bryce Dallas Howard|Irrfan Khan|Vi...</td>\n",
       "      <td>Colin Trevorrow</td>\n",
       "      <td>The park is open.</td>\n",
       "      <td>Twenty-two years after the events of Jurassic ...</td>\n",
       "      <td>124</td>\n",
       "      <td>Action|Adventure|Science Fiction|Thriller</td>\n",
       "      <td>Universal Studios|Amblin Entertainment|Legenda...</td>\n",
       "      <td>6/9/2015</td>\n",
       "      <td>5562</td>\n",
       "      <td>6.5</td>\n",
       "      <td>2015</td>\n",
       "    </tr>\n",
       "    <tr>\n",
       "      <th>1</th>\n",
       "      <td>tt1392190</td>\n",
       "      <td>28.419936</td>\n",
       "      <td>150000000</td>\n",
       "      <td>378436354</td>\n",
       "      <td>Mad Max: Fury Road</td>\n",
       "      <td>Tom Hardy|Charlize Theron|Hugh Keays-Byrne|Nic...</td>\n",
       "      <td>George Miller</td>\n",
       "      <td>What a Lovely Day.</td>\n",
       "      <td>An apocalyptic story set in the furthest reach...</td>\n",
       "      <td>120</td>\n",
       "      <td>Action|Adventure|Science Fiction|Thriller</td>\n",
       "      <td>Village Roadshow Pictures|Kennedy Miller Produ...</td>\n",
       "      <td>5/13/2015</td>\n",
       "      <td>6185</td>\n",
       "      <td>7.1</td>\n",
       "      <td>2015</td>\n",
       "    </tr>\n",
       "    <tr>\n",
       "      <th>2</th>\n",
       "      <td>tt2908446</td>\n",
       "      <td>13.112507</td>\n",
       "      <td>110000000</td>\n",
       "      <td>295238201</td>\n",
       "      <td>Insurgent</td>\n",
       "      <td>Shailene Woodley|Theo James|Kate Winslet|Ansel...</td>\n",
       "      <td>Robert Schwentke</td>\n",
       "      <td>One Choice Can Destroy You</td>\n",
       "      <td>Beatrice Prior must confront her inner demons ...</td>\n",
       "      <td>119</td>\n",
       "      <td>Adventure|Science Fiction|Thriller</td>\n",
       "      <td>Summit Entertainment|Mandeville Films|Red Wago...</td>\n",
       "      <td>3/18/2015</td>\n",
       "      <td>2480</td>\n",
       "      <td>6.3</td>\n",
       "      <td>2015</td>\n",
       "    </tr>\n",
       "    <tr>\n",
       "      <th>3</th>\n",
       "      <td>tt2488496</td>\n",
       "      <td>11.173104</td>\n",
       "      <td>200000000</td>\n",
       "      <td>2068178225</td>\n",
       "      <td>Star Wars: The Force Awakens</td>\n",
       "      <td>Harrison Ford|Mark Hamill|Carrie Fisher|Adam D...</td>\n",
       "      <td>J.J. Abrams</td>\n",
       "      <td>Every generation has a story.</td>\n",
       "      <td>Thirty years after defeating the Galactic Empi...</td>\n",
       "      <td>136</td>\n",
       "      <td>Action|Adventure|Science Fiction|Fantasy</td>\n",
       "      <td>Lucasfilm|Truenorth Productions|Bad Robot</td>\n",
       "      <td>12/15/2015</td>\n",
       "      <td>5292</td>\n",
       "      <td>7.5</td>\n",
       "      <td>2015</td>\n",
       "    </tr>\n",
       "    <tr>\n",
       "      <th>4</th>\n",
       "      <td>tt2820852</td>\n",
       "      <td>9.335014</td>\n",
       "      <td>190000000</td>\n",
       "      <td>1506249360</td>\n",
       "      <td>Furious 7</td>\n",
       "      <td>Vin Diesel|Paul Walker|Jason Statham|Michelle ...</td>\n",
       "      <td>James Wan</td>\n",
       "      <td>Vengeance Hits Home</td>\n",
       "      <td>Deckard Shaw seeks revenge against Dominic Tor...</td>\n",
       "      <td>137</td>\n",
       "      <td>Action|Crime|Thriller</td>\n",
       "      <td>Universal Pictures|Original Film|Media Rights ...</td>\n",
       "      <td>4/1/2015</td>\n",
       "      <td>2947</td>\n",
       "      <td>7.3</td>\n",
       "      <td>2015</td>\n",
       "    </tr>\n",
       "  </tbody>\n",
       "</table>\n",
       "</div>"
      ],
      "text/plain": [
       "     imdb_id  popularity     budget     revenue                original_title  \\\n",
       "0  tt0369610   32.985763  150000000  1513528810                Jurassic World   \n",
       "1  tt1392190   28.419936  150000000   378436354            Mad Max: Fury Road   \n",
       "2  tt2908446   13.112507  110000000   295238201                     Insurgent   \n",
       "3  tt2488496   11.173104  200000000  2068178225  Star Wars: The Force Awakens   \n",
       "4  tt2820852    9.335014  190000000  1506249360                     Furious 7   \n",
       "\n",
       "                                                cast          director  \\\n",
       "0  Chris Pratt|Bryce Dallas Howard|Irrfan Khan|Vi...   Colin Trevorrow   \n",
       "1  Tom Hardy|Charlize Theron|Hugh Keays-Byrne|Nic...     George Miller   \n",
       "2  Shailene Woodley|Theo James|Kate Winslet|Ansel...  Robert Schwentke   \n",
       "3  Harrison Ford|Mark Hamill|Carrie Fisher|Adam D...       J.J. Abrams   \n",
       "4  Vin Diesel|Paul Walker|Jason Statham|Michelle ...         James Wan   \n",
       "\n",
       "                         tagline  \\\n",
       "0              The park is open.   \n",
       "1             What a Lovely Day.   \n",
       "2     One Choice Can Destroy You   \n",
       "3  Every generation has a story.   \n",
       "4            Vengeance Hits Home   \n",
       "\n",
       "                                            overview  runtime  \\\n",
       "0  Twenty-two years after the events of Jurassic ...      124   \n",
       "1  An apocalyptic story set in the furthest reach...      120   \n",
       "2  Beatrice Prior must confront her inner demons ...      119   \n",
       "3  Thirty years after defeating the Galactic Empi...      136   \n",
       "4  Deckard Shaw seeks revenge against Dominic Tor...      137   \n",
       "\n",
       "                                      genres  \\\n",
       "0  Action|Adventure|Science Fiction|Thriller   \n",
       "1  Action|Adventure|Science Fiction|Thriller   \n",
       "2         Adventure|Science Fiction|Thriller   \n",
       "3   Action|Adventure|Science Fiction|Fantasy   \n",
       "4                      Action|Crime|Thriller   \n",
       "\n",
       "                                production_companies release_date  vote_count  \\\n",
       "0  Universal Studios|Amblin Entertainment|Legenda...     6/9/2015        5562   \n",
       "1  Village Roadshow Pictures|Kennedy Miller Produ...    5/13/2015        6185   \n",
       "2  Summit Entertainment|Mandeville Films|Red Wago...    3/18/2015        2480   \n",
       "3          Lucasfilm|Truenorth Productions|Bad Robot   12/15/2015        5292   \n",
       "4  Universal Pictures|Original Film|Media Rights ...     4/1/2015        2947   \n",
       "\n",
       "   vote_average  release_year  \n",
       "0           6.5          2015  \n",
       "1           7.1          2015  \n",
       "2           6.3          2015  \n",
       "3           7.5          2015  \n",
       "4           7.3          2015  "
      ]
     },
     "execution_count": 2,
     "metadata": {},
     "output_type": "execute_result"
    }
   ],
   "source": [
    "data = pd.read_csv('data8/data.csv')\n",
    "data.head(5)"
   ]
  },
  {
   "cell_type": "code",
   "execution_count": 3,
   "metadata": {},
   "outputs": [
    {
     "data": {
      "text/plain": [
       "1890"
      ]
     },
     "execution_count": 3,
     "metadata": {},
     "output_type": "execute_result"
    }
   ],
   "source": [
    "len(data)"
   ]
  },
  {
   "cell_type": "markdown",
   "metadata": {},
   "source": [
    "# Предобработка датасета"
   ]
  },
  {
   "cell_type": "code",
   "execution_count": 4,
   "metadata": {},
   "outputs": [],
   "source": [
    "answer_ls = [] # создадим список с ответами. сюда будем добавлять ответы по мере прохождения теста\n",
    "# сюда можем вписать создание новых колонок в датасете"
   ]
  },
  {
   "cell_type": "markdown",
   "metadata": {},
   "source": [
    "# 1. У какого фильма из списка самый большой бюджет?\n",
    "Варианты ответов:\n",
    "1. The Dark Knight Rises (tt1345836)\n",
    "2. Spider-Man 3 (tt0413300)\n",
    "3. Avengers: Age of Ultron (tt2395427)\n",
    "4. The Warrior's Way\t(tt1032751)\n",
    "5. Pirates of the Caribbean: On Stranger Tides (tt1298650)"
   ]
  },
  {
   "cell_type": "code",
   "execution_count": 5,
   "metadata": {},
   "outputs": [
    {
     "data": {
      "text/plain": [
       "imdb_id                                                         tt1032751\n",
       "popularity                                                        0.25054\n",
       "budget                                                          425000000\n",
       "revenue                                                          11087569\n",
       "original_title                                          The Warrior's Way\n",
       "cast                    Kate Bosworth|Jang Dong-gun|Geoffrey Rush|Dann...\n",
       "director                                                       Sngmoo Lee\n",
       "tagline                                           Assassin. Hero. Legend.\n",
       "overview                An Asian assassin (Dong-gun Jang) is forced to...\n",
       "runtime                                                               100\n",
       "genres                          Adventure|Fantasy|Action|Western|Thriller\n",
       "production_companies                             Boram Entertainment Inc.\n",
       "release_date                                                    12/2/2010\n",
       "vote_count                                                             74\n",
       "vote_average                                                          6.4\n",
       "release_year                                                         2010\n",
       "Name: 491, dtype: object"
      ]
     },
     "metadata": {},
     "output_type": "display_data"
    }
   ],
   "source": [
    "display(data.loc[data.budget.idxmax()])\n",
    "answer_ls.append(4)"
   ]
  },
  {
   "cell_type": "markdown",
   "metadata": {},
   "source": [
    "# 2. Какой из фильмов самый длительный (в минутах)\n",
    "1. The Lord of the Rings: The Return of the King\t(tt0167260)\n",
    "2. Gods and Generals\t(tt0279111)\n",
    "3. King Kong\t(tt0360717)\n",
    "4. Pearl Harbor\t(tt0213149)\n",
    "5. Alexander\t(tt0346491)"
   ]
  },
  {
   "cell_type": "code",
   "execution_count": 6,
   "metadata": {},
   "outputs": [
    {
     "data": {
      "text/plain": [
       "imdb_id                                                         tt0279111\n",
       "popularity                                                       0.469518\n",
       "budget                                                           56000000\n",
       "revenue                                                          12923936\n",
       "original_title                                          Gods and Generals\n",
       "cast                    Stephen Lang|Jeff Daniels|Robert Duvall|Kevin ...\n",
       "director                                                Ronald F. Maxwell\n",
       "tagline                               The nations heart was touched by...\n",
       "overview                The film centers mostly around the personal an...\n",
       "runtime                                                               214\n",
       "genres                                                  Drama|History|War\n",
       "production_companies                   Turner Pictures|Antietam Filmworks\n",
       "release_date                                                    2/21/2003\n",
       "vote_count                                                             23\n",
       "vote_average                                                          5.8\n",
       "release_year                                                         2003\n",
       "Name: 1158, dtype: object"
      ]
     },
     "metadata": {},
     "output_type": "display_data"
    }
   ],
   "source": [
    "display(data.loc[data.runtime.idxmax()])\n",
    "answer_ls.append(2)"
   ]
  },
  {
   "cell_type": "markdown",
   "metadata": {},
   "source": [
    "# 3. Какой из фильмов самый короткий (в минутах)\n",
    "Варианты ответов:\n",
    "\n",
    "1. Home on the Range\ttt0299172\n",
    "2. The Jungle Book 2\ttt0283426\n",
    "3. Winnie the Pooh\ttt1449283\n",
    "4. Corpse Bride\ttt0121164\n",
    "5. Hoodwinked!\ttt0443536"
   ]
  },
  {
   "cell_type": "code",
   "execution_count": 7,
   "metadata": {},
   "outputs": [
    {
     "data": {
      "text/plain": [
       "imdb_id                                                         tt1449283\n",
       "popularity                                                        1.42534\n",
       "budget                                                           30000000\n",
       "revenue                                                          14460000\n",
       "original_title                                            Winnie the Pooh\n",
       "cast                    Jim Cummings|Travis Oates|Jim Cummings|Bud Luc...\n",
       "director                                        Stephen Anderson|Don Hall\n",
       "tagline                                                          Oh Pooh.\n",
       "overview                During an ordinary day in Hundred Acre Wood, W...\n",
       "runtime                                                                63\n",
       "genres                                                   Animation|Family\n",
       "production_companies    Walt Disney Pictures|Walt Disney Animation Stu...\n",
       "release_date                                                    4/13/2011\n",
       "vote_count                                                            174\n",
       "vote_average                                                          6.8\n",
       "release_year                                                         2011\n",
       "Name: 769, dtype: object"
      ]
     },
     "metadata": {},
     "output_type": "display_data"
    }
   ],
   "source": [
    "display(data.loc[data.runtime.idxmin()])\n",
    "answer_ls.append(3)"
   ]
  },
  {
   "cell_type": "markdown",
   "metadata": {},
   "source": [
    "# 4. Средняя длительность фильма?\n",
    "\n",
    "Варианты ответов:\n",
    "1. 115\n",
    "2. 110\n",
    "3. 105\n",
    "4. 120\n",
    "5. 100\n"
   ]
  },
  {
   "cell_type": "code",
   "execution_count": 8,
   "metadata": {},
   "outputs": [
    {
     "data": {
      "text/plain": [
       "count    1890.000000\n",
       "mean      109.653439\n",
       "std        18.013641\n",
       "min        63.000000\n",
       "25%        97.000000\n",
       "50%       106.500000\n",
       "75%       120.000000\n",
       "max       214.000000\n",
       "Name: runtime, dtype: float64"
      ]
     },
     "metadata": {},
     "output_type": "display_data"
    }
   ],
   "source": [
    "display(data.runtime.describe())\n",
    "answer_ls.append(2)"
   ]
  },
  {
   "cell_type": "markdown",
   "metadata": {},
   "source": [
    "# 5. Средняя длительность фильма по медиане?\n",
    "Варианты ответов:\n",
    "1. 106\n",
    "2. 112\n",
    "3. 101\n",
    "4. 120\n",
    "5. 115\n",
    "\n",
    "\n"
   ]
  },
  {
   "cell_type": "code",
   "execution_count": 9,
   "metadata": {},
   "outputs": [
    {
     "data": {
      "text/plain": [
       "106.5"
      ]
     },
     "metadata": {},
     "output_type": "display_data"
    }
   ],
   "source": [
    "display(data.runtime.median())\n",
    "answer_ls.append(1)"
   ]
  },
  {
   "cell_type": "markdown",
   "metadata": {},
   "source": [
    "# 6. Какой самый прибыльный фильм?\n",
    "Варианты ответов:\n",
    "1. The Avengers\ttt0848228\n",
    "2. Minions\ttt2293640\n",
    "3. Star Wars: The Force Awakens\ttt2488496\n",
    "4. Furious 7\ttt2820852\n",
    "5. Avatar\ttt0499549"
   ]
  },
  {
   "cell_type": "code",
   "execution_count": 10,
   "metadata": {},
   "outputs": [
    {
     "data": {
      "text/plain": [
       "imdb_id                                                         tt0499549\n",
       "popularity                                                        9.43277\n",
       "budget                                                          237000000\n",
       "revenue                                                        2781505847\n",
       "original_title                                                     Avatar\n",
       "cast                    Sam Worthington|Zoe Saldana|Sigourney Weaver|S...\n",
       "director                                                    James Cameron\n",
       "tagline                                       Enter the World of Pandora.\n",
       "overview                In the 22nd century, a paraplegic Marine is di...\n",
       "runtime                                                               162\n",
       "genres                           Action|Adventure|Fantasy|Science Fiction\n",
       "production_companies    Ingenious Film Partners|Twentieth Century Fox ...\n",
       "release_date                                                   12/10/2009\n",
       "vote_count                                                           8458\n",
       "vote_average                                                          7.1\n",
       "release_year                                                         2009\n",
       "Name: 239, dtype: object"
      ]
     },
     "metadata": {},
     "output_type": "display_data"
    }
   ],
   "source": [
    "display(data.loc[data.revenue.idxmax()])\n",
    "answer_ls.append(5)"
   ]
  },
  {
   "cell_type": "markdown",
   "metadata": {},
   "source": [
    "# 7. Какой фильм самый убыточный?\n",
    "Варианты ответов:\n",
    "1. Supernova tt0134983\n",
    "2. The Warrior's Way tt1032751\n",
    "3. Flushed Away\ttt0424095\n",
    "4. The Adventures of Pluto Nash\ttt0180052\n",
    "5. The Lone Ranger\ttt1210819"
   ]
  },
  {
   "cell_type": "code",
   "execution_count": 11,
   "metadata": {},
   "outputs": [
    {
     "data": {
      "text/plain": [
       "imdb_id                                                         tt1032751\n",
       "popularity                                                        0.25054\n",
       "budget                                                          425000000\n",
       "revenue                                                          11087569\n",
       "original_title                                          The Warrior's Way\n",
       "cast                    Kate Bosworth|Jang Dong-gun|Geoffrey Rush|Dann...\n",
       "director                                                       Sngmoo Lee\n",
       "tagline                                           Assassin. Hero. Legend.\n",
       "overview                An Asian assassin (Dong-gun Jang) is forced to...\n",
       "runtime                                                               100\n",
       "genres                          Adventure|Fantasy|Action|Western|Thriller\n",
       "production_companies                             Boram Entertainment Inc.\n",
       "release_date                                                    12/2/2010\n",
       "vote_count                                                             74\n",
       "vote_average                                                          6.4\n",
       "release_year                                                         2010\n",
       "profit                                                         -413912431\n",
       "Name: 491, dtype: object"
      ]
     },
     "metadata": {},
     "output_type": "display_data"
    }
   ],
   "source": [
    "data['profit'] = data.revenue - data.budget\n",
    "display(data.iloc[data.profit.idxmin()])\n",
    "answer_ls.append(2)"
   ]
  },
  {
   "cell_type": "markdown",
   "metadata": {},
   "source": [
    "# 8. Сколько всего фильмов в прибыли?\n",
    "Варианты ответов:\n",
    "1. 1478\n",
    "2. 1520\n",
    "3. 1241\n",
    "4. 1135\n",
    "5. 1398\n"
   ]
  },
  {
   "cell_type": "code",
   "execution_count": 12,
   "metadata": {},
   "outputs": [
    {
     "data": {
      "text/plain": [
       "1478"
      ]
     },
     "metadata": {},
     "output_type": "display_data"
    }
   ],
   "source": [
    "display(len(data[data.profit > 0]))\n",
    "answer_ls.append(1)"
   ]
  },
  {
   "cell_type": "markdown",
   "metadata": {},
   "source": [
    "# 9. Самый прибыльный фильм в 2008 году?\n",
    "Варианты ответов:\n",
    "1. Madagascar: Escape 2 Africa\ttt0479952\n",
    "2. Iron Man\ttt0371746\n",
    "3. Kung Fu Panda\ttt0441773\n",
    "4. The Dark Knight\ttt0468569\n",
    "5. Mamma Mia!\ttt0795421"
   ]
  },
  {
   "cell_type": "code",
   "execution_count": 13,
   "metadata": {},
   "outputs": [
    {
     "data": {
      "text/plain": [
       "imdb_id                                                         tt0468569\n",
       "popularity                                                        8.46667\n",
       "budget                                                          185000000\n",
       "revenue                                                        1001921825\n",
       "original_title                                            The Dark Knight\n",
       "cast                    Christian Bale|Michael Caine|Heath Ledger|Aaro...\n",
       "director                                                Christopher Nolan\n",
       "tagline                                                   Why So Serious?\n",
       "overview                Batman raises the stakes in his war on crime. ...\n",
       "runtime                                                               152\n",
       "genres                                        Drama|Action|Crime|Thriller\n",
       "production_companies    DC Comics|Legendary Pictures|Warner Bros.|Syncopy\n",
       "release_date                                                    7/16/2008\n",
       "vote_count                                                           8432\n",
       "vote_average                                                          8.1\n",
       "release_year                                                         2008\n",
       "profit                                                          816921825\n",
       "Name: 600, dtype: object"
      ]
     },
     "metadata": {},
     "output_type": "display_data"
    }
   ],
   "source": [
    "data_2008 = data[data.release_year == 2008]\n",
    "display(data_2008.loc[data_2008.profit.idxmax()])\n",
    "answer_ls.append(4)"
   ]
  },
  {
   "cell_type": "markdown",
   "metadata": {},
   "source": [
    "# 10. Самый убыточный фильм за период с 2012 по 2014 (включительно)?\n",
    "Варианты ответов:\n",
    "1. Winter's Tale\ttt1837709\n",
    "2. Stolen\ttt1656186\n",
    "3. Broken City\ttt1235522\n",
    "4. Upside Down\ttt1374992\n",
    "5. The Lone Ranger\ttt1210819\n"
   ]
  },
  {
   "cell_type": "code",
   "execution_count": 14,
   "metadata": {},
   "outputs": [
    {
     "data": {
      "text/plain": [
       "imdb_id                                                         tt1210819\n",
       "popularity                                                        1.21451\n",
       "budget                                                          255000000\n",
       "revenue                                                          89289910\n",
       "original_title                                            The Lone Ranger\n",
       "cast                    Johnny Depp|Armie Hammer|William Fichtner|Hele...\n",
       "director                                                   Gore Verbinski\n",
       "tagline                                           Never Take Off the Mask\n",
       "overview                The Texas Rangers chase down a gang of outlaws...\n",
       "runtime                                                               149\n",
       "genres                                           Action|Adventure|Western\n",
       "production_companies    Walt Disney Pictures|Jerry Bruckheimer Films|I...\n",
       "release_date                                                     7/3/2013\n",
       "vote_count                                                           1607\n",
       "vote_average                                                            6\n",
       "release_year                                                         2013\n",
       "profit                                                         -165710090\n",
       "Name: 1246, dtype: object"
      ]
     },
     "metadata": {},
     "output_type": "display_data"
    }
   ],
   "source": [
    "data_2012_2014 = data.loc[data.release_year.between(2012, 2014, inclusive=True)]\n",
    "display(data_2012_2014.loc[data_2012_2014.profit.idxmin()])\n",
    "answer_ls.append(5)"
   ]
  },
  {
   "cell_type": "markdown",
   "metadata": {},
   "source": [
    "# 11. Какого жанра фильмов больше всего?\n",
    "Варианты ответов:\n",
    "1. Action\n",
    "2. Adventure\n",
    "3. Drama\n",
    "4. Comedy\n",
    "5. Thriller"
   ]
  },
  {
   "cell_type": "code",
   "execution_count": 15,
   "metadata": {},
   "outputs": [
    {
     "data": {
      "text/plain": [
       "[('Drama', 782),\n",
       " ('Comedy', 683),\n",
       " ('Thriller', 597),\n",
       " ('Action', 583),\n",
       " ('Adventure', 416),\n",
       " ('Crime', 315),\n",
       " ('Romance', 308),\n",
       " ('Family', 260),\n",
       " ('Science Fiction', 248),\n",
       " ('Fantasy', 223),\n",
       " ('Horror', 176),\n",
       " ('Mystery', 168),\n",
       " ('Animation', 139),\n",
       " ('Music', 64),\n",
       " ('History', 62),\n",
       " ('War', 58),\n",
       " ('Western', 20),\n",
       " ('Documentary', 8),\n",
       " ('Foreign', 2)]"
      ]
     },
     "metadata": {},
     "output_type": "display_data"
    }
   ],
   "source": [
    "genres = np.concatenate(data.genres.str.split(\"|\"))\n",
    "display(Counter(genres).most_common())\n",
    "answer_ls.append(3)"
   ]
  },
  {
   "cell_type": "markdown",
   "metadata": {},
   "source": [
    "# 12. Какого жанра среди прибыльных фильмов больше всего?\n",
    "Варианты ответов:\n",
    "1. Action\n",
    "2. Comedy\n",
    "3. Drama\n",
    "4. Thriller\n",
    "5. Adventure"
   ]
  },
  {
   "cell_type": "code",
   "execution_count": 16,
   "metadata": {},
   "outputs": [
    {
     "data": {
      "text/plain": [
       "Drama              560\n",
       "Comedy             551\n",
       "Thriller           446\n",
       "Action             444\n",
       "Adventure          337\n",
       "Romance            242\n",
       "Crime              231\n",
       "Family             226\n",
       "Science Fiction    195\n",
       "Fantasy            188\n",
       "Horror             150\n",
       "Animation          120\n",
       "Mystery            119\n",
       "Music               47\n",
       "History             46\n",
       "War                 41\n",
       "Western             12\n",
       "Documentary          7\n",
       "dtype: int64"
      ]
     },
     "metadata": {},
     "output_type": "display_data"
    }
   ],
   "source": [
    "display(pd.DataFrame(data[data.profit > 0].genres.str.split('|').tolist()).stack().value_counts())\n",
    "answer_ls.append(3)"
   ]
  },
  {
   "cell_type": "markdown",
   "metadata": {},
   "source": [
    "# 13. Кто из режиссеров снял больше всего фильмов?\n",
    "Варианты ответов:\n",
    "1. Steven Spielberg\n",
    "2. Ridley Scott \n",
    "3. Steven Soderbergh\n",
    "4. Christopher Nolan\n",
    "5. Clint Eastwood"
   ]
  },
  {
   "cell_type": "code",
   "execution_count": 17,
   "metadata": {},
   "outputs": [
    {
     "data": {
      "text/plain": [
       "Steven Soderbergh    13\n",
       "Clint Eastwood       12\n",
       "Ridley Scott         12\n",
       "Robert Rodriguez     11\n",
       "Shawn Levy           10\n",
       "                     ..\n",
       "Klay Hall             1\n",
       "Eric Bress            1\n",
       "Dan Bradley           1\n",
       "Robert Stromberg      1\n",
       "Aleksander Bach       1\n",
       "Length: 998, dtype: int64"
      ]
     },
     "metadata": {},
     "output_type": "display_data"
    }
   ],
   "source": [
    "display(pd.DataFrame(data.director.str.split('|').tolist()).stack().value_counts())\n",
    "answer_ls.append(3)"
   ]
  },
  {
   "cell_type": "markdown",
   "metadata": {},
   "source": [
    "# 14. Кто из режиссеров снял больше всего Прибыльных фильмов?\n",
    "Варианты ответов:\n",
    "1. Steven Soderbergh\n",
    "2. Clint Eastwood\n",
    "3. Steven Spielberg\n",
    "4. Ridley Scott\n",
    "5. Christopher Nolan"
   ]
  },
  {
   "cell_type": "code",
   "execution_count": 18,
   "metadata": {},
   "outputs": [
    {
     "data": {
      "text/plain": [
       "Ridley Scott         12\n",
       "Clint Eastwood       10\n",
       "Steven Spielberg     10\n",
       "Steven Soderbergh    10\n",
       "Shawn Levy            9\n",
       "                     ..\n",
       "Andrew Erwin          1\n",
       "Phil Joanou           1\n",
       "Chris Rock            1\n",
       "Eric Leighton         1\n",
       "Jane Lipsitz          1\n",
       "Length: 814, dtype: int64"
      ]
     },
     "metadata": {},
     "output_type": "display_data"
    }
   ],
   "source": [
    "display(pd.DataFrame(data[data.profit > 0].director.str.split('|').tolist()).stack().value_counts())\n",
    "answer_ls.append(4)"
   ]
  },
  {
   "cell_type": "markdown",
   "metadata": {},
   "source": [
    "# 15. Кто из режиссеров принес больше всего прибыли?\n",
    "Варианты ответов:\n",
    "1. Steven Spielberg\n",
    "2. Christopher Nolan\n",
    "3. David Yates\n",
    "4. James Cameron\n",
    "5. Peter Jackson\n"
   ]
  },
  {
   "cell_type": "code",
   "execution_count": 19,
   "metadata": {},
   "outputs": [
    {
     "data": {
      "text/plain": [
       "director\n",
       "Peter Jackson        5202593685\n",
       "David Yates          3379295625\n",
       "Christopher Nolan    3162548502\n",
       "J.J. Abrams          2839169916\n",
       "Michael Bay          2760938960\n",
       "                        ...    \n",
       "Peter Hyams           -86956545\n",
       "Ron Underwood         -92896027\n",
       "James L. Brooks       -96289726\n",
       "Walter Hill          -128283462\n",
       "Sngmoo Lee           -413912431\n",
       "Name: profit, Length: 998, dtype: int64"
      ]
     },
     "metadata": {},
     "output_type": "display_data"
    }
   ],
   "source": [
    "directors_df = pd.DataFrame(data.director.str.split('|').tolist(), index=data.profit).stack().reset_index([0, 'profit'])\n",
    "\n",
    "directors_df.columns = ['profit', 'director']\n",
    "display(directors_df.groupby(['director'])['profit'].sum().sort_values(ascending=False))\n",
    "answer_ls.append(5)"
   ]
  },
  {
   "cell_type": "markdown",
   "metadata": {},
   "source": [
    "# 16. Какой актер принес больше всего прибыли?\n",
    "Варианты ответов:\n",
    "1. Emma Watson\n",
    "2. Johnny Depp\n",
    "3. Michelle Rodriguez\n",
    "4. Orlando Bloom\n",
    "5. Rupert Grint"
   ]
  },
  {
   "cell_type": "code",
   "execution_count": 20,
   "metadata": {},
   "outputs": [
    {
     "data": {
      "text/plain": [
       "actor\n",
       "Emma Watson           6666245597\n",
       "Daniel Radcliffe      6514990281\n",
       "Rupert Grint          6408638290\n",
       "Ian McKellen          6087375777\n",
       "Robert Downey Jr.     5316030161\n",
       "                         ...    \n",
       "Elisabeth Harnois     -111007242\n",
       "Emilio EchevarrÃ­a    -119180039\n",
       "Kate Bosworth         -369455668\n",
       "Ti Lung               -413912431\n",
       "Jang Dong-gun         -413912431\n",
       "Name: profit, Length: 3408, dtype: int64"
      ]
     },
     "metadata": {},
     "output_type": "display_data"
    }
   ],
   "source": [
    "actors_df = pd.DataFrame(data.cast.str.split('|').tolist(), index=data.profit).stack().reset_index([0, 'profit'])\n",
    "\n",
    "actors_df.columns = ['profit', 'actor']\n",
    "display(actors_df.groupby(['actor'])['profit'].sum().sort_values(ascending=False))\n",
    "answer_ls.append(1)"
   ]
  },
  {
   "cell_type": "markdown",
   "metadata": {},
   "source": [
    "# 17. Какой актер принес меньше всего прибыли в 2012 году?\n",
    "Варианты ответов:\n",
    "1. Nicolas Cage\n",
    "2. Danny Huston\n",
    "3. Kirsten Dunst\n",
    "4. Jim Sturgess\n",
    "5. Sami Gayle"
   ]
  },
  {
   "cell_type": "code",
   "execution_count": 21,
   "metadata": {},
   "outputs": [
    {
     "data": {
      "text/plain": [
       "actor\n",
       "Kirsten Dunst         -68109207\n",
       "Heidi Hawkins         -51893525\n",
       "James Kidnie          -51893525\n",
       "Timothy Spall         -51893525\n",
       "Malin Ã…kerman        -43733509\n",
       "                        ...    \n",
       "Robert Downey Jr.    1299557910\n",
       "Mark Ruffalo         1299557910\n",
       "Chris Evans          1299557910\n",
       "Denis Leary          1319460639\n",
       "Chris Hemsworth      1542450773\n",
       "Name: profit, Length: 466, dtype: int64"
      ]
     },
     "metadata": {},
     "output_type": "display_data"
    }
   ],
   "source": [
    "data_2012 = data[data.release_year == 2012]\n",
    "actors_df = pd.DataFrame(data_2012.cast.str.split('|').tolist(), index=data_2012.profit).stack().reset_index([0, 'profit'])\n",
    "actors_df.columns = ['profit', 'actor']\n",
    "display(actors_df.groupby(['actor'])['profit'].sum().sort_values(ascending=True))\n",
    "answer_ls.append(3)"
   ]
  },
  {
   "cell_type": "markdown",
   "metadata": {},
   "source": [
    "# 18. Какой актер снялся в большем количестве высокобюджетных фильмов? (в фильмах где бюджет выше среднего по данной выборке)\n",
    "Варианты ответов:\n",
    "1. Tom Cruise\n",
    "2. Mark Wahlberg \n",
    "3. Matt Damon\n",
    "4. Angelina Jolie\n",
    "5. Adam Sandler"
   ]
  },
  {
   "cell_type": "code",
   "execution_count": 22,
   "metadata": {},
   "outputs": [
    {
     "data": {
      "text/plain": [
       "[('Matt Damon', 18)]"
      ]
     },
     "metadata": {},
     "output_type": "display_data"
    }
   ],
   "source": [
    "actors_high_budget = data[data.budget > data.budget.mean()]\n",
    "actors_df = pd.DataFrame(actors_high_budget.cast.str.split('|').tolist()).stack().to_numpy()\n",
    "display(Counter(actors_df).most_common(1))\n",
    "answer_ls.append(3)\n"
   ]
  },
  {
   "cell_type": "markdown",
   "metadata": {},
   "source": [
    "# 19. В фильмах какого жанра больше всего снимался Nicolas Cage?  \n",
    "Варианты ответа:\n",
    "1. Drama\n",
    "2. Action\n",
    "3. Thriller\n",
    "4. Adventure\n",
    "5. Crime"
   ]
  },
  {
   "cell_type": "code",
   "execution_count": 23,
   "metadata": {},
   "outputs": [
    {
     "data": {
      "text/plain": [
       "Action             17\n",
       "Thriller           15\n",
       "Drama              12\n",
       "Crime              10\n",
       "Fantasy             8\n",
       "Adventure           7\n",
       "Comedy              6\n",
       "Science Fiction     4\n",
       "Mystery             3\n",
       "Family              3\n",
       "Animation           3\n",
       "History             2\n",
       "Horror              1\n",
       "Romance             1\n",
       "War                 1\n",
       "dtype: int64"
      ]
     },
     "metadata": {},
     "output_type": "display_data"
    }
   ],
   "source": [
    "cage_df = data[data.cast.str.contains(\"Nicolas Cage\")]\n",
    "display(pd.DataFrame(cage_df.genres.str.split('|').tolist()).stack().value_counts())\n",
    "answer_ls.append(2)"
   ]
  },
  {
   "cell_type": "markdown",
   "metadata": {},
   "source": [
    "# 20. Какая студия сняла больше всего фильмов?\n",
    "Варианты ответа:\n",
    "1. Universal Pictures (Universal)\n",
    "2. Paramount Pictures\n",
    "3. Columbia Pictures\n",
    "4. Warner Bros\n",
    "5. Twentieth Century Fox Film Corporation"
   ]
  },
  {
   "cell_type": "code",
   "execution_count": 24,
   "metadata": {},
   "outputs": [
    {
     "data": {
      "text/plain": [
       "Universal Pictures                           173\n",
       "Warner Bros.                                 168\n",
       "Paramount Pictures                           122\n",
       "Columbia Pictures                            117\n",
       "Twentieth Century Fox Film Corporation       109\n",
       "                                            ... \n",
       "Catfish Productions                            1\n",
       "Blue Sea Productions                           1\n",
       "Intertainment AG                               1\n",
       "Midnight Sun Pictures                          1\n",
       "Branded Entertainment/Batfilm Productions      1\n",
       "Name: company, Length: 1772, dtype: int64"
      ]
     },
     "metadata": {},
     "output_type": "display_data"
    }
   ],
   "source": [
    "production_companies = pd.DataFrame(data.production_companies.str.split('|').tolist()).stack().reset_index()\n",
    "production_companies.columns = ['level_0', 'level_1', 'company']\n",
    "# production_companies.company = production_companies.company.map(lambda x: x.split(' ')[0])\n",
    "display(production_companies.company.value_counts())\n",
    "answer_ls.append(1)"
   ]
  },
  {
   "cell_type": "markdown",
   "metadata": {},
   "source": [
    "# 21. Какая студия сняла больше всего фильмов в 2015 году?\n",
    "Варианты ответа:\n",
    "1. Universal Pictures\n",
    "2. Paramount Pictures\n",
    "3. Columbia Pictures\n",
    "4. Warner Bros\n",
    "5. Twentieth Century Fox Film Corporation"
   ]
  },
  {
   "cell_type": "code",
   "execution_count": 25,
   "metadata": {},
   "outputs": [
    {
     "data": {
      "text/plain": [
       "Warner Bros.                              12\n",
       "Universal Pictures                        10\n",
       "Twentieth Century Fox Film Corporation     8\n",
       "Columbia Pictures                          7\n",
       "Paramount Pictures                         7\n",
       "                                          ..\n",
       "Wigram Productions                         1\n",
       "OddLot Entertainment                       1\n",
       "B24                                        1\n",
       "Scott Rudin Productions                    1\n",
       "Riche-Ludwig Productions                   1\n",
       "Name: company, Length: 246, dtype: int64"
      ]
     },
     "metadata": {},
     "output_type": "display_data"
    }
   ],
   "source": [
    "production_companies = pd.DataFrame(data[data.release_year == 2015].production_companies.str.split('|').tolist()).stack().reset_index()\n",
    "production_companies.columns = ['level_0', 'level_1', 'company']\n",
    "# production_companies.company = production_companies.company.map(lambda x: x.split(' ')[0])\n",
    "display(production_companies.company.value_counts())\n",
    "answer_ls.append(4)"
   ]
  },
  {
   "cell_type": "markdown",
   "metadata": {},
   "source": [
    "# 22. Какая студия заработала больше всего денег в жанре комедий за все время?\n",
    "Варианты ответа:\n",
    "1. Warner Bros\n",
    "2. Universal Pictures (Universal)\n",
    "3. Columbia Pictures\n",
    "4. Paramount Pictures\n",
    "5. Walt Disney"
   ]
  },
  {
   "cell_type": "code",
   "execution_count": 26,
   "metadata": {},
   "outputs": [
    {
     "data": {
      "text/plain": [
       "company\n",
       "Universal Pictures                        8961545581\n",
       "Walt Disney Pictures                      7669710326\n",
       "Twentieth Century Fox Film Corporation    5686960294\n",
       "Columbia Pictures                         5646343696\n",
       "DreamWorks Animation                      4789049764\n",
       "                                             ...    \n",
       "Warner Bros. Pictures                      -54738687\n",
       "Shangri-La Entertainment                   -55170786\n",
       "Dark Horse Entertainment                   -68351500\n",
       "Road Rebel                                 -71331093\n",
       "Mel's Cite du Cinema                       -92896027\n",
       "Name: profit, Length: 702, dtype: int64"
      ]
     },
     "metadata": {},
     "output_type": "display_data"
    }
   ],
   "source": [
    "comedies = data[data.genres.str.contains('Comedy')]\n",
    "comedies_profit = pd.DataFrame(comedies.production_companies.str.split('|').tolist(), index=comedies.profit).stack().reset_index([0, 'profit'])\n",
    "comedies_profit.columns = ['profit', 'company']\n",
    "display(comedies_profit.groupby(['company'])['profit'].sum().sort_values(ascending=False))\n",
    "answer_ls.append(2)"
   ]
  },
  {
   "cell_type": "markdown",
   "metadata": {},
   "source": [
    "# 23. Какая студия заработала больше всего денег в 2012 году?\n",
    "Варианты ответа:\n",
    "1. Universal Pictures (Universal)\n",
    "2. Warner Bros\n",
    "3. Columbia Pictures\n",
    "4. Paramount Pictures\n",
    "5. Lucasfilm"
   ]
  },
  {
   "cell_type": "code",
   "execution_count": 27,
   "metadata": {},
   "outputs": [
    {
     "data": {
      "text/plain": [
       "company\n",
       "Columbia Pictures     2501406608\n",
       "Universal Pictures    1981011579\n",
       "Marvel Studios        1299557910\n",
       "Warner Bros.          1258020056\n",
       "Relativity Media      1032593938\n",
       "                         ...    \n",
       "Jouror Productions     -51893525\n",
       "Onyx Films             -51893525\n",
       "Transfilm              -51893525\n",
       "Studio 37              -51893525\n",
       "France 2 CinÃ©ma       -82545651\n",
       "Name: profit, Length: 236, dtype: int64"
      ]
     },
     "metadata": {},
     "output_type": "display_data"
    }
   ],
   "source": [
    "production_2012 = data[data.release_year == 2012]\n",
    "production_2012_profit = pd.DataFrame(production_2012.production_companies.str.split('|').tolist(), index=production_2012.profit).stack().reset_index([0, 'profit'])\n",
    "production_2012_profit.columns = ['profit', 'company']\n",
    "display(production_2012_profit.groupby(['company'])['profit'].sum().sort_values(ascending=False))\n",
    "answer_ls.append(3)"
   ]
  },
  {
   "cell_type": "markdown",
   "metadata": {},
   "source": [
    "# 24. Самый убыточный фильм от Paramount Pictures\n",
    "Варианты ответа:\n",
    "\n",
    "1. K-19: The Widowmaker tt0267626\n",
    "2. Next tt0435705\n",
    "3. Twisted tt0315297\n",
    "4. The Love Guru tt0811138\n",
    "5. The Fighter tt0964517"
   ]
  },
  {
   "cell_type": "code",
   "execution_count": 28,
   "metadata": {},
   "outputs": [
    {
     "data": {
      "text/plain": [
       "imdb_id                                                         tt0267626\n",
       "popularity                                                        0.72233\n",
       "budget                                                          100000000\n",
       "revenue                                                          35168966\n",
       "original_title                                       K-19: The Widowmaker\n",
       "cast                    Harrison Ford|Liam Neeson|Peter Sarsgaard|Joss...\n",
       "director                                                  Kathryn Bigelow\n",
       "tagline                                          Fate has found its hero.\n",
       "overview                When Russia's first nuclear submarine malfunct...\n",
       "runtime                                                               138\n",
       "genres                                             Thriller|Drama|History\n",
       "production_companies    Paramount Pictures|Intermedia Films|National G...\n",
       "release_date                                                    7/19/2002\n",
       "vote_count                                                            146\n",
       "vote_average                                                            6\n",
       "release_year                                                         2002\n",
       "profit                                                          -64831034\n",
       "Name: 926, dtype: object"
      ]
     },
     "metadata": {},
     "output_type": "display_data"
    }
   ],
   "source": [
    "paramount_prodiction = data[data.production_companies.str.contains('Paramount Pictures')]\n",
    "display(paramount_prodiction.loc[paramount_prodiction.profit.idxmin()])\n",
    "answer_ls.append(1)"
   ]
  },
  {
   "cell_type": "markdown",
   "metadata": {},
   "source": [
    "# 25. Какой Самый прибыльный год (заработали больше всего)?\n",
    "Варианты ответа:\n",
    "1. 2014\n",
    "2. 2008\n",
    "3. 2012\n",
    "4. 2002\n",
    "5. 2015"
   ]
  },
  {
   "cell_type": "code",
   "execution_count": 29,
   "metadata": {},
   "outputs": [
    {
     "data": {
      "text/plain": [
       "release_year\n",
       "2015    18668572378\n",
       "2014    16397812953\n",
       "2012    16077001687\n",
       "2013    15243179791\n",
       "2011    14730241341\n",
       "2009    13423744372\n",
       "2010    13117292530\n",
       "2008    11663881990\n",
       "2007    11565911801\n",
       "2004     9634180720\n",
       "2003     9228823312\n",
       "2002     9002361487\n",
       "2005     8981925558\n",
       "2006     8691077320\n",
       "2001     7950614865\n",
       "2000     6101399805\n",
       "Name: profit, dtype: int64"
      ]
     },
     "metadata": {},
     "output_type": "display_data"
    }
   ],
   "source": [
    "display(pd.pivot_table(data, values='profit', index='release_year', aggfunc='sum').profit.sort_values(ascending=False))\n",
    "answer_ls.append(5)"
   ]
  },
  {
   "cell_type": "markdown",
   "metadata": {},
   "source": [
    "# 26. Какой Самый прибыльный год для студии Warner Bros?\n",
    "Варианты ответа:\n",
    "1. 2014\n",
    "2. 2008\n",
    "3. 2012\n",
    "4. 2010\n",
    "5. 2015"
   ]
  },
  {
   "cell_type": "code",
   "execution_count": 30,
   "metadata": {},
   "outputs": [
    {
     "data": {
      "text/plain": [
       "release_year\n",
       "2014    2295464519\n",
       "2007    2201675217\n",
       "2008    2134595031\n",
       "2010    1974712985\n",
       "2011    1871393682\n",
       "2003    1855493377\n",
       "2009    1822454136\n",
       "2013    1636453400\n",
       "2004    1631933725\n",
       "2005    1551980298\n",
       "2001    1343545668\n",
       "2012    1258020056\n",
       "2002    1022709901\n",
       "2015     870368348\n",
       "2006     620170743\n",
       "2000     452631386\n",
       "Name: profit, dtype: int64"
      ]
     },
     "metadata": {},
     "output_type": "display_data"
    }
   ],
   "source": [
    "warner_production = data[data.production_companies.str.contains('Warner Bros')]\n",
    "display(pd.pivot_table(warner_production, values='profit', index='release_year', aggfunc='sum').profit.sort_values(ascending=False))\n",
    "answer_ls.append(1)"
   ]
  },
  {
   "cell_type": "markdown",
   "metadata": {},
   "source": [
    "# 27. В каком месяце за все годы суммарно вышло больше всего фильмов?\n",
    "Варианты ответа:\n",
    "1. Январь\n",
    "2. Июнь\n",
    "3. Декабрь\n",
    "4. Сентябрь\n",
    "5. Май"
   ]
  },
  {
   "cell_type": "code",
   "execution_count": 31,
   "metadata": {},
   "outputs": [
    {
     "data": {
      "text/plain": [
       "9     227\n",
       "12    191\n",
       "10    186\n",
       "8     161\n",
       "3     156\n",
       "4     149\n",
       "6     147\n",
       "11    146\n",
       "7     142\n",
       "5     140\n",
       "2     135\n",
       "1     110\n",
       "Name: release_month, dtype: int64"
      ]
     },
     "metadata": {},
     "output_type": "display_data"
    }
   ],
   "source": [
    "data['release_date_dt'] = pd.to_datetime(data.release_date, format='%m/%d/%Y')\n",
    "data['release_month'] = data['release_date_dt'].dt.month\n",
    "display(data.release_month.value_counts())\n",
    "answer_ls.append(4)"
   ]
  },
  {
   "cell_type": "markdown",
   "metadata": {},
   "source": [
    "# 28. Сколько суммарно вышло фильмов летом? (за июнь, июль, август)\n",
    "Варианты ответа:\n",
    "1. 345\n",
    "2. 450\n",
    "3. 478\n",
    "4. 523\n",
    "5. 381"
   ]
  },
  {
   "cell_type": "code",
   "execution_count": 32,
   "metadata": {},
   "outputs": [
    {
     "data": {
      "text/plain": [
       "450"
      ]
     },
     "metadata": {},
     "output_type": "display_data"
    }
   ],
   "source": [
    "display(len(data[data.release_month.isin([6, 7, 8])]))\n",
    "answer_ls.append(2)"
   ]
  },
  {
   "cell_type": "markdown",
   "metadata": {},
   "source": [
    "# 29. Какой режисер выпускает (суммарно по годам) больше всего фильмов зимой?\n",
    "Варианты ответов:\n",
    "1. Steven Soderbergh\n",
    "2. Christopher Nolan\n",
    "3. Clint Eastwood\n",
    "4. Ridley Scott\n",
    "5. Peter Jackson"
   ]
  },
  {
   "cell_type": "code",
   "execution_count": 33,
   "metadata": {},
   "outputs": [
    {
     "data": {
      "text/plain": [
       "[('Peter Jackson', 7),\n",
       " ('Clint Eastwood', 6),\n",
       " ('Steven Soderbergh', 6),\n",
       " ('Shawn Levy', 4),\n",
       " ('Nancy Meyers', 4),\n",
       " ('Martin Scorsese', 4),\n",
       " ('Adam Shankman', 4),\n",
       " ('Ridley Scott', 3),\n",
       " ('Rob Marshall', 3),\n",
       " ('Tim Burton', 3),\n",
       " ('Steve Carr', 3),\n",
       " ('Patrick Lussier', 3),\n",
       " ('Donald Petrie', 3),\n",
       " ('Marc Lawrence', 3),\n",
       " ('Lasse HallstrÃ¶m', 3),\n",
       " ('Edward Zwick', 3),\n",
       " ('Jason Friedberg', 3),\n",
       " ('Aaron Seltzer', 3),\n",
       " ('Peter Farrelly', 3),\n",
       " ('Steven Spielberg', 3),\n",
       " ('Wayne Wang', 3),\n",
       " ('Quentin Tarantino', 2),\n",
       " ('Adam McKay', 2),\n",
       " ('Michael Mann', 2),\n",
       " ('Glenn Ficarra', 2),\n",
       " ('John Requa', 2),\n",
       " ('Pierre Morel', 2),\n",
       " ('Wes Anderson', 2),\n",
       " ('Paul Thomas Anderson', 2),\n",
       " ('Jaume Collet-Serra', 2),\n",
       " ('George Clooney', 2),\n",
       " ('Shana Feste', 2),\n",
       " ('Ken Kwapis', 2),\n",
       " ('Henry Selick', 2),\n",
       " ('P.J. Hogan', 2),\n",
       " ('David S. Goyer', 2),\n",
       " ('Paul McGuigan', 2),\n",
       " ('Marcus Nispel', 2),\n",
       " ('Andrzej Bartkowiak', 2),\n",
       " ('Scott Cooper', 2),\n",
       " ('Allen Hughes', 2),\n",
       " ('Garry Marshall', 2),\n",
       " ('David O. Russell', 2),\n",
       " ('James L. Brooks', 2),\n",
       " ('Brian Levant', 2),\n",
       " ('Martin Campbell', 2),\n",
       " ('Ron Howard', 2),\n",
       " ('Cameron Crowe', 2),\n",
       " ('Dennis Dugan', 2),\n",
       " ('Mark Waters', 2),\n",
       " ('Thomas Carter', 2),\n",
       " ('Bryan Singer', 2),\n",
       " ('Sylvester Stallone', 2),\n",
       " ('Jon M. Chu', 2),\n",
       " ('Gabriele Muccino', 2),\n",
       " ('Andy Tennant', 2),\n",
       " ('David Wain', 2),\n",
       " ('Brad Anderson', 2),\n",
       " ('Gregory Hoblit', 2),\n",
       " ('Simon West', 2),\n",
       " ('Bobby Farrelly', 2),\n",
       " ('Jason Reitman', 2),\n",
       " ('Joe Carnahan', 2),\n",
       " ('Stephen Daldry', 2),\n",
       " ('John Whitesell', 2),\n",
       " ('Spike Jonze', 2),\n",
       " ('Denzel Washington', 2),\n",
       " ('Mark Steven Johnson', 2),\n",
       " ('John Moore', 2),\n",
       " ('Walter Hill', 2),\n",
       " ('Brett Ratner', 2),\n",
       " ('Peter Segal', 2),\n",
       " ('Francis Lawrence', 2),\n",
       " ('Rob Reiner', 2),\n",
       " ('Wes Craven', 2),\n",
       " ('Mel Gibson', 2),\n",
       " ('Mike Nichols', 2),\n",
       " ('Joel Schumacher', 2),\n",
       " ('J.J. Abrams', 1),\n",
       " ('Alejandro GonzÃ¡lez IÃ±Ã¡rritu', 1),\n",
       " ('Lana Wachowski', 1),\n",
       " ('Lilly Wachowski', 1),\n",
       " ('Alex Garland', 1),\n",
       " ('Olivier Megaton', 1),\n",
       " ('Sam Taylor-Johnson', 1),\n",
       " ('Matthew Vaughn', 1),\n",
       " ('Ericson Core', 1),\n",
       " ('David Koepp', 1),\n",
       " ('Sean Anders', 1),\n",
       " ('Ari Sandel', 1),\n",
       " ('Jeremy Garelick', 1),\n",
       " ('Jason Moore', 1),\n",
       " ('Dean Israelite', 1),\n",
       " ('Paul Tibbitt', 1),\n",
       " ('Mike Binder', 1),\n",
       " ('Evan Goldberg', 1),\n",
       " ('Seth Rogen', 1),\n",
       " ('Phil Lord', 1),\n",
       " ('Christopher Miller', 1),\n",
       " ('Sergey Bodrov', 1),\n",
       " ('J.C. Chandor', 1),\n",
       " ('Tim Story', 1),\n",
       " ('Kenneth Branagh', 1),\n",
       " ('JosÃ© Padilha', 1),\n",
       " ('Rob Minkoff', 1),\n",
       " ('Angelina Jolie', 1),\n",
       " ('Ava DuVernay', 1),\n",
       " ('Paul W.S. Anderson', 1),\n",
       " ('Will Gluck', 1),\n",
       " ('Stuart Beattie', 1),\n",
       " ('Tom Gormican', 1),\n",
       " ('Akiva Goldsman', 1),\n",
       " ('Russell Crowe', 1),\n",
       " ('Steve Pink', 1),\n",
       " ('Christopher Spencer', 1),\n",
       " ('GrÃ©gory Levasseur', 1),\n",
       " ('Renny Harlin', 1),\n",
       " ('Rupert Wyatt', 1),\n",
       " ('Matt Bettinelli-Olpin', 1),\n",
       " ('Tyler Gillett', 1),\n",
       " ('James Cameron', 1),\n",
       " ('Patrick Tatopoulos', 1),\n",
       " ('Guy Ritchie', 1),\n",
       " ('Ron Clements', 1),\n",
       " ('John Musker', 1),\n",
       " ('Jim Sheridan', 1),\n",
       " ('Betty Thomas', 1),\n",
       " ('Gary Winick', 1),\n",
       " ('Michael Spierig', 1),\n",
       " ('Peter Spierig', 1),\n",
       " ('Antoine Fuqua', 1),\n",
       " ('Rajkumar Hirani', 1),\n",
       " ('NimrÃ³d Antal', 1),\n",
       " ('Tom Tykwer', 1),\n",
       " ('Thor Freudenthal', 1),\n",
       " ('Jonas Elmer', 1),\n",
       " ('Darren Aronofsky', 1),\n",
       " ('Joseph Kosinski', 1),\n",
       " ('Florian Henckel von Donnersmarck', 1),\n",
       " ('Ethan Coen', 1),\n",
       " ('Joel Coen', 1),\n",
       " ('Paul Weitz', 1),\n",
       " ('Chris Columbus', 1),\n",
       " ('Albert Hughes', 1),\n",
       " ('Anand Tucker', 1),\n",
       " ('Rob Letterman', 1),\n",
       " ('Roman Polanski', 1),\n",
       " ('Scott Stewart', 1),\n",
       " ('Kevin Smith', 1),\n",
       " ('Neil Marshall', 1),\n",
       " ('Roger Michell', 1),\n",
       " ('Michael Lembeck', 1),\n",
       " ('Breck Eisner', 1),\n",
       " ('Eric Brevig', 1),\n",
       " ('Tom Vaughan', 1),\n",
       " ('John Erick Dowdle', 1),\n",
       " ('Sngmoo Lee', 1),\n",
       " ('Joel Gallen', 1),\n",
       " ('John A. Davis', 1),\n",
       " ('Peter Howitt', 1),\n",
       " ('Jessie Nelson', 1),\n",
       " ('John Boorman', 1),\n",
       " (\"Pat O'Connor\", 1),\n",
       " ('Jesse Dylan', 1),\n",
       " ('Frank Darabont', 1),\n",
       " ('Demian Lichtenstein', 1),\n",
       " ('Francine McDougall', 1),\n",
       " ('Doug Liman', 1),\n",
       " ('Roland Emmerich', 1),\n",
       " ('Scott Derrickson', 1),\n",
       " ('Matt Reeves', 1),\n",
       " ('Peyton Reed', 1),\n",
       " ('David Frankel', 1),\n",
       " ('Anne Fletcher', 1),\n",
       " ('Iain Softley', 1),\n",
       " ('Lexi Alexander', 1),\n",
       " ('Pete Travis', 1),\n",
       " ('Martin McDonagh', 1),\n",
       " ('David Moreau', 1),\n",
       " ('Xavier Palud', 1),\n",
       " ('Frank Miller', 1),\n",
       " ('Sam Mendes', 1),\n",
       " ('Malcolm D. Lee', 1),\n",
       " ('Nicolas Winding Refn', 1),\n",
       " ('Brad Bird', 1),\n",
       " ('David Fincher', 1),\n",
       " ('Ivan Reitman', 1),\n",
       " ('D.J. Caruso', 1),\n",
       " ('Mark Neveldine', 1),\n",
       " ('Brian Taylor', 1),\n",
       " ('Mikael HÃ¥fstrÃ¶m', 1),\n",
       " ('Greg Mottola', 1),\n",
       " ('Dominic Sena', 1),\n",
       " ('Chris Gorak', 1),\n",
       " ('Christian E. Christiansen', 1),\n",
       " ('Michel Gondry', 1),\n",
       " ('Daniel Barnz', 1),\n",
       " ('Mike Mitchell', 1),\n",
       " ('Kelly Asbury', 1),\n",
       " ('Kevin Macdonald', 1),\n",
       " ('David Gordon Green', 1),\n",
       " ('Alister Grierson', 1),\n",
       " ('Benny Chan', 1),\n",
       " ('Phyllida Lloyd', 1),\n",
       " ('Lee Tamahori', 1),\n",
       " ('Rodrigo GarcÃ\\xada', 1),\n",
       " ('Joel Zwick', 1),\n",
       " ('Andrew Davis', 1),\n",
       " ('Stuart Baird', 1),\n",
       " ('Kurt Wimmer', 1),\n",
       " ('Miguel Arteta', 1),\n",
       " ('Jim Gillespie', 1),\n",
       " ('Ron Shelton', 1),\n",
       " ('Nick Cassavetes', 1),\n",
       " ('Michael Rymer', 1),\n",
       " ('Robin Budd', 1),\n",
       " ('Donovan Cook', 1),\n",
       " ('Dewey Nicks', 1),\n",
       " ('Alexander Payne', 1),\n",
       " ('Mark Pellington', 1),\n",
       " ('Tamra Davis', 1),\n",
       " ('Tom Shadyac', 1),\n",
       " ('Charles Stone III', 1),\n",
       " ('MÃ¥ns MÃ¥rlind', 1),\n",
       " ('BjÃ¶rn Stein', 1),\n",
       " ('Christopher McQuarrie', 1),\n",
       " ('Michael Sucsy', 1),\n",
       " ('Brad Peyton', 1),\n",
       " ('Tom Hooper', 1),\n",
       " ('Kathryn Bigelow', 1),\n",
       " ('Josh Trank', 1),\n",
       " ('Mike McCoy', 1),\n",
       " ('Scott Waugh', 1),\n",
       " ('Baltasar KormÃ¡kur', 1),\n",
       " ('Judd Apatow', 1),\n",
       " ('James Watkins', 1),\n",
       " ('Daniel Espinosa', 1),\n",
       " ('Asger Leth', 1),\n",
       " ('Julie Anne Robinson', 1),\n",
       " ('Anthony Hemingway', 1),\n",
       " ('Andy Fickman', 1),\n",
       " ('Steve Trenbirth', 1),\n",
       " ('Todd Phillips', 1),\n",
       " ('David Dobkin', 1),\n",
       " ('John Woo', 1),\n",
       " ('David R. Ellis', 1),\n",
       " ('Anthony Minghella', 1),\n",
       " ('Ronald F. Maxwell', 1),\n",
       " ('Alan Parker', 1),\n",
       " ('Chris Koch', 1),\n",
       " ('Ben Stiller', 1),\n",
       " ('Jonathan Levine', 1),\n",
       " ('Tommy Wirkola', 1),\n",
       " ('Carl Rinsch', 1),\n",
       " ('Peter Berg', 1),\n",
       " ('Harmony Korine', 1),\n",
       " ('Taylor Hackford', 1),\n",
       " ('Ruben Fleischer', 1),\n",
       " ('Seth Gordon', 1),\n",
       " ('John Luessenhop', 1),\n",
       " ('Andy Muschietti', 1),\n",
       " ('Steven Brill', 1),\n",
       " ('Elizabeth Banks', 1),\n",
       " ('Rusty Cundieff', 1),\n",
       " ('James Duffy', 1),\n",
       " ('Griffin Dunne', 1),\n",
       " ('Patrik Forsberg', 1),\n",
       " ('James Gunn', 1),\n",
       " ('Will Graham', 1),\n",
       " ('Jonathan van Tulleken', 1),\n",
       " ('Callan Brunker', 1),\n",
       " ('Giuseppe Tornatore', 1),\n",
       " ('Jonathan Teplitzky', 1),\n",
       " ('Neil Nightingale', 1),\n",
       " ('Barry Cook', 1),\n",
       " ('Ric Roman Waugh', 1),\n",
       " ('John Wells', 1),\n",
       " ('Christopher B. Landon', 1),\n",
       " ('Ed Gass-Donnelly', 1),\n",
       " ('Justin Chadwick', 1),\n",
       " ('Andrew Adamson', 1),\n",
       " ('James McTeigue', 1),\n",
       " ('Garth Jennings', 1),\n",
       " ('Rob Bowman', 1),\n",
       " ('Cory Edwards', 1),\n",
       " ('Todd Edwards', 1),\n",
       " ('Tony Leech', 1),\n",
       " ('John Polson', 1),\n",
       " ('Frederik Du Chau', 1),\n",
       " ('Dean Parisot', 1),\n",
       " ('Louis Leterrier', 1),\n",
       " ('Jean-FranÃ§ois Richet', 1),\n",
       " ('Clare Kilner', 1),\n",
       " ('Geoffrey Sax', 1),\n",
       " ('Uwe Boll', 1),\n",
       " ('Stephen Kay', 1),\n",
       " ('Niki Caro', 1),\n",
       " ('Len Wiseman', 1),\n",
       " ('Frank Marshall', 1),\n",
       " ('James Wong', 1),\n",
       " ('Stefen Fangmeier', 1),\n",
       " ('Robert De Niro', 1),\n",
       " (\"Matthew O'Callaghan\", 1),\n",
       " ('McG', 1),\n",
       " ('Joe Roth', 1),\n",
       " ('Nick Hurran', 1),\n",
       " ('Bill Condon', 1),\n",
       " ('Chris Noonan', 1),\n",
       " ('Craig Brewer', 1),\n",
       " ('Richard Eyre', 1),\n",
       " ('Wayne Kramer', 1),\n",
       " ('Richard Loncraine', 1),\n",
       " ('Glen Morgan', 1),\n",
       " ('Justin Lin', 1),\n",
       " ('Eric Bress', 1),\n",
       " ('J. Mackye Gruber', 1),\n",
       " ('Jay Roach', 1),\n",
       " ('Brad Silberling', 1),\n",
       " ('Jeff Schaffer', 1),\n",
       " ('John Hamburg', 1),\n",
       " ('Philip Kaufman', 1),\n",
       " ('Sara Sugarman', 1),\n",
       " ('Guy Ferland', 1),\n",
       " ('Kevin Rodney Sullivan', 1),\n",
       " ('Joseph Kahn', 1),\n",
       " (\"Gavin O'Connor\", 1),\n",
       " ('Jay Chandrasekhar', 1),\n",
       " ('George Armitage', 1),\n",
       " ('Kevin Allen', 1),\n",
       " ('Jon Turteltaub', 1),\n",
       " ('GÃ¡bor CsupÃ³', 1),\n",
       " ('Tim Hill', 1),\n",
       " ('Chris Weitz', 1),\n",
       " ('Jon Avnet', 1),\n",
       " ('Mennan Yapo', 1),\n",
       " ('Dave Meyers', 1),\n",
       " ('Michael Winterbottom', 1),\n",
       " ('Brian Robbins', 1),\n",
       " ('Richard LaGravenese', 1),\n",
       " ('Jay Russell', 1),\n",
       " ('Jake Kasdan', 1),\n",
       " ('David Leland', 1),\n",
       " ('Peter Webber', 1),\n",
       " ('Tyler Perry', 1),\n",
       " ('Ben Garant', 1),\n",
       " ('Robert Zemeckis', 1),\n",
       " ('Mark Dindal', 1),\n",
       " ('David Twohy', 1),\n",
       " ('Ben Younger', 1),\n",
       " ('Sam Raimi', 1),\n",
       " ('Danny Leiner', 1),\n",
       " ('Jonathan Lynn', 1),\n",
       " ('Roger Donaldson', 1),\n",
       " ('Danny Boyle', 1),\n",
       " ('John Frankenheimer', 1),\n",
       " ('Gus Van Sant', 1),\n",
       " ('Jack Sholder', 1),\n",
       " ('Courtney Solomon', 1),\n",
       " ('Diane Keaton', 1)]"
      ]
     },
     "metadata": {},
     "output_type": "display_data"
    }
   ],
   "source": [
    "winter_production = data[data.release_month.isin([12, 1, 2])]\n",
    "winter_production_profit = pd.DataFrame(winter_production.director.str.split('|').tolist(), index=winter_production.profit).stack().reset_index([0, 'profit'])\n",
    "winter_production_profit.columns = ['profit', 'director']\n",
    "display(Counter(winter_production_profit.director).most_common())\n",
    "\n",
    "answer_ls.append(5)"
   ]
  },
  {
   "cell_type": "markdown",
   "metadata": {},
   "source": [
    "# 30. Какой месяц чаще всего по годам самый прибыльный?\n",
    "Варианты ответа:\n",
    "1. Январь\n",
    "2. Июнь\n",
    "3. Декабрь\n",
    "4. Сентябрь\n",
    "5. Май"
   ]
  },
  {
   "cell_type": "code",
   "execution_count": 34,
   "metadata": {},
   "outputs": [
    {
     "data": {
      "text/plain": [
       "6     7\n",
       "12    4\n",
       "5     4\n",
       "7     1\n",
       "dtype: int64"
      ]
     },
     "metadata": {},
     "output_type": "display_data"
    }
   ],
   "source": [
    "display(data.pivot_table(values='profit', aggfunc='sum', index='release_year', columns='release_month').idxmax(axis = 1).value_counts())\n",
    "\n",
    "answer_ls.append(2)"
   ]
  },
  {
   "cell_type": "markdown",
   "metadata": {},
   "source": [
    "# 31. Названия фильмов какой студии в среднем самые длинные по количеству символов?\n",
    "Варианты ответа:\n",
    "1. Universal Pictures (Universal)\n",
    "2. Warner Bros\n",
    "3. Jim Henson Company, The\n",
    "4. Paramount Pictures\n",
    "5. Four By Two Productions"
   ]
  },
  {
   "cell_type": "code",
   "execution_count": 35,
   "metadata": {},
   "outputs": [
    {
     "data": {
      "text/plain": [
       "company\n",
       "Four By Two Productions       83.0\n",
       "Jim Henson Company, The       59.0\n",
       "Dos Corazones                 47.0\n",
       "Polsky Films                  46.0\n",
       "Museum Canada Productions     46.0\n",
       "                              ... \n",
       "Everest Entertainment          3.0\n",
       "Berlanti Productions           3.0\n",
       "XM2 Productions                2.0\n",
       "Ixtlan Productions             2.0\n",
       "Global Entertainment Group     2.0\n",
       "Name: title_length, Length: 1772, dtype: float64"
      ]
     },
     "metadata": {},
     "output_type": "display_data"
    }
   ],
   "source": [
    "data['title_length'] = data.original_title.str.len()\n",
    "title_length_df = pd.DataFrame(data.production_companies.str.split('|').tolist(), index=data.title_length).stack().reset_index([0, 'title_length'])\n",
    "title_length_df.columns = ['title_length', 'company']\n",
    "display(title_length_df.pivot_table(values='title_length', aggfunc='mean', index='company').title_length.sort_values(ascending=False))\n",
    "answer_ls.append(5)"
   ]
  },
  {
   "cell_type": "markdown",
   "metadata": {},
   "source": [
    "# 32. Названия фильмов какой студии в среднем самые длинные по количеству слов?\n",
    "Варианты ответа:\n",
    "1. Universal Pictures (Universal)\n",
    "2. Warner Bros\n",
    "3. Jim Henson Company, The\n",
    "4. Paramount Pictures\n",
    "5. Four By Two Productions"
   ]
  },
  {
   "cell_type": "code",
   "execution_count": 36,
   "metadata": {},
   "outputs": [
    {
     "data": {
      "text/plain": [
       "company\n",
       "Four By Two Productions                  12.0\n",
       "Jim Henson Company, The                  10.0\n",
       "Polsky Films                              9.0\n",
       "The Saul Zaentz Company                   9.0\n",
       "Dos Corazones                             9.0\n",
       "                                         ... \n",
       "Many Rivers Productions                   1.0\n",
       "Maple Shade Films                         1.0\n",
       "Blue Productions                          1.0\n",
       "Blue Sea Productions                      1.0\n",
       "Great Wight Productions/ Osford Films     1.0\n",
       "Name: title_words, Length: 1772, dtype: float64"
      ]
     },
     "metadata": {},
     "output_type": "display_data"
    }
   ],
   "source": [
    "data['title_words'] = data.original_title.str.split().str.len()\n",
    "title_size_df = pd.DataFrame(data.production_companies.str.split('|').tolist(), index=data.title_words).stack().reset_index([0, 'title_words'])\n",
    "title_size_df.columns = ['title_words', 'company']\n",
    "display(title_size_df.pivot_table(values='title_words', aggfunc='mean', index='company').title_words.sort_values(ascending=False))\n",
    "answer_ls.append(5)"
   ]
  },
  {
   "cell_type": "markdown",
   "metadata": {},
   "source": [
    "# 33. Сколько разных слов используется в названиях фильмов?(без учета регистра)\n",
    "Варианты ответа:\n",
    "1. 6540\n",
    "2. 1002\n",
    "3. 2461\n",
    "4. 28304\n",
    "5. 3432"
   ]
  },
  {
   "cell_type": "code",
   "execution_count": 37,
   "metadata": {},
   "outputs": [
    {
     "data": {
      "text/plain": [
       "2461"
      ]
     },
     "metadata": {},
     "output_type": "display_data"
    }
   ],
   "source": [
    "words = np.concatenate(data.original_title.str.lower().str.split())\n",
    "display(len(set(words)))\n",
    "answer_ls.append(3)"
   ]
  },
  {
   "cell_type": "markdown",
   "metadata": {},
   "source": [
    "# 34. Какие фильмы входят в 1 процент лучших по рейтингу?\n",
    "Варианты ответа:\n",
    "1. Inside Out, Gone Girl, 12 Years a Slave\n",
    "2. BloodRayne, The Adventures of Rocky & Bullwinkle\n",
    "3. The Lord of the Rings: The Return of the King\n",
    "4. 300, Lucky Number Slevin"
   ]
  },
  {
   "cell_type": "code",
   "execution_count": 38,
   "metadata": {},
   "outputs": [
    {
     "data": {
      "text/plain": [
       "600                                       The Dark Knight\n",
       "125                                    The Imitation Game\n",
       "9                                              Inside Out\n",
       "118                                          Interstellar\n",
       "34                                                   Room\n",
       "1082        The Lord of the Rings: The Return of the King\n",
       "873                                           The Pianist\n",
       "1801                                              Memento\n",
       "1192                                     12 Years a Slave\n",
       "128                                             Gone Girl\n",
       "138                              The Grand Budapest Hotel\n",
       "119                               Guardians of the Galaxy\n",
       "1184                              The Wolf of Wall Street\n",
       "370                                             Inception\n",
       "316                                              3 Idiots\n",
       "1564                Eternal Sunshine of the Spotless Mind\n",
       "497     The Lord of the Rings: The Fellowship of the Ring\n",
       "28                                              Spotlight\n",
       "Name: original_title, dtype: object"
      ]
     },
     "metadata": {},
     "output_type": "display_data"
    }
   ],
   "source": [
    "one_percent = len(data) / 100\n",
    "display(data.sort_values(by='vote_average', ascending=False).head(int(one_percent)).original_title)\n",
    "answer_ls.append(1)"
   ]
  },
  {
   "cell_type": "markdown",
   "metadata": {},
   "source": [
    "# 35. Какие актеры чаще всего снимаются в одном фильме вместе\n",
    "Варианты ответа:\n",
    "1. Johnny Depp & Helena Bonham Carter\n",
    "2. Hugh Jackman & Ian McKellen\n",
    "3. Vin Diesel & Paul Walker\n",
    "4. Adam Sandler & Kevin James\n",
    "5. Daniel Radcliffe & Rupert Grint"
   ]
  },
  {
   "cell_type": "code",
   "execution_count": 39,
   "metadata": {},
   "outputs": [
    {
     "data": {
      "text/plain": [
       "[('Daniel Radcliffe,Rupert Grint', 8),\n",
       " ('Daniel Radcliffe,Emma Watson', 8),\n",
       " ('Rupert Grint,Emma Watson', 7),\n",
       " ('Ben Stiller,Owen Wilson', 6),\n",
       " ('Johnny Depp,Helena Bonham Carter', 6)]"
      ]
     },
     "metadata": {},
     "output_type": "display_data"
    }
   ],
   "source": [
    "from itertools import combinations\n",
    "actors_combinations = []\n",
    "for row in data.cast:\n",
    "    for doubles in combinations(row.split('|'), 2):\n",
    "        actors_combinations.append(','.join(doubles))\n",
    "display(Counter(actors_combinations).most_common(5))\n",
    "answer_ls.append(5)"
   ]
  },
  {
   "cell_type": "markdown",
   "metadata": {},
   "source": [
    "# 36. У какого из режиссеров выше вероятность выпустить фильм в прибыли? (5 баллов)101\n",
    "Варианты ответа:\n",
    "1. Quentin Tarantino\n",
    "2. Steven Soderbergh\n",
    "3. Robert Rodriguez\n",
    "4. Christopher Nolan\n",
    "5. Clint Eastwood"
   ]
  },
  {
   "cell_type": "code",
   "execution_count": 40,
   "metadata": {},
   "outputs": [
    {
     "data": {
      "text/html": [
       "<div>\n",
       "<style scoped>\n",
       "    .dataframe tbody tr th:only-of-type {\n",
       "        vertical-align: middle;\n",
       "    }\n",
       "\n",
       "    .dataframe tbody tr th {\n",
       "        vertical-align: top;\n",
       "    }\n",
       "\n",
       "    .dataframe thead tr th {\n",
       "        text-align: left;\n",
       "    }\n",
       "\n",
       "    .dataframe thead tr:last-of-type th {\n",
       "        text-align: right;\n",
       "    }\n",
       "</style>\n",
       "<table border=\"1\" class=\"dataframe\">\n",
       "  <thead>\n",
       "    <tr>\n",
       "      <th></th>\n",
       "      <th colspan=\"2\" halign=\"left\">profit</th>\n",
       "      <th>profitable_percent</th>\n",
       "    </tr>\n",
       "    <tr>\n",
       "      <th>is_profitable</th>\n",
       "      <th>False</th>\n",
       "      <th>True</th>\n",
       "      <th></th>\n",
       "    </tr>\n",
       "    <tr>\n",
       "      <th>director</th>\n",
       "      <th></th>\n",
       "      <th></th>\n",
       "      <th></th>\n",
       "    </tr>\n",
       "  </thead>\n",
       "  <tbody>\n",
       "    <tr>\n",
       "      <th>Christopher Nolan</th>\n",
       "      <td>0</td>\n",
       "      <td>8</td>\n",
       "      <td>1.000000</td>\n",
       "    </tr>\n",
       "    <tr>\n",
       "      <th>Quentin Tarantino</th>\n",
       "      <td>1</td>\n",
       "      <td>6</td>\n",
       "      <td>0.857143</td>\n",
       "    </tr>\n",
       "    <tr>\n",
       "      <th>Clint Eastwood</th>\n",
       "      <td>2</td>\n",
       "      <td>10</td>\n",
       "      <td>0.833333</td>\n",
       "    </tr>\n",
       "    <tr>\n",
       "      <th>Steven Soderbergh</th>\n",
       "      <td>3</td>\n",
       "      <td>10</td>\n",
       "      <td>0.769231</td>\n",
       "    </tr>\n",
       "    <tr>\n",
       "      <th>Robert Rodriguez</th>\n",
       "      <td>3</td>\n",
       "      <td>8</td>\n",
       "      <td>0.727273</td>\n",
       "    </tr>\n",
       "  </tbody>\n",
       "</table>\n",
       "</div>"
      ],
      "text/plain": [
       "                  profit      profitable_percent\n",
       "is_profitable      False True                   \n",
       "director                                        \n",
       "Christopher Nolan      0    8           1.000000\n",
       "Quentin Tarantino      1    6           0.857143\n",
       "Clint Eastwood         2   10           0.833333\n",
       "Steven Soderbergh      3   10           0.769231\n",
       "Robert Rodriguez       3    8           0.727273"
      ]
     },
     "metadata": {},
     "output_type": "display_data"
    }
   ],
   "source": [
    "directors_df = pd.DataFrame(data.director.str.split('|').tolist(), index=data.profit).stack().reset_index([0, 'profit'])\n",
    "directors_df.columns = ['profit', 'director']\n",
    "directors_df['is_profitable'] = directors_df.profit.map(lambda x: x > 0)\n",
    "directors_we_looking_for = ['Quentin Tarantino', 'Steven Soderbergh', 'Robert Rodriguez', 'Christopher Nolan', 'Clint Eastwood']\n",
    "directors_summary = pd.pivot_table(directors_df[directors_df.director.isin(directors_we_looking_for)], index='director', columns='is_profitable', aggfunc='count', fill_value=0)\n",
    "directors_summary['profitable_percent'] = directors_summary[('profit', True)]/(directors_summary[('profit', True)] + directors_summary[('profit', False)])\n",
    "display(directors_summary.sort_values(by=['profitable_percent', ('profit', True)], ascending=False))\n",
    "answer_ls.append(4)"
   ]
  },
  {
   "cell_type": "markdown",
   "metadata": {},
   "source": [
    "# Submission"
   ]
  },
  {
   "cell_type": "code",
   "execution_count": 41,
   "metadata": {},
   "outputs": [
    {
     "data": {
      "text/plain": [
       "36"
      ]
     },
     "execution_count": 41,
     "metadata": {},
     "output_type": "execute_result"
    }
   ],
   "source": [
    "len(answer_ls)"
   ]
  },
  {
   "cell_type": "code",
   "execution_count": 42,
   "metadata": {},
   "outputs": [
    {
     "data": {
      "text/html": [
       "<div>\n",
       "<style scoped>\n",
       "    .dataframe tbody tr th:only-of-type {\n",
       "        vertical-align: middle;\n",
       "    }\n",
       "\n",
       "    .dataframe tbody tr th {\n",
       "        vertical-align: top;\n",
       "    }\n",
       "\n",
       "    .dataframe thead th {\n",
       "        text-align: right;\n",
       "    }\n",
       "</style>\n",
       "<table border=\"1\" class=\"dataframe\">\n",
       "  <thead>\n",
       "    <tr style=\"text-align: right;\">\n",
       "      <th></th>\n",
       "      <th>Id</th>\n",
       "      <th>Answer</th>\n",
       "    </tr>\n",
       "  </thead>\n",
       "  <tbody>\n",
       "    <tr>\n",
       "      <th>0</th>\n",
       "      <td>1</td>\n",
       "      <td>4</td>\n",
       "    </tr>\n",
       "    <tr>\n",
       "      <th>1</th>\n",
       "      <td>2</td>\n",
       "      <td>2</td>\n",
       "    </tr>\n",
       "    <tr>\n",
       "      <th>2</th>\n",
       "      <td>3</td>\n",
       "      <td>3</td>\n",
       "    </tr>\n",
       "    <tr>\n",
       "      <th>3</th>\n",
       "      <td>4</td>\n",
       "      <td>2</td>\n",
       "    </tr>\n",
       "    <tr>\n",
       "      <th>4</th>\n",
       "      <td>5</td>\n",
       "      <td>1</td>\n",
       "    </tr>\n",
       "    <tr>\n",
       "      <th>5</th>\n",
       "      <td>6</td>\n",
       "      <td>5</td>\n",
       "    </tr>\n",
       "    <tr>\n",
       "      <th>6</th>\n",
       "      <td>7</td>\n",
       "      <td>2</td>\n",
       "    </tr>\n",
       "    <tr>\n",
       "      <th>7</th>\n",
       "      <td>8</td>\n",
       "      <td>1</td>\n",
       "    </tr>\n",
       "    <tr>\n",
       "      <th>8</th>\n",
       "      <td>9</td>\n",
       "      <td>4</td>\n",
       "    </tr>\n",
       "    <tr>\n",
       "      <th>9</th>\n",
       "      <td>10</td>\n",
       "      <td>5</td>\n",
       "    </tr>\n",
       "    <tr>\n",
       "      <th>10</th>\n",
       "      <td>11</td>\n",
       "      <td>3</td>\n",
       "    </tr>\n",
       "    <tr>\n",
       "      <th>11</th>\n",
       "      <td>12</td>\n",
       "      <td>3</td>\n",
       "    </tr>\n",
       "    <tr>\n",
       "      <th>12</th>\n",
       "      <td>13</td>\n",
       "      <td>3</td>\n",
       "    </tr>\n",
       "    <tr>\n",
       "      <th>13</th>\n",
       "      <td>14</td>\n",
       "      <td>4</td>\n",
       "    </tr>\n",
       "    <tr>\n",
       "      <th>14</th>\n",
       "      <td>15</td>\n",
       "      <td>5</td>\n",
       "    </tr>\n",
       "    <tr>\n",
       "      <th>15</th>\n",
       "      <td>16</td>\n",
       "      <td>1</td>\n",
       "    </tr>\n",
       "    <tr>\n",
       "      <th>16</th>\n",
       "      <td>17</td>\n",
       "      <td>3</td>\n",
       "    </tr>\n",
       "    <tr>\n",
       "      <th>17</th>\n",
       "      <td>18</td>\n",
       "      <td>3</td>\n",
       "    </tr>\n",
       "    <tr>\n",
       "      <th>18</th>\n",
       "      <td>19</td>\n",
       "      <td>2</td>\n",
       "    </tr>\n",
       "    <tr>\n",
       "      <th>19</th>\n",
       "      <td>20</td>\n",
       "      <td>1</td>\n",
       "    </tr>\n",
       "    <tr>\n",
       "      <th>20</th>\n",
       "      <td>21</td>\n",
       "      <td>4</td>\n",
       "    </tr>\n",
       "    <tr>\n",
       "      <th>21</th>\n",
       "      <td>22</td>\n",
       "      <td>2</td>\n",
       "    </tr>\n",
       "    <tr>\n",
       "      <th>22</th>\n",
       "      <td>23</td>\n",
       "      <td>3</td>\n",
       "    </tr>\n",
       "    <tr>\n",
       "      <th>23</th>\n",
       "      <td>24</td>\n",
       "      <td>1</td>\n",
       "    </tr>\n",
       "    <tr>\n",
       "      <th>24</th>\n",
       "      <td>25</td>\n",
       "      <td>5</td>\n",
       "    </tr>\n",
       "    <tr>\n",
       "      <th>25</th>\n",
       "      <td>26</td>\n",
       "      <td>1</td>\n",
       "    </tr>\n",
       "    <tr>\n",
       "      <th>26</th>\n",
       "      <td>27</td>\n",
       "      <td>4</td>\n",
       "    </tr>\n",
       "    <tr>\n",
       "      <th>27</th>\n",
       "      <td>28</td>\n",
       "      <td>2</td>\n",
       "    </tr>\n",
       "    <tr>\n",
       "      <th>28</th>\n",
       "      <td>29</td>\n",
       "      <td>5</td>\n",
       "    </tr>\n",
       "    <tr>\n",
       "      <th>29</th>\n",
       "      <td>30</td>\n",
       "      <td>2</td>\n",
       "    </tr>\n",
       "    <tr>\n",
       "      <th>30</th>\n",
       "      <td>31</td>\n",
       "      <td>5</td>\n",
       "    </tr>\n",
       "    <tr>\n",
       "      <th>31</th>\n",
       "      <td>32</td>\n",
       "      <td>5</td>\n",
       "    </tr>\n",
       "    <tr>\n",
       "      <th>32</th>\n",
       "      <td>33</td>\n",
       "      <td>3</td>\n",
       "    </tr>\n",
       "    <tr>\n",
       "      <th>33</th>\n",
       "      <td>34</td>\n",
       "      <td>1</td>\n",
       "    </tr>\n",
       "    <tr>\n",
       "      <th>34</th>\n",
       "      <td>35</td>\n",
       "      <td>5</td>\n",
       "    </tr>\n",
       "    <tr>\n",
       "      <th>35</th>\n",
       "      <td>36</td>\n",
       "      <td>4</td>\n",
       "    </tr>\n",
       "  </tbody>\n",
       "</table>\n",
       "</div>"
      ],
      "text/plain": [
       "    Id  Answer\n",
       "0    1       4\n",
       "1    2       2\n",
       "2    3       3\n",
       "3    4       2\n",
       "4    5       1\n",
       "5    6       5\n",
       "6    7       2\n",
       "7    8       1\n",
       "8    9       4\n",
       "9   10       5\n",
       "10  11       3\n",
       "11  12       3\n",
       "12  13       3\n",
       "13  14       4\n",
       "14  15       5\n",
       "15  16       1\n",
       "16  17       3\n",
       "17  18       3\n",
       "18  19       2\n",
       "19  20       1\n",
       "20  21       4\n",
       "21  22       2\n",
       "22  23       3\n",
       "23  24       1\n",
       "24  25       5\n",
       "25  26       1\n",
       "26  27       4\n",
       "27  28       2\n",
       "28  29       5\n",
       "29  30       2\n",
       "30  31       5\n",
       "31  32       5\n",
       "32  33       3\n",
       "33  34       1\n",
       "34  35       5\n",
       "35  36       4"
      ]
     },
     "execution_count": 42,
     "metadata": {},
     "output_type": "execute_result"
    }
   ],
   "source": [
    "pd.DataFrame({'Id':range(1,len(answer_ls)+1), 'Answer':answer_ls}, columns=['Id', 'Answer'])"
   ]
  },
  {
   "cell_type": "code",
   "execution_count": null,
   "metadata": {},
   "outputs": [],
   "source": []
  }
 ],
 "metadata": {
  "kernelspec": {
   "display_name": "Python 3",
   "language": "python",
   "name": "python3"
  },
  "language_info": {
   "codemirror_mode": {
    "name": "ipython",
    "version": 3
   },
   "file_extension": ".py",
   "mimetype": "text/x-python",
   "name": "python",
   "nbconvert_exporter": "python",
   "pygments_lexer": "ipython3",
   "version": "3.8.2"
  }
 },
 "nbformat": 4,
 "nbformat_minor": 4
}
